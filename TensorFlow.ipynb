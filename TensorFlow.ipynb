{
  "nbformat": 4,
  "nbformat_minor": 0,
  "metadata": {
    "colab": {
      "name": "TensorFlow.ipynb",
      "version": "0.3.2",
      "provenance": []
    },
    "kernelspec": {
      "display_name": "Python 3.6",
      "language": "python",
      "name": "python36"
    }
  },
  "cells": [
    {
      "metadata": {
        "id": "wcgRNWeOHEeI",
        "colab_type": "text"
      },
      "cell_type": "markdown",
      "source": [
        "# Get started with TensorFlow"
      ]
    },
    {
      "metadata": {
        "id": "oSWv-TrTHEeN",
        "colab_type": "code",
        "colab": {
          "base_uri": "https://localhost:8080/",
          "height": 263
        },
        "outputId": "aaecc7ea-17fb-4ad6-fb86-55b0daed4f2e"
      },
      "cell_type": "code",
      "source": [
        "import tensorflow as tf\n",
        "mnist = tf.keras.datasets.mnist\n",
        "\n",
        "(x_train, y_train),(x_test, y_test) = mnist.load_data()\n",
        "x_train, x_test = x_train / 255.0, x_test / 255.0\n",
        "\n",
        "model = tf.keras.models.Sequential([\n",
        "  tf.keras.layers.Flatten(),\n",
        "  tf.keras.layers.Dense(512, activation=tf.nn.relu),\n",
        "  tf.keras.layers.Dropout(0.2),\n",
        "  tf.keras.layers.Dense(10, activation=tf.nn.softmax)\n",
        "])\n",
        "model.compile(optimizer='adam',\n",
        "              loss='sparse_categorical_crossentropy',\n",
        "              metrics=['accuracy'])\n",
        "\n",
        "model.fit(x_train, y_train, epochs=5)\n",
        "model.evaluate(x_test, y_test)"
      ],
      "execution_count": 0,
      "outputs": [
        {
          "output_type": "stream",
          "text": [
            "Epoch 1/5\n",
            "60000/60000 [==============================] - 15s 251us/step - loss: 0.2190 - acc: 0.9354\n",
            "Epoch 2/5\n",
            "60000/60000 [==============================] - 15s 248us/step - loss: 0.0954 - acc: 0.9709\n",
            "Epoch 3/5\n",
            "15296/60000 [======>.......................] - ETA: 11s - loss: 0.0599 - acc: 0.9812"
          ],
          "name": "stdout"
        },
        {
          "output_type": "stream",
          "text": [
            "60000/60000 [==============================] - 15s 246us/step - loss: 0.0658 - acc: 0.9792\n",
            "Epoch 4/5\n",
            "60000/60000 [==============================] - 15s 249us/step - loss: 0.0522 - acc: 0.9830\n",
            "Epoch 5/5\n",
            "24736/60000 [===========>..................] - ETA: 8s - loss: 0.0419 - acc: 0.9867"
          ],
          "name": "stdout"
        },
        {
          "output_type": "stream",
          "text": [
            "60000/60000 [==============================] - 15s 247us/step - loss: 0.0442 - acc: 0.9854\n",
            "10000/10000 [==============================] - 0s 50us/step\n"
          ],
          "name": "stdout"
        },
        {
          "output_type": "execute_result",
          "data": {
            "text/plain": [
              "[0.058035363704263, 0.9823]"
            ]
          },
          "metadata": {
            "tags": []
          },
          "execution_count": 12
        }
      ]
    },
    {
      "metadata": {
        "id": "9seGyOg3HEeg",
        "colab_type": "text"
      },
      "cell_type": "markdown",
      "source": [
        "## Learn and use ML"
      ]
    },
    {
      "metadata": {
        "id": "3yRF7nb_S-M-",
        "colab_type": "text"
      },
      "cell_type": "markdown",
      "source": [
        "### Train neural network: basic classification"
      ]
    },
    {
      "metadata": {
        "id": "JQ6O8O1rUdUl",
        "colab_type": "text"
      },
      "cell_type": "markdown",
      "source": [
        "#### Import the Fashion MNIST dataset"
      ]
    },
    {
      "metadata": {
        "id": "7GXn4IUqTLoY",
        "colab_type": "code",
        "colab": {
          "base_uri": "https://localhost:8080/",
          "height": 36
        },
        "outputId": "bf8c1de7-b4c3-4207-f8a1-0350e3711f13"
      },
      "cell_type": "code",
      "source": [
        "# TensorFlow and tf.keras\n",
        "import tensorflow as tf\n",
        "from tensorflow import keras\n",
        "\n",
        "# Helper libraries\n",
        "import numpy as np\n",
        "import matplotlib.pyplot as plt\n",
        "\n",
        "print(tf.__version__)"
      ],
      "execution_count": 2,
      "outputs": [
        {
          "output_type": "stream",
          "text": [
            "1.9.0\n"
          ],
          "name": "stdout"
        }
      ]
    },
    {
      "metadata": {
        "id": "BCdunJo9TVW5",
        "colab_type": "code",
        "colab": {
          "base_uri": "https://localhost:8080/",
          "height": 225
        },
        "outputId": "ec133389-5aaf-48d4-b89f-7c5159cfe3f7"
      },
      "cell_type": "code",
      "source": [
        "fashion_mnist = keras.datasets.fashion_mnist\n",
        "\n",
        "(train_images, train_labels), (test_images, test_labels) = fashion_mnist.load_data()"
      ],
      "execution_count": 0,
      "outputs": [
        {
          "output_type": "stream",
          "text": [
            "Downloading data from http://fashion-mnist.s3-website.eu-central-1.amazonaws.com/train-labels-idx1-ubyte.gz\n",
            "32768/29515 [=================================] - 0s 3us/step\n",
            "40960/29515 [=========================================] - 0s 3us/step\n",
            "Downloading data from http://fashion-mnist.s3-website.eu-central-1.amazonaws.com/train-images-idx3-ubyte.gz\n",
            "26427392/26421880 [==============================] - 7s 0us/step\n",
            "26435584/26421880 [==============================] - 7s 0us/step\n",
            "Downloading data from http://fashion-mnist.s3-website.eu-central-1.amazonaws.com/t10k-labels-idx1-ubyte.gz\n",
            "16384/5148 [===============================================================================================] - 0s 0us/step\n",
            "Downloading data from http://fashion-mnist.s3-website.eu-central-1.amazonaws.com/t10k-images-idx3-ubyte.gz\n",
            "4423680/4422102 [==============================] - 3s 1us/step\n",
            "4431872/4422102 [==============================] - 3s 1us/step\n"
          ],
          "name": "stdout"
        }
      ]
    },
    {
      "metadata": {
        "id": "xzTRUAn-Tchx",
        "colab_type": "code",
        "colab": {}
      },
      "cell_type": "code",
      "source": [
        "class_names = ['T-shirt/top', 'Trouser', 'Pullover', 'Dress', 'Coat', \n",
        "               'Sandal', 'Shirt', 'Sneaker', 'Bag', 'Ankle boot']"
      ],
      "execution_count": 0,
      "outputs": []
    },
    {
      "metadata": {
        "id": "wqJGxhCeUmwl",
        "colab_type": "text"
      },
      "cell_type": "markdown",
      "source": [
        "#### Explore the data"
      ]
    },
    {
      "metadata": {
        "id": "Xx_LyZDhUnZe",
        "colab_type": "code",
        "colab": {
          "base_uri": "https://localhost:8080/",
          "height": 36
        },
        "outputId": "edcc6f2b-5408-4e89-ac28-92aa9d91470d"
      },
      "cell_type": "code",
      "source": [
        "train_images.shape"
      ],
      "execution_count": 0,
      "outputs": [
        {
          "output_type": "execute_result",
          "data": {
            "text/plain": [
              "(60000, 28, 28)"
            ]
          },
          "metadata": {
            "tags": []
          },
          "execution_count": 11
        }
      ]
    },
    {
      "metadata": {
        "id": "ET2zN3EjTtEB",
        "colab_type": "code",
        "colab": {
          "base_uri": "https://localhost:8080/",
          "height": 36
        },
        "outputId": "2dba4bf9-ab34-47a9-f7f6-2765bccd2436"
      },
      "cell_type": "code",
      "source": [
        "len(train_labels)"
      ],
      "execution_count": 0,
      "outputs": [
        {
          "output_type": "execute_result",
          "data": {
            "text/plain": [
              "60000"
            ]
          },
          "metadata": {
            "tags": []
          },
          "execution_count": 8
        }
      ]
    },
    {
      "metadata": {
        "id": "3RmXa-qCTvNu",
        "colab_type": "code",
        "colab": {
          "base_uri": "https://localhost:8080/",
          "height": 36
        },
        "outputId": "7d369641-478a-48e2-f52d-72168eeb8417"
      },
      "cell_type": "code",
      "source": [
        "test_images.shape"
      ],
      "execution_count": 0,
      "outputs": [
        {
          "output_type": "execute_result",
          "data": {
            "text/plain": [
              "(10000, 28, 28)"
            ]
          },
          "metadata": {
            "tags": []
          },
          "execution_count": 7
        }
      ]
    },
    {
      "metadata": {
        "id": "eUZXyzLcTyzE",
        "colab_type": "code",
        "colab": {
          "base_uri": "https://localhost:8080/",
          "height": 36
        },
        "outputId": "1c70a1fe-738f-48d1-9717-675da9894922"
      },
      "cell_type": "code",
      "source": [
        "len(test_labels)"
      ],
      "execution_count": 0,
      "outputs": [
        {
          "output_type": "execute_result",
          "data": {
            "text/plain": [
              "10000"
            ]
          },
          "metadata": {
            "tags": []
          },
          "execution_count": 9
        }
      ]
    },
    {
      "metadata": {
        "id": "rukSip-lUvDu",
        "colab_type": "text"
      },
      "cell_type": "markdown",
      "source": [
        "#### Preprocess the data"
      ]
    },
    {
      "metadata": {
        "id": "f-lks_VGUy0S",
        "colab_type": "code",
        "colab": {
          "base_uri": "https://localhost:8080/",
          "height": 347
        },
        "outputId": "da55991d-9fde-48e0-8478-5426f64b2a7a"
      },
      "cell_type": "code",
      "source": [
        "plt.figure()\n",
        "plt.imshow(train_images[0])\n",
        "plt.colorbar()\n",
        "plt.gca().grid(False)"
      ],
      "execution_count": 0,
      "outputs": [
        {
          "output_type": "display_data",
          "data": {
            "image/png": "[encoded data removed]",
            "text/plain": [
              "<matplotlib.figure.Figure at 0x7f7d8a9cbc50>"
            ]
          },
          "metadata": {
            "tags": []
          }
        }
      ]
    },
    {
      "metadata": {
        "id": "EYB5lNYtVm4r",
        "colab_type": "code",
        "colab": {}
      },
      "cell_type": "code",
      "source": [
        "train_images = train_images / 255.0\n",
        "\n",
        "test_images = test_images / 255.0"
      ],
      "execution_count": 0,
      "outputs": []
    },
    {
      "metadata": {
        "id": "Gq5QJ699V30t",
        "colab_type": "code",
        "colab": {
          "base_uri": "https://localhost:8080/",
          "height": 589
        },
        "outputId": "91224391-9977-4917-f35f-18a444cd014c"
      },
      "cell_type": "code",
      "source": [
        "import matplotlib.pyplot as plt\n",
        "%matplotlib inline\n",
        "\n",
        "plt.figure(figsize=(10,10))\n",
        "for i in range(25):\n",
        "    plt.subplot(5,5,i+1)\n",
        "    plt.xticks([])\n",
        "    plt.yticks([])\n",
        "    plt.grid('off')\n",
        "    plt.imshow(train_images[i], cmap=plt.cm.binary)\n",
        "    plt.xlabel(class_names[train_labels[i]])"
      ],
      "execution_count": 0,
      "outputs": [
        {
          "output_type": "display_data",
          "data": {
            "image/png": "[encoded data removed]",
            "text/plain": [
              "<matplotlib.figure.Figure at 0x7f7d882b7d10>"
            ]
          },
          "metadata": {
            "tags": []
          }
        }
      ]
    },
    {
      "metadata": {
        "id": "92B-AQJIWeyB",
        "colab_type": "text"
      },
      "cell_type": "markdown",
      "source": [
        "#### Build the model"
      ]
    },
    {
      "metadata": {
        "id": "3348ycOTWks9",
        "colab_type": "text"
      },
      "cell_type": "markdown",
      "source": [
        "##### Setup the layers"
      ]
    },
    {
      "metadata": {
        "id": "0nbXzbhcWjz3",
        "colab_type": "code",
        "colab": {}
      },
      "cell_type": "code",
      "source": [
        "model = keras.Sequential([\n",
        "    keras.layers.Flatten(input_shape=(28, 28)),\n",
        "    keras.layers.Dense(128, activation=tf.nn.relu),\n",
        "    keras.layers.Dense(10, activation=tf.nn.softmax)\n",
        "])"
      ],
      "execution_count": 0,
      "outputs": []
    },
    {
      "metadata": {
        "id": "U81OoY87WuZ5",
        "colab_type": "text"
      },
      "cell_type": "markdown",
      "source": [
        "##### Compile the model"
      ]
    },
    {
      "metadata": {
        "id": "deG6oc1SWrnj",
        "colab_type": "code",
        "colab": {}
      },
      "cell_type": "code",
      "source": [
        "model.compile(optimizer=tf.train.AdamOptimizer(), \n",
        "              loss='sparse_categorical_crossentropy',\n",
        "              metrics=['accuracy'])"
      ],
      "execution_count": 0,
      "outputs": []
    },
    {
      "metadata": {
        "id": "D_-u36P0Yrbm",
        "colab_type": "text"
      },
      "cell_type": "markdown",
      "source": [
        "#### Train the model"
      ]
    },
    {
      "metadata": {
        "id": "h1N10hxFYwPt",
        "colab_type": "code",
        "colab": {
          "base_uri": "https://localhost:8080/",
          "height": 245
        },
        "outputId": "b6ef6087-52b1-4a81-8588-8d297fbbd208"
      },
      "cell_type": "code",
      "source": [
        "model.fit(train_images, train_labels, epochs=5)"
      ],
      "execution_count": 0,
      "outputs": [
        {
          "output_type": "stream",
          "text": [
            "Epoch 1/5\n",
            "60000/60000 [==============================] - 5s 78us/step - loss: 0.4978 - acc: 0.8261\n",
            "Epoch 2/5\n",
            "60000/60000 [==============================] - 4s 72us/step - loss: 0.3750 - acc: 0.8637\n",
            "Epoch 3/5\n",
            "60000/60000 [==============================] - 4s 74us/step - loss: 0.3356 - acc: 0.8779\n",
            "Epoch 4/5\n",
            "60000/60000 [==============================] - 4s 73us/step - loss: 0.3130 - acc: 0.8845\n",
            "Epoch 5/5\n",
            "20224/60000 [=========>....................] - ETA: 2s - loss: 0.2972 - acc: 0.8929"
          ],
          "name": "stdout"
        },
        {
          "output_type": "stream",
          "text": [
            "60000/60000 [==============================] - 4s 73us/step - loss: 0.2962 - acc: 0.8903\n"
          ],
          "name": "stdout"
        },
        {
          "output_type": "execute_result",
          "data": {
            "text/plain": [
              "<tensorflow.python.keras.callbacks.History at 0x7f7d8845db90>"
            ]
          },
          "metadata": {
            "tags": []
          },
          "execution_count": 18
        }
      ]
    },
    {
      "metadata": {
        "id": "JkZ9bwReZFVe",
        "colab_type": "text"
      },
      "cell_type": "markdown",
      "source": [
        "#### Evaluate accuracy"
      ]
    },
    {
      "metadata": {
        "id": "DYw6PNPRZIxs",
        "colab_type": "code",
        "colab": {
          "base_uri": "https://localhost:8080/",
          "height": 55
        },
        "outputId": "c722d343-f29a-412f-b5d8-e6774546e412"
      },
      "cell_type": "code",
      "source": [
        "test_loss, test_acc = model.evaluate(test_images, test_labels)\n",
        "\n",
        "print('Test accuracy:', test_acc)"
      ],
      "execution_count": 0,
      "outputs": [
        {
          "output_type": "stream",
          "text": [
            "10000/10000 [==============================] - 0s 27us/step\n",
            "('Test accuracy:', 0.8779)\n"
          ],
          "name": "stdout"
        }
      ]
    },
    {
      "metadata": {
        "id": "LOFTfJcgZTrF",
        "colab_type": "text"
      },
      "cell_type": "markdown",
      "source": [
        "#### Make predictions"
      ]
    },
    {
      "metadata": {
        "id": "TD0M2VU-ZXAM",
        "colab_type": "code",
        "colab": {
          "base_uri": "https://localhost:8080/",
          "height": 74
        },
        "outputId": "bc175c89-829e-4b76-92ce-9f3e6adb4bb4"
      },
      "cell_type": "code",
      "source": [
        "predictions = model.predict(test_images)\n",
        "predictions[0]"
      ],
      "execution_count": 0,
      "outputs": [
        {
          "output_type": "execute_result",
          "data": {
            "text/plain": [
              "array([7.3492383e-06, 3.6656463e-08, 1.3729948e-07, 2.0216341e-08,\n",
              "       3.5886426e-06, 1.3199381e-02, 2.8355205e-05, 6.1611027e-02,\n",
              "       2.6625770e-05, 9.2512345e-01], dtype=float32)"
            ]
          },
          "metadata": {
            "tags": []
          },
          "execution_count": 20
        }
      ]
    },
    {
      "metadata": {
        "id": "Lu0RvrBFZ8J9",
        "colab_type": "code",
        "colab": {
          "base_uri": "https://localhost:8080/",
          "height": 36
        },
        "outputId": "4bdd34b6-1ae1-4342-935b-305d76760eaa"
      },
      "cell_type": "code",
      "source": [
        "np.argmax(predictions[0])"
      ],
      "execution_count": 0,
      "outputs": [
        {
          "output_type": "execute_result",
          "data": {
            "text/plain": [
              "9"
            ]
          },
          "metadata": {
            "tags": []
          },
          "execution_count": 21
        }
      ]
    },
    {
      "metadata": {
        "id": "uoNF8KFoZ9zN",
        "colab_type": "code",
        "colab": {
          "base_uri": "https://localhost:8080/",
          "height": 36
        },
        "outputId": "86f479ad-84ac-4566-c04f-a7285246d3d2"
      },
      "cell_type": "code",
      "source": [
        "test_labels[0]"
      ],
      "execution_count": 0,
      "outputs": [
        {
          "output_type": "execute_result",
          "data": {
            "text/plain": [
              "9"
            ]
          },
          "metadata": {
            "tags": []
          },
          "execution_count": 22
        }
      ]
    },
    {
      "metadata": {
        "id": "C1A_eS1maAU8",
        "colab_type": "code",
        "colab": {
          "base_uri": "https://localhost:8080/",
          "height": 589
        },
        "outputId": "6b192027-1f9d-4748-b805-36b185e98b8a"
      },
      "cell_type": "code",
      "source": [
        "# Plot the first 25 test images, their predicted label, and the true label\n",
        "# Color correct predictions in green, incorrect predictions in red\n",
        "plt.figure(figsize=(10,10))\n",
        "for i in range(25):\n",
        "    plt.subplot(5,5,i+1)\n",
        "    plt.xticks([])\n",
        "    plt.yticks([])\n",
        "    plt.grid('off')\n",
        "    plt.imshow(test_images[i], cmap=plt.cm.binary)\n",
        "    predicted_label = np.argmax(predictions[i])\n",
        "    true_label = test_labels[i]\n",
        "    if predicted_label == true_label:\n",
        "      color = 'green'\n",
        "    else:\n",
        "      color = 'red'\n",
        "    plt.xlabel(\"{} ({})\".format(class_names[predicted_label], \n",
        "                                  class_names[true_label]),\n",
        "                                  color=color)"
      ],
      "execution_count": 0,
      "outputs": [
        {
          "output_type": "display_data",
          "data": {
            "image/png": "[encoded data removed]",
            "text/plain": [
              "<matplotlib.figure.Figure at 0x7f7d872f70d0>"
            ]
          },
          "metadata": {
            "tags": []
          }
        }
      ]
    },
    {
      "metadata": {
        "id": "DjdgXau7agxN",
        "colab_type": "code",
        "colab": {
          "base_uri": "https://localhost:8080/",
          "height": 36
        },
        "outputId": "d1bf14d7-ae6f-4b48-91df-70f4000dcd21"
      },
      "cell_type": "code",
      "source": [
        "# Grab an image from the test dataset\n",
        "img = test_images[0]\n",
        "print(img.shape)"
      ],
      "execution_count": 0,
      "outputs": [
        {
          "output_type": "stream",
          "text": [
            "(28, 28)\n"
          ],
          "name": "stdout"
        }
      ]
    },
    {
      "metadata": {
        "id": "gWugCNJ7akNn",
        "colab_type": "code",
        "colab": {
          "base_uri": "https://localhost:8080/",
          "height": 36
        },
        "outputId": "10334acc-3ace-467a-920e-e561a793648a"
      },
      "cell_type": "code",
      "source": [
        "# Add the image to a batch where it's the only member.\n",
        "img = (np.expand_dims(img,0))\n",
        "print(img.shape)"
      ],
      "execution_count": 0,
      "outputs": [
        {
          "output_type": "stream",
          "text": [
            "(1, 28, 28)\n"
          ],
          "name": "stdout"
        }
      ]
    },
    {
      "metadata": {
        "id": "aybyco2jaoX8",
        "colab_type": "code",
        "colab": {
          "base_uri": "https://localhost:8080/",
          "height": 55
        },
        "outputId": "80c7271c-bee6-4813-88f5-f95e64604da4"
      },
      "cell_type": "code",
      "source": [
        "predictions = model.predict(img)\n",
        "\n",
        "print(predictions)"
      ],
      "execution_count": 0,
      "outputs": [
        {
          "output_type": "stream",
          "text": [
            "[[7.3492383e-06 3.6656463e-08 1.3729974e-07 2.0216341e-08 3.5886392e-06\n",
            "  1.3199394e-02 2.8355205e-05 6.1611027e-02 2.6625770e-05 9.2512345e-01]]\n"
          ],
          "name": "stdout"
        }
      ]
    },
    {
      "metadata": {
        "id": "tZSHADKWarw9",
        "colab_type": "code",
        "colab": {
          "base_uri": "https://localhost:8080/",
          "height": 36
        },
        "outputId": "49748867-04ed-4a31-ac4d-414181e1e2a8"
      },
      "cell_type": "code",
      "source": [
        "prediction = predictions[0]\n",
        "\n",
        "np.argmax(prediction)"
      ],
      "execution_count": 0,
      "outputs": [
        {
          "output_type": "execute_result",
          "data": {
            "text/plain": [
              "9"
            ]
          },
          "metadata": {
            "tags": []
          },
          "execution_count": 27
        }
      ]
    },
    {
      "metadata": {
        "id": "KR2_Ckr1hcHL",
        "colab_type": "text"
      },
      "cell_type": "markdown",
      "source": [
        "###  Classify movie reviews: binary classification"
      ]
    },
    {
      "metadata": {
        "id": "Kz3bKqshhgnU",
        "colab_type": "text"
      },
      "cell_type": "markdown",
      "source": [
        "#### Download the IMDB dataset"
      ]
    },
    {
      "metadata": {
        "id": "VBWmTlo4he6s",
        "colab_type": "code",
        "colab": {}
      },
      "cell_type": "code",
      "source": [
        "imdb = keras.datasets.imdb\n",
        "\n",
        "(train_data, train_labels), (test_data, test_labels) = imdb.load_data(num_words=10000)"
      ],
      "execution_count": 0,
      "outputs": []
    },
    {
      "metadata": {
        "id": "5lJ5cASejJ22",
        "colab_type": "text"
      },
      "cell_type": "markdown",
      "source": [
        "#### Explore the data"
      ]
    },
    {
      "metadata": {
        "id": "upJACI1AiRhI",
        "colab_type": "code",
        "colab": {
          "base_uri": "https://localhost:8080/",
          "height": 36
        },
        "outputId": "0ee6ea70-e709-40a7-c53f-c96ce0517f90"
      },
      "cell_type": "code",
      "source": [
        "print(\"Training entries: {}, labels: {}\".format(len(train_data), len(train_labels)))"
      ],
      "execution_count": 0,
      "outputs": [
        {
          "output_type": "stream",
          "text": [
            "Training entries: 25000, labels: 25000\n"
          ],
          "name": "stdout"
        }
      ]
    },
    {
      "metadata": {
        "id": "r9Ye7-O8iplh",
        "colab_type": "code",
        "colab": {
          "base_uri": "https://localhost:8080/",
          "height": 56
        },
        "outputId": "e9cc3163-cc44-4836-dd1a-cbaa6d47d8b8"
      },
      "cell_type": "code",
      "source": [
        "print(train_data[0])"
      ],
      "execution_count": 0,
      "outputs": [
        {
          "output_type": "stream",
          "text": [
            "[1, 14, 22, 16, 43, 530, 973, 1622, 1385, 65, 458, 4468, 66, 3941, 4, 173, 36, 256, 5, 25, 100, 43, 838, 112, 50, 670, 2, 9, 35, 480, 284, 5, 150, 4, 172, 112, 167, 2, 336, 385, 39, 4, 172, 4536, 1111, 17, 546, 38, 13, 447, 4, 192, 50, 16, 6, 147, 2025, 19, 14, 22, 4, 1920, 4613, 469, 4, 22, 71, 87, 12, 16, 43, 530, 38, 76, 15, 13, 1247, 4, 22, 17, 515, 17, 12, 16, 626, 18, 2, 5, 62, 386, 12, 8, 316, 8, 106, 5, 4, 2223, 5244, 16, 480, 66, 3785, 33, 4, 130, 12, 16, 38, 619, 5, 25, 124, 51, 36, 135, 48, 25, 1415, 33, 6, 22, 12, 215, 28, 77, 52, 5, 14, 407, 16, 82, 2, 8, 4, 107, 117, 5952, 15, 256, 4, 2, 7, 3766, 5, 723, 36, 71, 43, 530, 476, 26, 400, 317, 46, 7, 4, 2, 1029, 13, 104, 88, 4, 381, 15, 297, 98, 32, 2071, 56, 26, 141, 6, 194, 7486, 18, 4, 226, 22, 21, 134, 476, 26, 480, 5, 144, 30, 5535, 18, 51, 36, 28, 224, 92, 25, 104, 4, 226, 65, 16, 38, 1334, 88, 12, 16, 283, 5, 16, 4472, 113, 103, 32, 15, 16, 5345, 19, 178, 32]\n"
          ],
          "name": "stdout"
        }
      ]
    },
    {
      "metadata": {
        "id": "XBvlgW-QjCSI",
        "colab_type": "code",
        "colab": {
          "base_uri": "https://localhost:8080/",
          "height": 36
        },
        "outputId": "22416b24-d03c-4b42-c16c-757e623b188b"
      },
      "cell_type": "code",
      "source": [
        "len(train_data[0]), len(train_data[1])"
      ],
      "execution_count": 0,
      "outputs": [
        {
          "output_type": "execute_result",
          "data": {
            "text/plain": [
              "(218, 189)"
            ]
          },
          "metadata": {
            "tags": []
          },
          "execution_count": 6
        }
      ]
    },
    {
      "metadata": {
        "id": "zGtfTMioml7m",
        "colab_type": "text"
      },
      "cell_type": "markdown",
      "source": [
        "##### Convert the integers back to words"
      ]
    },
    {
      "metadata": {
        "id": "LcRlGjBUmtl1",
        "colab_type": "code",
        "colab": {}
      },
      "cell_type": "code",
      "source": [
        "# A dictionary mapping words to an integer index\n",
        "word_index = imdb.get_word_index()\n",
        "\n",
        "# The first indices are reserved\n",
        "word_index = {k:(v+3) for k,v in word_index.items()} \n",
        "word_index[\"<PAD>\"] = 0\n",
        "word_index[\"<START>\"] = 1\n",
        "word_index[\"<UNK>\"] = 2  # unknown\n",
        "word_index[\"<UNUSED>\"] = 3\n",
        "reverse_word_index = dict([(value, key) for (key, value) in word_index.items()])\n",
        "\n",
        "def decode_review(text):\n",
        "    return ' '.join([reverse_word_index.get(i, '?') for i in text])"
      ],
      "execution_count": 0,
      "outputs": []
    },
    {
      "metadata": {
        "id": "O2QC58Gtq9ZD",
        "colab_type": "code",
        "colab": {
          "base_uri": "https://localhost:8080/",
          "height": 56
        },
        "outputId": "12c9370a-439b-40f5-972c-d112bf25cdd5"
      },
      "cell_type": "code",
      "source": [
        "decode_review(train_data[0])"
      ],
      "execution_count": 0,
      "outputs": [
        {
          "output_type": "execute_result",
          "data": {
            "text/plain": [
              "u\"<START> this film was just brilliant casting location scenery story direction everyone's really suited the part they played and you could just imagine being there robert <UNK> is an amazing actor and now the same being director <UNK> father came from the same scottish island as myself so i loved the fact there was a real connection with this film the witty remarks throughout the film were great it was just brilliant so much that i bought the film as soon as it was released for <UNK> and would recommend it to everyone to watch and the fly fishing was amazing really cried at the end it was so sad and you know what they say if you cry at a film it must have been good and this definitely was also <UNK> to the two little boy's that played the <UNK> of norman and paul they were just brilliant children are often left out of the <UNK> list i think because the stars that play them all grown up are such a big profile for the whole film but these children are amazing and should be praised for what they have done don't you think the whole story was so lovely because it was true and was someone's life after all that was shared with us all\""
            ]
          },
          "metadata": {
            "tags": []
          },
          "execution_count": 9
        }
      ]
    },
    {
      "metadata": {
        "id": "p7xbJH-UC4WL",
        "colab_type": "text"
      },
      "cell_type": "markdown",
      "source": [
        "#### Prepare the data"
      ]
    },
    {
      "metadata": {
        "id": "hjPPMSXqC_fW",
        "colab_type": "code",
        "colab": {}
      },
      "cell_type": "code",
      "source": [
        "train_data = keras.preprocessing.sequence.pad_sequences(train_data,\n",
        "                                                        value=word_index[\"<PAD>\"],\n",
        "                                                        padding='post',\n",
        "                                                        maxlen=256)\n",
        "\n",
        "test_data = keras.preprocessing.sequence.pad_sequences(test_data,\n",
        "                                                       value=word_index[\"<PAD>\"],\n",
        "                                                       padding='post',\n",
        "                                                       maxlen=256)"
      ],
      "execution_count": 0,
      "outputs": []
    },
    {
      "metadata": {
        "id": "-NxrfluJDFuv",
        "colab_type": "code",
        "colab": {
          "base_uri": "https://localhost:8080/",
          "height": 36
        },
        "outputId": "29f7d175-43d6-4dc9-ffe7-42adf0571136"
      },
      "cell_type": "code",
      "source": [
        "len(train_data[0]), len(train_data[1])"
      ],
      "execution_count": 0,
      "outputs": [
        {
          "output_type": "execute_result",
          "data": {
            "text/plain": [
              "(256, 256)"
            ]
          },
          "metadata": {
            "tags": []
          },
          "execution_count": 19
        }
      ]
    },
    {
      "metadata": {
        "id": "mOM7z8wdDI-n",
        "colab_type": "code",
        "colab": {
          "base_uri": "https://localhost:8080/",
          "height": 375
        },
        "outputId": "1a24f1a4-9675-4acc-a969-2853ca6b1beb"
      },
      "cell_type": "code",
      "source": [
        "print(train_data[0])"
      ],
      "execution_count": 0,
      "outputs": [
        {
          "output_type": "stream",
          "text": [
            "[   1   14   22   16   43  530  973 1622 1385   65  458 4468   66 3941\n",
            "    4  173   36  256    5   25  100   43  838  112   50  670    2    9\n",
            "   35  480  284    5  150    4  172  112  167    2  336  385   39    4\n",
            "  172 4536 1111   17  546   38   13  447    4  192   50   16    6  147\n",
            " 2025   19   14   22    4 1920 4613  469    4   22   71   87   12   16\n",
            "   43  530   38   76   15   13 1247    4   22   17  515   17   12   16\n",
            "  626   18    2    5   62  386   12    8  316    8  106    5    4 2223\n",
            " 5244   16  480   66 3785   33    4  130   12   16   38  619    5   25\n",
            "  124   51   36  135   48   25 1415   33    6   22   12  215   28   77\n",
            "   52    5   14  407   16   82    2    8    4  107  117 5952   15  256\n",
            "    4    2    7 3766    5  723   36   71   43  530  476   26  400  317\n",
            "   46    7    4    2 1029   13  104   88    4  381   15  297   98   32\n",
            " 2071   56   26  141    6  194 7486   18    4  226   22   21  134  476\n",
            "   26  480    5  144   30 5535   18   51   36   28  224   92   25  104\n",
            "    4  226   65   16   38 1334   88   12   16  283    5   16 4472  113\n",
            "  103   32   15   16 5345   19  178   32    0    0    0    0    0    0\n",
            "    0    0    0    0    0    0    0    0    0    0    0    0    0    0\n",
            "    0    0    0    0    0    0    0    0    0    0    0    0    0    0\n",
            "    0    0    0    0]\n"
          ],
          "name": "stdout"
        }
      ]
    },
    {
      "metadata": {
        "id": "rLd1R7UvDOkS",
        "colab_type": "text"
      },
      "cell_type": "markdown",
      "source": [
        "#### Build the model"
      ]
    },
    {
      "metadata": {
        "id": "I5mrcXqgDTNH",
        "colab_type": "code",
        "colab": {
          "base_uri": "https://localhost:8080/",
          "height": 300
        },
        "outputId": "5273b056-a4de-4878-de31-ba80aa49fabd"
      },
      "cell_type": "code",
      "source": [
        "# input shape is the vocabulary count used for the movie reviews (10,000 words)\n",
        "vocab_size = 10000\n",
        "\n",
        "model = keras.Sequential()\n",
        "model.add(keras.layers.Embedding(vocab_size, 16))\n",
        "model.add(keras.layers.GlobalAveragePooling1D())\n",
        "model.add(keras.layers.Dense(16, activation=tf.nn.relu))\n",
        "model.add(keras.layers.Dense(1, activation=tf.nn.sigmoid))\n",
        "\n",
        "model.summary()"
      ],
      "execution_count": 0,
      "outputs": [
        {
          "output_type": "stream",
          "text": [
            "_________________________________________________________________\n",
            "Layer (type)                 Output Shape              Param #   \n",
            "=================================================================\n",
            "embedding (Embedding)        (None, None, 16)          160000    \n",
            "_________________________________________________________________\n",
            "global_average_pooling1d (Gl (None, 16)                0         \n",
            "_________________________________________________________________\n",
            "dense_4 (Dense)              (None, 16)                272       \n",
            "_________________________________________________________________\n",
            "dense_5 (Dense)              (None, 1)                 17        \n",
            "=================================================================\n",
            "Total params: 160,289\n",
            "Trainable params: 160,289\n",
            "Non-trainable params: 0\n",
            "_________________________________________________________________\n"
          ],
          "name": "stdout"
        }
      ]
    },
    {
      "metadata": {
        "id": "TiuWzcB-FKat",
        "colab_type": "code",
        "colab": {}
      },
      "cell_type": "code",
      "source": [
        "model.compile(optimizer=tf.train.AdamOptimizer(),\n",
        "              loss='binary_crossentropy',\n",
        "              metrics=['accuracy'])"
      ],
      "execution_count": 0,
      "outputs": []
    },
    {
      "metadata": {
        "id": "EuJWpD9KFPH4",
        "colab_type": "text"
      },
      "cell_type": "markdown",
      "source": [
        "#### Create a validation set"
      ]
    },
    {
      "metadata": {
        "id": "5W-bTbGoFUFY",
        "colab_type": "code",
        "colab": {}
      },
      "cell_type": "code",
      "source": [
        "x_val = train_data[:10000]\n",
        "partial_x_train = train_data[10000:]\n",
        "\n",
        "y_val = train_labels[:10000]\n",
        "partial_y_train = train_labels[10000:]"
      ],
      "execution_count": 0,
      "outputs": []
    },
    {
      "metadata": {
        "id": "rQS7ltoNFaKf",
        "colab_type": "text"
      },
      "cell_type": "markdown",
      "source": [
        "#### Train the model"
      ]
    },
    {
      "metadata": {
        "id": "7kPpCQV7Fdgy",
        "colab_type": "code",
        "colab": {
          "base_uri": "https://localhost:8080/",
          "height": 1565
        },
        "outputId": "d3cc59b4-2240-4c5b-9cdc-c32bfc1bb0c0"
      },
      "cell_type": "code",
      "source": [
        "history = model.fit(partial_x_train,\n",
        "                    partial_y_train,\n",
        "                    epochs=40,\n",
        "                    batch_size=512,\n",
        "                    validation_data=(x_val, y_val),\n",
        "                    verbose=1)"
      ],
      "execution_count": 0,
      "outputs": [
        {
          "output_type": "stream",
          "text": [
            "Train on 15000 samples, validate on 10000 samples\n",
            "Epoch 1/40\n",
            "15000/15000 [==============================] - 1s 73us/step - loss: 0.6928 - acc: 0.5211 - val_loss: 0.6907 - val_acc: 0.5274\n",
            "Epoch 2/40\n",
            "15000/15000 [==============================] - 1s 51us/step - loss: 0.6892 - acc: 0.5601 - val_loss: 0.6878 - val_acc: 0.5989\n",
            "Epoch 3/40\n",
            "15000/15000 [==============================] - 1s 52us/step - loss: 0.6860 - acc: 0.6026 - val_loss: 0.6850 - val_acc: 0.6123\n",
            "Epoch 4/40\n",
            "15000/15000 [==============================] - 1s 61us/step - loss: 0.6821 - acc: 0.6429 - val_loss: 0.6819 - val_acc: 0.5653\n",
            "Epoch 5/40\n",
            "15000/15000 [==============================] - 1s 61us/step - loss: 0.6769 - acc: 0.6603 - val_loss: 0.6751 - val_acc: 0.6734\n",
            "Epoch 6/40\n",
            "15000/15000 [==============================] - 1s 60us/step - loss: 0.6697 - acc: 0.7019 - val_loss: 0.6675 - val_acc: 0.7003\n",
            "Epoch 7/40\n",
            "15000/15000 [==============================] - 1s 61us/step - loss: 0.6599 - acc: 0.7196 - val_loss: 0.6577 - val_acc: 0.7065\n",
            "Epoch 8/40\n",
            "15000/15000 [==============================] - 1s 61us/step - loss: 0.6472 - acc: 0.7329 - val_loss: 0.6450 - val_acc: 0.7193\n",
            "Epoch 9/40\n",
            "15000/15000 [==============================] - 1s 60us/step - loss: 0.6316 - acc: 0.7451 - val_loss: 0.6286 - val_acc: 0.7387\n",
            "Epoch 10/40\n",
            " 1536/15000 [==>...........................] - ETA: 0s - loss: 0.6224 - acc: 0.7552"
          ],
          "name": "stdout"
        },
        {
          "output_type": "stream",
          "text": [
            "15000/15000 [==============================] - 1s 61us/step - loss: 0.6122 - acc: 0.7630 - val_loss: 0.6096 - val_acc: 0.7524\n",
            "Epoch 11/40\n",
            "15000/15000 [==============================] - 1s 60us/step - loss: 0.5903 - acc: 0.7669 - val_loss: 0.5900 - val_acc: 0.7563\n",
            "Epoch 12/40\n",
            "15000/15000 [==============================] - 1s 61us/step - loss: 0.5656 - acc: 0.7834 - val_loss: 0.5652 - val_acc: 0.7761\n",
            "Epoch 13/40\n",
            "15000/15000 [==============================] - 1s 60us/step - loss: 0.5385 - acc: 0.8007 - val_loss: 0.5412 - val_acc: 0.7896\n",
            "Epoch 14/40\n",
            "15000/15000 [==============================] - 1s 60us/step - loss: 0.5112 - acc: 0.8143 - val_loss: 0.5160 - val_acc: 0.8015\n",
            "Epoch 15/40\n",
            "15000/15000 [==============================] - 1s 61us/step - loss: 0.4835 - acc: 0.8274 - val_loss: 0.4908 - val_acc: 0.8117\n",
            "Epoch 16/40\n",
            "15000/15000 [==============================] - 1s 60us/step - loss: 0.4569 - acc: 0.8363 - val_loss: 0.4674 - val_acc: 0.8211\n",
            "Epoch 17/40\n",
            "15000/15000 [==============================] - 1s 62us/step - loss: 0.4305 - acc: 0.8494 - val_loss: 0.4457 - val_acc: 0.8312\n",
            "Epoch 18/40\n",
            "15000/15000 [==============================] - 1s 61us/step - loss: 0.4067 - acc: 0.8581 - val_loss: 0.4252 - val_acc: 0.8400\n",
            "Epoch 19/40\n",
            " 5632/15000 [==========>...................] - ETA: 0s - loss: 0.3912 - acc: 0.8679"
          ],
          "name": "stdout"
        },
        {
          "output_type": "stream",
          "text": [
            "15000/15000 [==============================] - 1s 61us/step - loss: 0.3849 - acc: 0.8685 - val_loss: 0.4073 - val_acc: 0.8465\n",
            "Epoch 20/40\n",
            "15000/15000 [==============================] - 1s 60us/step - loss: 0.3654 - acc: 0.8765 - val_loss: 0.3916 - val_acc: 0.8514\n",
            "Epoch 21/40\n",
            "15000/15000 [==============================] - 1s 60us/step - loss: 0.3477 - acc: 0.8810 - val_loss: 0.3778 - val_acc: 0.8574\n",
            "Epoch 22/40\n",
            "15000/15000 [==============================] - 1s 60us/step - loss: 0.3320 - acc: 0.8859 - val_loss: 0.3660 - val_acc: 0.8611\n",
            "Epoch 23/40\n",
            "15000/15000 [==============================] - 1s 61us/step - loss: 0.3181 - acc: 0.8902 - val_loss: 0.3561 - val_acc: 0.8620\n",
            "Epoch 24/40\n",
            "15000/15000 [==============================] - 1s 60us/step - loss: 0.3052 - acc: 0.8935 - val_loss: 0.3468 - val_acc: 0.8667\n",
            "Epoch 25/40\n",
            "15000/15000 [==============================] - 1s 60us/step - loss: 0.2938 - acc: 0.8981 - val_loss: 0.3390 - val_acc: 0.8687\n",
            "Epoch 26/40\n",
            "15000/15000 [==============================] - 1s 61us/step - loss: 0.2832 - acc: 0.9007 - val_loss: 0.3325 - val_acc: 0.8711\n",
            "Epoch 27/40\n",
            "15000/15000 [==============================] - 1s 60us/step - loss: 0.2740 - acc: 0.9029 - val_loss: 0.3263 - val_acc: 0.8730\n",
            "Epoch 28/40\n",
            " 4608/15000 [========>.....................] - ETA: 0s - loss: 0.2648 - acc: 0.9082"
          ],
          "name": "stdout"
        },
        {
          "output_type": "stream",
          "text": [
            "15000/15000 [==============================] - 1s 61us/step - loss: 0.2647 - acc: 0.9069 - val_loss: 0.3208 - val_acc: 0.8747\n",
            "Epoch 29/40\n",
            "15000/15000 [==============================] - 1s 60us/step - loss: 0.2565 - acc: 0.9097 - val_loss: 0.3164 - val_acc: 0.8750\n",
            "Epoch 30/40\n",
            "15000/15000 [==============================] - 1s 60us/step - loss: 0.2496 - acc: 0.9101 - val_loss: 0.3121 - val_acc: 0.8775\n",
            "Epoch 31/40\n",
            "15000/15000 [==============================] - 1s 60us/step - loss: 0.2415 - acc: 0.9146 - val_loss: 0.3087 - val_acc: 0.8788\n",
            "Epoch 32/40\n",
            "15000/15000 [==============================] - 1s 60us/step - loss: 0.2353 - acc: 0.9171 - val_loss: 0.3055 - val_acc: 0.8792\n",
            "Epoch 33/40\n",
            "15000/15000 [==============================] - 1s 61us/step - loss: 0.2281 - acc: 0.9193 - val_loss: 0.3026 - val_acc: 0.8792\n",
            "Epoch 34/40\n",
            "15000/15000 [==============================] - 1s 61us/step - loss: 0.2221 - acc: 0.9220 - val_loss: 0.3003 - val_acc: 0.8798\n",
            "Epoch 35/40\n",
            "15000/15000 [==============================] - 1s 61us/step - loss: 0.2168 - acc: 0.9226 - val_loss: 0.2978 - val_acc: 0.8818\n",
            "Epoch 36/40\n",
            "15000/15000 [==============================] - 1s 60us/step - loss: 0.2106 - acc: 0.9261 - val_loss: 0.2960 - val_acc: 0.8812\n",
            "Epoch 37/40\n",
            " 2560/15000 [====>.........................] - ETA: 0s - loss: 0.2079 - acc: 0.9289\b\b\b\b\b\b\b\b\b\b\b\b\b\b\b\b\b\b\b\b\b\b\b\b\b\b\b\b\b\b\b\b\b\b\b\b\b\b\b\b\b\b\b\b\b\b\b\b\b\b\b\b\b\b\b\b\b\b\b\b\b\b\b\b\b\b\b\b\b\b\b\b\b\b\b\b\b\b\b\b\b\b\b"
          ],
          "name": "stdout"
        },
        {
          "output_type": "stream",
          "text": [
            "15000/15000 [==============================] - 1s 61us/step - loss: 0.2053 - acc: 0.9279 - val_loss: 0.2943 - val_acc: 0.8820\n",
            "Epoch 38/40\n",
            "15000/15000 [==============================] - 1s 61us/step - loss: 0.2003 - acc: 0.9291 - val_loss: 0.2924 - val_acc: 0.8842\n",
            "Epoch 39/40\n",
            "15000/15000 [==============================] - 1s 62us/step - loss: 0.1950 - acc: 0.9311 - val_loss: 0.2911 - val_acc: 0.8842\n",
            "Epoch 40/40\n",
            "15000/15000 [==============================] - 1s 61us/step - loss: 0.1904 - acc: 0.9334 - val_loss: 0.2897 - val_acc: 0.8839\n"
          ],
          "name": "stdout"
        }
      ]
    },
    {
      "metadata": {
        "id": "mQuvoq_eGSdG",
        "colab_type": "text"
      },
      "cell_type": "markdown",
      "source": [
        "#### Evaluate the model"
      ]
    },
    {
      "metadata": {
        "id": "0mwQaVd1GW2X",
        "colab_type": "code",
        "colab": {
          "base_uri": "https://localhost:8080/",
          "height": 55
        },
        "outputId": "c50510b5-d2c3-4b68-95de-7d41c1a9ec18"
      },
      "cell_type": "code",
      "source": [
        "results = model.evaluate(test_data, test_labels)\n",
        "\n",
        "print(results)"
      ],
      "execution_count": 0,
      "outputs": [
        {
          "output_type": "stream",
          "text": [
            "25000/25000 [==============================] - 1s 31us/step\n",
            "[0.30571386238098147, 0.87384]\n"
          ],
          "name": "stdout"
        }
      ]
    },
    {
      "metadata": {
        "id": "LeQjxH33GeoI",
        "colab_type": "text"
      },
      "cell_type": "markdown",
      "source": [
        "#### Create a graph of accuracy and loss over time"
      ]
    },
    {
      "metadata": {
        "id": "llA1ZH2FGhV2",
        "colab_type": "code",
        "colab": {
          "base_uri": "https://localhost:8080/",
          "height": 36
        },
        "outputId": "0854c813-175b-47aa-9d67-e4402d58580c"
      },
      "cell_type": "code",
      "source": [
        "history_dict = history.history\n",
        "history_dict.keys()"
      ],
      "execution_count": 0,
      "outputs": [
        {
          "output_type": "execute_result",
          "data": {
            "text/plain": [
              "['acc', 'loss', 'val_acc', 'val_loss']"
            ]
          },
          "metadata": {
            "tags": []
          },
          "execution_count": 26
        }
      ]
    },
    {
      "metadata": {
        "id": "9aYhbPbcGlIy",
        "colab_type": "code",
        "colab": {
          "base_uri": "https://localhost:8080/",
          "height": 376
        },
        "outputId": "43bea2f2-7af6-447e-e63e-a5287b078db6"
      },
      "cell_type": "code",
      "source": [
        "import matplotlib.pyplot as plt\n",
        "\n",
        "acc = history.history['acc']\n",
        "val_acc = history.history['val_acc']\n",
        "loss = history.history['loss']\n",
        "val_loss = history.history['val_loss']\n",
        "\n",
        "epochs = range(1, len(acc) + 1)\n",
        "\n",
        "# \"bo\" is for \"blue dot\"\n",
        "plt.plot(epochs, loss, 'bo', label='Training loss')\n",
        "# b is for \"solid blue line\"\n",
        "plt.plot(epochs, val_loss, 'b', label='Validation loss')\n",
        "plt.title('Training and validation loss')\n",
        "plt.xlabel('Epochs')\n",
        "plt.ylabel('Loss')\n",
        "plt.legend()\n",
        "\n",
        "plt.show()"
      ],
      "execution_count": 0,
      "outputs": [
        {
          "output_type": "display_data",
          "data": {
            "image/png": "[encoded data removed]",
            "text/plain": [
              "<matplotlib.figure.Figure at 0x7fc2890a9d90>"
            ]
          },
          "metadata": {
            "tags": []
          }
        }
      ]
    },
    {
      "metadata": {
        "id": "5d7NbNDwHVTO",
        "colab_type": "code",
        "colab": {
          "base_uri": "https://localhost:8080/",
          "height": 376
        },
        "outputId": "ee563886-9eb8-4f23-f8e0-ba195ed26cf4"
      },
      "cell_type": "code",
      "source": [
        "plt.clf()   # clear figure\n",
        "acc_values = history_dict['acc']\n",
        "val_acc_values = history_dict['val_acc']\n",
        "\n",
        "plt.plot(epochs, acc, 'bo', label='Training acc')\n",
        "plt.plot(epochs, val_acc, 'b', label='Validation acc')\n",
        "plt.title('Training and validation accuracy')\n",
        "plt.xlabel('Epochs')\n",
        "plt.ylabel('Accuracy')\n",
        "plt.legend()\n",
        "\n",
        "plt.show()"
      ],
      "execution_count": 0,
      "outputs": [
        {
          "output_type": "display_data",
          "data": {
            "image/png": "[encoded data removed]",
            "text/plain": [
              "<matplotlib.figure.Figure at 0x7fc2890a9c10>"
            ]
          },
          "metadata": {
            "tags": []
          }
        }
      ]
    },
    {
      "metadata": {
        "id": "uGJT4OVqQZJq",
        "colab_type": "text"
      },
      "cell_type": "markdown",
      "source": [
        "###  Predict house prices: regression"
      ]
    },
    {
      "metadata": {
        "id": "5Et_JZM_QhIW",
        "colab_type": "text"
      },
      "cell_type": "markdown",
      "source": [
        "#### The Boston Housing Prices dataset"
      ]
    },
    {
      "metadata": {
        "id": "EeCSQUY2QkeQ",
        "colab_type": "code",
        "colab": {}
      },
      "cell_type": "code",
      "source": [
        "boston_housing = keras.datasets.boston_housing\n",
        "\n",
        "(train_data, train_labels), (test_data, test_labels) = boston_housing.load_data()\n",
        "\n",
        "# Shuffle the training set\n",
        "order = np.argsort(np.random.random(train_labels.shape))\n",
        "train_data = train_data[order]\n",
        "train_labels = train_labels[order]"
      ],
      "execution_count": 0,
      "outputs": []
    },
    {
      "metadata": {
        "id": "5j1X0K0_Qn1s",
        "colab_type": "text"
      },
      "cell_type": "markdown",
      "source": [
        "##### Examples and features"
      ]
    },
    {
      "metadata": {
        "id": "zJJHpYEnQtXs",
        "colab_type": "code",
        "colab": {
          "base_uri": "https://localhost:8080/",
          "height": 55
        },
        "outputId": "dc38891e-93b3-44d1-c1a9-41d4cebc590c"
      },
      "cell_type": "code",
      "source": [
        "print(\"Training set: {}\".format(train_data.shape))  # 404 examples, 13 features\n",
        "print(\"Testing set:  {}\".format(test_data.shape))   # 102 examples, 13 features"
      ],
      "execution_count": 0,
      "outputs": [
        {
          "output_type": "stream",
          "text": [
            "Training set: (404, 13)\n",
            "Testing set:  (102, 13)\n"
          ],
          "name": "stdout"
        }
      ]
    },
    {
      "metadata": {
        "id": "2-GPKLzMQyct",
        "colab_type": "code",
        "colab": {
          "base_uri": "https://localhost:8080/",
          "height": 74
        },
        "outputId": "bc6f315e-9773-4074-f9c5-ddd6805b20e0"
      },
      "cell_type": "code",
      "source": [
        "print(train_data[0])  # Display sample features, notice the different scales"
      ],
      "execution_count": 0,
      "outputs": [
        {
          "output_type": "stream",
          "text": [
            "[7.8750e-02 4.5000e+01 3.4400e+00 0.0000e+00 4.3700e-01 6.7820e+00\n",
            " 4.1100e+01 3.7886e+00 5.0000e+00 3.9800e+02 1.5200e+01 3.9387e+02\n",
            " 6.6800e+00]\n"
          ],
          "name": "stdout"
        }
      ]
    },
    {
      "metadata": {
        "id": "z8-voIQSQzZU",
        "colab_type": "code",
        "colab": {
          "base_uri": "https://localhost:8080/",
          "height": 206
        },
        "outputId": "7585388c-82e9-4c7c-bcae-31babe101bcf"
      },
      "cell_type": "code",
      "source": [
        "import pandas as pd\n",
        "\n",
        "column_names = ['CRIM', 'ZN', 'INDUS', 'CHAS', 'NOX', 'RM', 'AGE', 'DIS', 'RAD',\n",
        "                'TAX', 'PTRATIO', 'B', 'LSTAT']\n",
        "\n",
        "df = pd.DataFrame(train_data, columns=column_names)\n",
        "df.head()"
      ],
      "execution_count": 0,
      "outputs": [
        {
          "output_type": "execute_result",
          "data": {
            "text/html": [
              "<div>\n",
              "<style scoped>\n",
              "    .dataframe tbody tr th:only-of-type {\n",
              "        vertical-align: middle;\n",
              "    }\n",
              "\n",
              "    .dataframe tbody tr th {\n",
              "        vertical-align: top;\n",
              "    }\n",
              "\n",
              "    .dataframe thead th {\n",
              "        text-align: right;\n",
              "    }\n",
              "</style>\n",
              "<table border=\"1\" class=\"dataframe\">\n",
              "  <thead>\n",
              "    <tr style=\"text-align: right;\">\n",
              "      <th></th>\n",
              "      <th>CRIM</th>\n",
              "      <th>ZN</th>\n",
              "      <th>INDUS</th>\n",
              "      <th>CHAS</th>\n",
              "      <th>NOX</th>\n",
              "      <th>RM</th>\n",
              "      <th>AGE</th>\n",
              "      <th>DIS</th>\n",
              "      <th>RAD</th>\n",
              "      <th>TAX</th>\n",
              "      <th>PTRATIO</th>\n",
              "      <th>B</th>\n",
              "      <th>LSTAT</th>\n",
              "    </tr>\n",
              "  </thead>\n",
              "  <tbody>\n",
              "    <tr>\n",
              "      <th>0</th>\n",
              "      <td>0.07875</td>\n",
              "      <td>45.0</td>\n",
              "      <td>3.44</td>\n",
              "      <td>0.0</td>\n",
              "      <td>0.437</td>\n",
              "      <td>6.782</td>\n",
              "      <td>41.1</td>\n",
              "      <td>3.7886</td>\n",
              "      <td>5.0</td>\n",
              "      <td>398.0</td>\n",
              "      <td>15.2</td>\n",
              "      <td>393.87</td>\n",
              "      <td>6.68</td>\n",
              "    </tr>\n",
              "    <tr>\n",
              "      <th>1</th>\n",
              "      <td>4.55587</td>\n",
              "      <td>0.0</td>\n",
              "      <td>18.10</td>\n",
              "      <td>0.0</td>\n",
              "      <td>0.718</td>\n",
              "      <td>3.561</td>\n",
              "      <td>87.9</td>\n",
              "      <td>1.6132</td>\n",
              "      <td>24.0</td>\n",
              "      <td>666.0</td>\n",
              "      <td>20.2</td>\n",
              "      <td>354.70</td>\n",
              "      <td>7.12</td>\n",
              "    </tr>\n",
              "    <tr>\n",
              "      <th>2</th>\n",
              "      <td>0.09604</td>\n",
              "      <td>40.0</td>\n",
              "      <td>6.41</td>\n",
              "      <td>0.0</td>\n",
              "      <td>0.447</td>\n",
              "      <td>6.854</td>\n",
              "      <td>42.8</td>\n",
              "      <td>4.2673</td>\n",
              "      <td>4.0</td>\n",
              "      <td>254.0</td>\n",
              "      <td>17.6</td>\n",
              "      <td>396.90</td>\n",
              "      <td>2.98</td>\n",
              "    </tr>\n",
              "    <tr>\n",
              "      <th>3</th>\n",
              "      <td>0.01870</td>\n",
              "      <td>85.0</td>\n",
              "      <td>4.15</td>\n",
              "      <td>0.0</td>\n",
              "      <td>0.429</td>\n",
              "      <td>6.516</td>\n",
              "      <td>27.7</td>\n",
              "      <td>8.5353</td>\n",
              "      <td>4.0</td>\n",
              "      <td>351.0</td>\n",
              "      <td>17.9</td>\n",
              "      <td>392.43</td>\n",
              "      <td>6.36</td>\n",
              "    </tr>\n",
              "    <tr>\n",
              "      <th>4</th>\n",
              "      <td>0.52693</td>\n",
              "      <td>0.0</td>\n",
              "      <td>6.20</td>\n",
              "      <td>0.0</td>\n",
              "      <td>0.504</td>\n",
              "      <td>8.725</td>\n",
              "      <td>83.0</td>\n",
              "      <td>2.8944</td>\n",
              "      <td>8.0</td>\n",
              "      <td>307.0</td>\n",
              "      <td>17.4</td>\n",
              "      <td>382.00</td>\n",
              "      <td>4.63</td>\n",
              "    </tr>\n",
              "  </tbody>\n",
              "</table>\n",
              "</div>"
            ],
            "text/plain": [
              "      CRIM    ZN  INDUS  CHAS    NOX     RM   AGE     DIS   RAD    TAX  \\\n",
              "0  0.07875  45.0   3.44   0.0  0.437  6.782  41.1  3.7886   5.0  398.0   \n",
              "1  4.55587   0.0  18.10   0.0  0.718  3.561  87.9  1.6132  24.0  666.0   \n",
              "2  0.09604  40.0   6.41   0.0  0.447  6.854  42.8  4.2673   4.0  254.0   \n",
              "3  0.01870  85.0   4.15   0.0  0.429  6.516  27.7  8.5353   4.0  351.0   \n",
              "4  0.52693   0.0   6.20   0.0  0.504  8.725  83.0  2.8944   8.0  307.0   \n",
              "\n",
              "   PTRATIO       B  LSTAT  \n",
              "0     15.2  393.87   6.68  \n",
              "1     20.2  354.70   7.12  \n",
              "2     17.6  396.90   2.98  \n",
              "3     17.9  392.43   6.36  \n",
              "4     17.4  382.00   4.63  "
            ]
          },
          "metadata": {
            "tags": []
          },
          "execution_count": 27
        }
      ]
    },
    {
      "metadata": {
        "id": "Q-Kw4v3BQ2QB",
        "colab_type": "text"
      },
      "cell_type": "markdown",
      "source": [
        "##### Labels"
      ]
    },
    {
      "metadata": {
        "id": "dv11HGzoQ4HU",
        "colab_type": "code",
        "colab": {
          "base_uri": "https://localhost:8080/",
          "height": 36
        },
        "outputId": "6244773d-31fc-4e71-b73f-ab7c6993e560"
      },
      "cell_type": "code",
      "source": [
        "print(train_labels[0:10])  # Display first 10 entries"
      ],
      "execution_count": 0,
      "outputs": [
        {
          "output_type": "stream",
          "text": [
            "[32.  27.5 32.  23.1 50.  20.6 22.6 36.2 21.8 19.5]\n"
          ],
          "name": "stdout"
        }
      ]
    },
    {
      "metadata": {
        "id": "fgCzRqSqQ7El",
        "colab_type": "text"
      },
      "cell_type": "markdown",
      "source": [
        "#### Normalize features"
      ]
    },
    {
      "metadata": {
        "id": "jWKi9MdiRADU",
        "colab_type": "code",
        "colab": {
          "base_uri": "https://localhost:8080/",
          "height": 74
        },
        "outputId": "10ba2c30-4469-4796-893d-d92f33a276e4"
      },
      "cell_type": "code",
      "source": [
        "# Test data is *not* used when calculating the mean and std.\n",
        "\n",
        "mean = train_data.mean(axis=0)\n",
        "std = train_data.std(axis=0)\n",
        "train_data = (train_data - mean) / std\n",
        "test_data = (test_data - mean) / std\n",
        "\n",
        "print(train_data[0])  # First training sample, normalized"
      ],
      "execution_count": 0,
      "outputs": [
        {
          "output_type": "stream",
          "text": [
            "[-0.39725269  1.41205707 -1.12664623 -0.25683275 -1.027385    0.72635358\n",
            " -1.00016413  0.02383449 -0.51114231 -0.04753316 -1.49067405  0.41584124\n",
            " -0.83648691]\n"
          ],
          "name": "stdout"
        }
      ]
    },
    {
      "metadata": {
        "id": "EgnmQZ85REQO",
        "colab_type": "text"
      },
      "cell_type": "markdown",
      "source": [
        "#### Create the model"
      ]
    },
    {
      "metadata": {
        "id": "mFgRGi_9RFm8",
        "colab_type": "code",
        "colab": {
          "base_uri": "https://localhost:8080/",
          "height": 262
        },
        "outputId": "7279eb8f-9ebf-48db-fa2d-d4a8d1b33e2f"
      },
      "cell_type": "code",
      "source": [
        "def build_model():\n",
        "  model = keras.Sequential([\n",
        "    keras.layers.Dense(64, activation=tf.nn.relu, \n",
        "                       input_shape=(train_data.shape[1],)),\n",
        "    keras.layers.Dense(64, activation=tf.nn.relu),\n",
        "    keras.layers.Dense(1)\n",
        "  ])\n",
        "\n",
        "  optimizer = tf.train.RMSPropOptimizer(0.001)\n",
        "\n",
        "  model.compile(loss='mse',\n",
        "                optimizer=optimizer,\n",
        "                metrics=['mae'])\n",
        "  return model\n",
        "\n",
        "model = build_model()\n",
        "model.summary()"
      ],
      "execution_count": 0,
      "outputs": [
        {
          "output_type": "stream",
          "text": [
            "_________________________________________________________________\n",
            "Layer (type)                 Output Shape              Param #   \n",
            "=================================================================\n",
            "dense_6 (Dense)              (None, 64)                896       \n",
            "_________________________________________________________________\n",
            "dense_7 (Dense)              (None, 64)                4160      \n",
            "_________________________________________________________________\n",
            "dense_8 (Dense)              (None, 1)                 65        \n",
            "=================================================================\n",
            "Total params: 5,121\n",
            "Trainable params: 5,121\n",
            "Non-trainable params: 0\n",
            "_________________________________________________________________\n"
          ],
          "name": "stdout"
        }
      ]
    },
    {
      "metadata": {
        "id": "x0hXBo56RIFs",
        "colab_type": "text"
      },
      "cell_type": "markdown",
      "source": [
        "#### Train the model"
      ]
    },
    {
      "metadata": {
        "id": "kbOMkqNxRK2k",
        "colab_type": "code",
        "colab": {
          "base_uri": "https://localhost:8080/",
          "height": 130
        },
        "outputId": "dd4c3635-d92b-44c1-ac66-fdc6ba363323"
      },
      "cell_type": "code",
      "source": [
        "from __future__ import print_function\n",
        "# Display training progress by printing a single dot for each completed epoch.\n",
        "class PrintDot(keras.callbacks.Callback):\n",
        "  def on_epoch_end(self,epoch,logs):\n",
        "    if epoch % 100 == 0: print('')\n",
        "    print('.', end='')\n",
        "\n",
        "EPOCHS = 500\n",
        "\n",
        "# Store training stats\n",
        "history = model.fit(train_data, train_labels, epochs=EPOCHS,\n",
        "                    validation_split=0.2, verbose=0,\n",
        "                    callbacks=[PrintDot()])\n"
      ],
      "execution_count": 0,
      "outputs": [
        {
          "output_type": "stream",
          "text": [
            "\n",
            "....................................................................................................\n",
            "....................................................................................................\n",
            "....................................................................................................\n",
            "....................................................................................................\n",
            "...................................................................................................."
          ],
          "name": "stdout"
        }
      ]
    },
    {
      "metadata": {
        "id": "6ufD1xsORdYq",
        "colab_type": "code",
        "colab": {
          "base_uri": "https://localhost:8080/",
          "height": 365
        },
        "outputId": "1af15be2-4af2-43c4-99df-bf4c4cdf74d7"
      },
      "cell_type": "code",
      "source": [
        "import matplotlib.pyplot as plt\n",
        "\n",
        "\n",
        "def plot_history(history):\n",
        "  plt.figure()\n",
        "  plt.xlabel('Epoch')\n",
        "  plt.ylabel('Mean Abs Error [1000$]')\n",
        "  plt.plot(history.epoch, np.array(history.history['mean_absolute_error']), \n",
        "           label='Train Loss')\n",
        "  plt.plot(history.epoch, np.array(history.history['val_mean_absolute_error']),\n",
        "           label = 'Val loss')\n",
        "  plt.legend()\n",
        "  plt.ylim([0,5])\n",
        "\n",
        "plot_history(history)"
      ],
      "execution_count": 0,
      "outputs": [
        {
          "output_type": "display_data",
          "data": {
            "image/png": "[encoded data removed]",
            "text/plain": [
              "<matplotlib.figure.Figure at 0x7f72ca52b710>"
            ]
          },
          "metadata": {
            "tags": []
          }
        }
      ]
    },
    {
      "metadata": {
        "id": "gWCnvjQfRf9_",
        "colab_type": "code",
        "colab": {
          "base_uri": "https://localhost:8080/",
          "height": 422
        },
        "outputId": "7b250cfe-de31-4382-df20-66c671532dcb"
      },
      "cell_type": "code",
      "source": [
        "model = build_model()\n",
        "\n",
        "# The patience parameter is the amount of epochs to check for improvement.\n",
        "early_stop = keras.callbacks.EarlyStopping(monitor='val_loss', patience=20)\n",
        "\n",
        "history = model.fit(train_data, train_labels, epochs=EPOCHS,\n",
        "                    validation_split=0.2, verbose=0,\n",
        "                    callbacks=[early_stop, PrintDot()])\n",
        "\n",
        "plot_history(history)"
      ],
      "execution_count": 0,
      "outputs": [
        {
          "output_type": "stream",
          "text": [
            "\n",
            "....................................................................................................\n",
            "............................................................................................."
          ],
          "name": "stdout"
        },
        {
          "output_type": "display_data",
          "data": {
            "image/png": "[encoded data removed]",
            "text/plain": [
              "<matplotlib.figure.Figure at 0x7f72cb237dd0>"
            ]
          },
          "metadata": {
            "tags": []
          }
        }
      ]
    },
    {
      "metadata": {
        "id": "q5-SwMxJRiTO",
        "colab_type": "code",
        "colab": {
          "base_uri": "https://localhost:8080/",
          "height": 36
        },
        "outputId": "e7de4f4d-6abe-4489-a5d2-4906eb5cc9aa"
      },
      "cell_type": "code",
      "source": [
        "[loss, mae] = model.evaluate(test_data, test_labels, verbose=0)\n",
        "\n",
        "print(\"Testing set Mean Abs Error: ${:7.2f}\".format(mae * 1000))"
      ],
      "execution_count": 0,
      "outputs": [
        {
          "output_type": "stream",
          "text": [
            "Testing set Mean Abs Error: $2679.00\n"
          ],
          "name": "stdout"
        }
      ]
    },
    {
      "metadata": {
        "id": "2avMeEH7RjPv",
        "colab_type": "text"
      },
      "cell_type": "markdown",
      "source": [
        "#### Predict"
      ]
    },
    {
      "metadata": {
        "id": "b-IsvR6yRnT2",
        "colab_type": "code",
        "colab": {
          "base_uri": "https://localhost:8080/",
          "height": 338
        },
        "outputId": "613a9d8f-747a-454b-dc5a-2dc53e851b5a"
      },
      "cell_type": "code",
      "source": [
        "test_predictions = model.predict(test_data).flatten()\n",
        "\n",
        "print(test_predictions)"
      ],
      "execution_count": 0,
      "outputs": [
        {
          "output_type": "stream",
          "text": [
            "[ 9.413306  20.208292  22.208458  35.84527   26.441996  22.10927\n",
            " 25.827114  22.030752  21.297647  23.04385   20.253763  17.663485\n",
            " 17.026514  43.01508   21.309362  20.825048  27.167164  19.093023\n",
            " 21.060465  28.294436  12.8793955 14.773374  22.35121   16.941687\n",
            " 21.213037  26.67111   31.201519  33.373566  11.664246  19.979141\n",
            " 20.850962  15.698544  32.798584  25.372534  19.430681   9.082605\n",
            " 18.52954   18.679262  20.646883  25.66525   32.018246  29.07574\n",
            " 14.806787  42.787098  32.17644   26.61979   28.56296   18.80353\n",
            " 23.643482  23.359022  35.277393  21.880945  11.935746  15.775812\n",
            " 35.55775   28.927645  12.935718  50.02827   34.244396  25.941254\n",
            " 25.54697   16.82453   15.570931  20.338293  24.605589  21.468721\n",
            " 13.847179  22.30834   13.099641   8.329051  26.831758  30.156982\n",
            " 27.826622  13.590346  24.703087  20.270327  19.50218   24.98152\n",
            " 35.481144  11.123991  21.941332  39.05374   17.937723  14.179303\n",
            " 18.207342  20.66059   21.520384  20.938765  22.214087  32.483776\n",
            " 22.002287  19.252554  26.474129  43.196487  36.316105  22.125338\n",
            " 36.36427   47.839687  27.581684  48.679737  32.354603  21.608324 ]\n"
          ],
          "name": "stdout"
        }
      ]
    },
    {
      "metadata": {
        "id": "1zMe1K-1ADMx",
        "colab_type": "text"
      },
      "cell_type": "markdown",
      "source": [
        "###  Explore overfitting and underfitting"
      ]
    },
    {
      "metadata": {
        "id": "SMa3nHrWAKZq",
        "colab_type": "text"
      },
      "cell_type": "markdown",
      "source": [
        "#### Download the IMDB dataset"
      ]
    },
    {
      "metadata": {
        "id": "ZLz4oheCANzz",
        "colab_type": "code",
        "colab": {
          "base_uri": "https://localhost:8080/",
          "height": 74
        },
        "outputId": "0ab36411-e01b-4f5c-bb26-3a005d7c38d8"
      },
      "cell_type": "code",
      "source": [
        "NUM_WORDS = 10000\n",
        "\n",
        "(train_data, train_labels), (test_data, test_labels) = keras.datasets.imdb.load_data(num_words=NUM_WORDS)\n",
        "\n",
        "def multi_hot_sequences(sequences, dimension):\n",
        "    # Create an all-zero matrix of shape (len(sequences), dimension)\n",
        "    results = np.zeros((len(sequences), dimension))\n",
        "    for i, word_indices in enumerate(sequences):\n",
        "        results[i, word_indices] = 1.0  # set specific indices of results[i] to 1s\n",
        "    return results\n",
        "\n",
        "\n",
        "train_data = multi_hot_sequences(train_data, dimension=NUM_WORDS)\n",
        "test_data = multi_hot_sequences(test_data, dimension=NUM_WORDS)"
      ],
      "execution_count": 3,
      "outputs": [
        {
          "output_type": "stream",
          "text": [
            "Downloading data from https://s3.amazonaws.com/text-datasets/imdb.npz\n",
            "17465344/17464789 [==============================] - 1s 0us/step\n",
            "17473536/17464789 [==============================] - 1s 0us/step\n"
          ],
          "name": "stdout"
        }
      ]
    },
    {
      "metadata": {
        "id": "TUu3oV7qBEdy",
        "colab_type": "code",
        "colab": {
          "base_uri": "https://localhost:8080/",
          "height": 366
        },
        "outputId": "62076a5e-ed52-4c03-ff00-ddf1f0ff5452"
      },
      "cell_type": "code",
      "source": [
        "plt.plot(train_data[0])"
      ],
      "execution_count": 4,
      "outputs": [
        {
          "output_type": "execute_result",
          "data": {
            "text/plain": [
              "[<matplotlib.lines.Line2D at 0x7fd0d57f8ed0>]"
            ]
          },
          "metadata": {
            "tags": []
          },
          "execution_count": 4
        },
        {
          "output_type": "display_data",
          "data": {
            "image/png": "[encoded data removed]",
            "text/plain": [
              "<matplotlib.figure.Figure at 0x7fd0caa8d490>"
            ]
          },
          "metadata": {
            "tags": []
          }
        }
      ]
    },
    {
      "metadata": {
        "id": "9Eyz85fzBIFN",
        "colab_type": "text"
      },
      "cell_type": "markdown",
      "source": [
        "#### Demonstrate overfitting"
      ]
    },
    {
      "metadata": {
        "id": "WSz9CsL4BPRG",
        "colab_type": "text"
      },
      "cell_type": "markdown",
      "source": [
        "##### Create a baseline model"
      ]
    },
    {
      "metadata": {
        "id": "1wwRD3WRBLyg",
        "colab_type": "code",
        "colab": {
          "base_uri": "https://localhost:8080/",
          "height": 262
        },
        "outputId": "b28fe047-3ff7-4335-f491-5142f4ed5751"
      },
      "cell_type": "code",
      "source": [
        "baseline_model = keras.Sequential([\n",
        "    keras.layers.Dense(16, activation=tf.nn.relu, input_shape=(10000,)),\n",
        "    keras.layers.Dense(16, activation=tf.nn.relu),\n",
        "    keras.layers.Dense(1, activation=tf.nn.sigmoid)\n",
        "])\n",
        "\n",
        "baseline_model.compile(optimizer='adam',\n",
        "                       loss='binary_crossentropy',\n",
        "                       metrics=['accuracy', 'binary_crossentropy'])\n",
        "\n",
        "baseline_model.summary()"
      ],
      "execution_count": 5,
      "outputs": [
        {
          "output_type": "stream",
          "text": [
            "_________________________________________________________________\n",
            "Layer (type)                 Output Shape              Param #   \n",
            "=================================================================\n",
            "dense (Dense)                (None, 16)                160016    \n",
            "_________________________________________________________________\n",
            "dense_1 (Dense)              (None, 16)                272       \n",
            "_________________________________________________________________\n",
            "dense_2 (Dense)              (None, 1)                 17        \n",
            "=================================================================\n",
            "Total params: 160,305\n",
            "Trainable params: 160,305\n",
            "Non-trainable params: 0\n",
            "_________________________________________________________________\n"
          ],
          "name": "stdout"
        }
      ]
    },
    {
      "metadata": {
        "id": "QGuwTsXXEEWV",
        "colab_type": "code",
        "colab": {
          "base_uri": "https://localhost:8080/",
          "height": 791
        },
        "outputId": "5ea94ff7-4d8c-483b-bf27-3ea09cb06cf8"
      },
      "cell_type": "code",
      "source": [
        "baseline_history = baseline_model.fit(train_data,\n",
        "                                      train_labels,\n",
        "                                      epochs=20,\n",
        "                                      batch_size=512,\n",
        "                                      validation_data=(test_data, test_labels),\n",
        "                                      verbose=2)"
      ],
      "execution_count": 6,
      "outputs": [
        {
          "output_type": "stream",
          "text": [
            "Train on 25000 samples, validate on 25000 samples\n",
            "Epoch 1/20\n",
            " - 5s - loss: 0.4795 - acc: 0.7953 - binary_crossentropy: 0.4795 - val_loss: 0.3286 - val_acc: 0.8793 - val_binary_crossentropy: 0.3286\n",
            "Epoch 2/20\n",
            " - 4s - loss: 0.2449 - acc: 0.9132 - binary_crossentropy: 0.2449 - val_loss: 0.2847 - val_acc: 0.8881 - val_binary_crossentropy: 0.2847\n",
            "Epoch 3/20\n",
            " - 4s - loss: 0.1818 - acc: 0.9374 - binary_crossentropy: 0.1818 - val_loss: 0.2895 - val_acc: 0.8851 - val_binary_crossentropy: 0.2895\n",
            "Epoch 4/20\n",
            " - 4s - loss: 0.1466 - acc: 0.9510 - binary_crossentropy: 0.1466 - val_loss: 0.3129 - val_acc: 0.8799 - val_binary_crossentropy: 0.3129\n",
            "Epoch 5/20\n",
            " - 4s - loss: 0.1224 - acc: 0.9601 - binary_crossentropy: 0.1224 - val_loss: 0.3397 - val_acc: 0.8730 - val_binary_crossentropy: 0.3397\n",
            "Epoch 6/20\n",
            " - 4s - loss: 0.1004 - acc: 0.9690 - binary_crossentropy: 0.1004 - val_loss: 0.3716 - val_acc: 0.8703 - val_binary_crossentropy: 0.3716\n",
            "Epoch 7/20\n",
            " - 4s - loss: 0.0812 - acc: 0.9774 - binary_crossentropy: 0.0812 - val_loss: 0.4233 - val_acc: 0.8624 - val_binary_crossentropy: 0.4233\n",
            "Epoch 8/20\n",
            " - 4s - loss: 0.0646 - acc: 0.9834 - binary_crossentropy: 0.0646 - val_loss: 0.4444 - val_acc: 0.8632 - val_binary_crossentropy: 0.4444\n",
            "Epoch 9/20\n",
            " - 4s - loss: 0.0509 - acc: 0.9889 - binary_crossentropy: 0.0509 - val_loss: 0.4861 - val_acc: 0.8602 - val_binary_crossentropy: 0.4861\n",
            "Epoch 10/20\n",
            " - 4s - loss: 0.0391 - acc: 0.9935 - binary_crossentropy: 0.0391 - val_loss: 0.5337 - val_acc: 0.8570 - val_binary_crossentropy: 0.5337\n",
            "Epoch 11/20\n",
            " - 4s - loss: 0.0304 - acc: 0.9953 - binary_crossentropy: 0.0304 - val_loss: 0.5685 - val_acc: 0.8563 - val_binary_crossentropy: 0.5685\n",
            "Epoch 12/20\n",
            " - 4s - loss: 0.0233 - acc: 0.9972 - binary_crossentropy: 0.0233 - val_loss: 0.6022 - val_acc: 0.8555 - val_binary_crossentropy: 0.6022\n",
            "Epoch 13/20\n",
            " - 4s - loss: 0.0177 - acc: 0.9983 - binary_crossentropy: 0.0177 - val_loss: 0.6357 - val_acc: 0.8541 - val_binary_crossentropy: 0.6357\n",
            "Epoch 14/20\n",
            " - 4s - loss: 0.0139 - acc: 0.9988 - binary_crossentropy: 0.0139 - val_loss: 0.6641 - val_acc: 0.8542 - val_binary_crossentropy: 0.6641\n",
            "Epoch 15/20\n",
            " - 4s - loss: 0.0112 - acc: 0.9994 - binary_crossentropy: 0.0112 - val_loss: 0.6926 - val_acc: 0.8537 - val_binary_crossentropy: 0.6926\n",
            "Epoch 16/20\n",
            " - 4s - loss: 0.0093 - acc: 0.9993 - binary_crossentropy: 0.0093 - val_loss: 0.7174 - val_acc: 0.8533 - val_binary_crossentropy: 0.7174\n",
            "Epoch 17/20\n",
            " - 4s - loss: 0.0078 - acc: 0.9995 - binary_crossentropy: 0.0078 - val_loss: 0.7371 - val_acc: 0.8533 - val_binary_crossentropy: 0.7371\n",
            "Epoch 18/20\n",
            " - 4s - loss: 0.0066 - acc: 0.9995 - binary_crossentropy: 0.0066 - val_loss: 0.7665 - val_acc: 0.8526 - val_binary_crossentropy: 0.7665\n",
            "Epoch 19/20\n",
            " - 4s - loss: 0.0057 - acc: 0.9995 - binary_crossentropy: 0.0057 - val_loss: 0.7744 - val_acc: 0.8519 - val_binary_crossentropy: 0.7744\n",
            "Epoch 20/20\n",
            " - 4s - loss: 0.0049 - acc: 0.9996 - binary_crossentropy: 0.0049 - val_loss: 0.7981 - val_acc: 0.8520 - val_binary_crossentropy: 0.7981\n"
          ],
          "name": "stdout"
        }
      ]
    },
    {
      "metadata": {
        "id": "MhBQcQwEEi0k",
        "colab_type": "text"
      },
      "cell_type": "markdown",
      "source": [
        "##### Create a smaller model"
      ]
    },
    {
      "metadata": {
        "id": "2FJqGLzAEuuV",
        "colab_type": "code",
        "colab": {
          "base_uri": "https://localhost:8080/",
          "height": 262
        },
        "outputId": "d2c5ddc2-b700-413a-eaf9-545f9ddc2549"
      },
      "cell_type": "code",
      "source": [
        "smaller_model = keras.Sequential([\n",
        "    keras.layers.Dense(4, activation=tf.nn.relu, input_shape=(10000,)),\n",
        "    keras.layers.Dense(4, activation=tf.nn.relu),\n",
        "    keras.layers.Dense(1, activation=tf.nn.sigmoid)\n",
        "])\n",
        "\n",
        "smaller_model.compile(optimizer='adam',\n",
        "                loss='binary_crossentropy',\n",
        "                metrics=['accuracy', 'binary_crossentropy'])\n",
        "\n",
        "smaller_model.summary()"
      ],
      "execution_count": 7,
      "outputs": [
        {
          "output_type": "stream",
          "text": [
            "_________________________________________________________________\n",
            "Layer (type)                 Output Shape              Param #   \n",
            "=================================================================\n",
            "dense_3 (Dense)              (None, 4)                 40004     \n",
            "_________________________________________________________________\n",
            "dense_4 (Dense)              (None, 4)                 20        \n",
            "_________________________________________________________________\n",
            "dense_5 (Dense)              (None, 1)                 5         \n",
            "=================================================================\n",
            "Total params: 40,029\n",
            "Trainable params: 40,029\n",
            "Non-trainable params: 0\n",
            "_________________________________________________________________\n"
          ],
          "name": "stdout"
        }
      ]
    },
    {
      "metadata": {
        "id": "JqeuQ3UtE0XI",
        "colab_type": "code",
        "colab": {
          "base_uri": "https://localhost:8080/",
          "height": 791
        },
        "outputId": "8eb686f6-78bf-4e22-a39e-7abff8a444cd"
      },
      "cell_type": "code",
      "source": [
        "smaller_history = smaller_model.fit(train_data,\n",
        "                                    train_labels,\n",
        "                                    epochs=20,\n",
        "                                    batch_size=512,\n",
        "                                    validation_data=(test_data, test_labels),\n",
        "                                    verbose=2)"
      ],
      "execution_count": 8,
      "outputs": [
        {
          "output_type": "stream",
          "text": [
            "Train on 25000 samples, validate on 25000 samples\n",
            "Epoch 1/20\n",
            " - 5s - loss: 0.6007 - acc: 0.6550 - binary_crossentropy: 0.6007 - val_loss: 0.5370 - val_acc: 0.7804 - val_binary_crossentropy: 0.5370\n",
            "Epoch 2/20\n",
            " - 4s - loss: 0.4891 - acc: 0.8391 - binary_crossentropy: 0.4891 - val_loss: 0.4870 - val_acc: 0.8474 - val_binary_crossentropy: 0.4870\n",
            "Epoch 3/20\n",
            " - 4s - loss: 0.4394 - acc: 0.8922 - binary_crossentropy: 0.4394 - val_loss: 0.4629 - val_acc: 0.8567 - val_binary_crossentropy: 0.4629\n",
            "Epoch 4/20\n",
            " - 4s - loss: 0.4050 - acc: 0.9189 - binary_crossentropy: 0.4050 - val_loss: 0.4491 - val_acc: 0.8667 - val_binary_crossentropy: 0.4491\n",
            "Epoch 5/20\n",
            " - 4s - loss: 0.3774 - acc: 0.9365 - binary_crossentropy: 0.3774 - val_loss: 0.4459 - val_acc: 0.8617 - val_binary_crossentropy: 0.4459\n",
            "Epoch 6/20\n",
            " - 4s - loss: 0.3539 - acc: 0.9483 - binary_crossentropy: 0.3539 - val_loss: 0.4396 - val_acc: 0.8680 - val_binary_crossentropy: 0.4396\n",
            "Epoch 7/20\n",
            " - 4s - loss: 0.3330 - acc: 0.9584 - binary_crossentropy: 0.3330 - val_loss: 0.4358 - val_acc: 0.8708 - val_binary_crossentropy: 0.4358\n",
            "Epoch 8/20\n",
            " - 4s - loss: 0.3145 - acc: 0.9653 - binary_crossentropy: 0.3145 - val_loss: 0.4489 - val_acc: 0.8615 - val_binary_crossentropy: 0.4489\n",
            "Epoch 9/20\n",
            " - 4s - loss: 0.2974 - acc: 0.9711 - binary_crossentropy: 0.2974 - val_loss: 0.4460 - val_acc: 0.8661 - val_binary_crossentropy: 0.4460\n",
            "Epoch 10/20\n",
            " - 4s - loss: 0.2817 - acc: 0.9746 - binary_crossentropy: 0.2817 - val_loss: 0.4487 - val_acc: 0.8647 - val_binary_crossentropy: 0.4487\n",
            "Epoch 11/20\n",
            " - 4s - loss: 0.2674 - acc: 0.9782 - binary_crossentropy: 0.2674 - val_loss: 0.4471 - val_acc: 0.8674 - val_binary_crossentropy: 0.4471\n",
            "Epoch 12/20\n",
            " - 4s - loss: 0.2545 - acc: 0.9820 - binary_crossentropy: 0.2545 - val_loss: 0.4606 - val_acc: 0.8630 - val_binary_crossentropy: 0.4606\n",
            "Epoch 13/20\n",
            " - 4s - loss: 0.2424 - acc: 0.9844 - binary_crossentropy: 0.2424 - val_loss: 0.4677 - val_acc: 0.8633 - val_binary_crossentropy: 0.4677\n",
            "Epoch 14/20\n",
            " - 4s - loss: 0.2313 - acc: 0.9857 - binary_crossentropy: 0.2313 - val_loss: 0.4823 - val_acc: 0.8600 - val_binary_crossentropy: 0.4823\n",
            "Epoch 15/20\n",
            " - 4s - loss: 0.2208 - acc: 0.9874 - binary_crossentropy: 0.2208 - val_loss: 0.4874 - val_acc: 0.8611 - val_binary_crossentropy: 0.4874\n",
            "Epoch 16/20\n",
            " - 4s - loss: 0.2116 - acc: 0.9882 - binary_crossentropy: 0.2116 - val_loss: 0.4993 - val_acc: 0.8593 - val_binary_crossentropy: 0.4993\n",
            "Epoch 17/20\n",
            " - 4s - loss: 0.2032 - acc: 0.9892 - binary_crossentropy: 0.2032 - val_loss: 0.5034 - val_acc: 0.8595 - val_binary_crossentropy: 0.5034\n",
            "Epoch 18/20\n",
            " - 4s - loss: 0.1952 - acc: 0.9898 - binary_crossentropy: 0.1952 - val_loss: 0.5163 - val_acc: 0.8574 - val_binary_crossentropy: 0.5163\n",
            "Epoch 19/20\n",
            " - 4s - loss: 0.1877 - acc: 0.9904 - binary_crossentropy: 0.1877 - val_loss: 0.5285 - val_acc: 0.8572 - val_binary_crossentropy: 0.5285\n",
            "Epoch 20/20\n",
            " - 4s - loss: 0.1808 - acc: 0.9905 - binary_crossentropy: 0.1808 - val_loss: 0.5440 - val_acc: 0.8556 - val_binary_crossentropy: 0.5440\n"
          ],
          "name": "stdout"
        }
      ]
    },
    {
      "metadata": {
        "id": "N40lTALyFtEU",
        "colab_type": "text"
      },
      "cell_type": "markdown",
      "source": [
        "##### Create a bigger model"
      ]
    },
    {
      "metadata": {
        "id": "N5qkhywhFxBt",
        "colab_type": "code",
        "colab": {
          "base_uri": "https://localhost:8080/",
          "height": 262
        },
        "outputId": "176d51fa-4c31-4880-d271-e7d6f907b738"
      },
      "cell_type": "code",
      "source": [
        "bigger_model = keras.models.Sequential([\n",
        "    keras.layers.Dense(512, activation=tf.nn.relu, input_shape=(10000,)),\n",
        "    keras.layers.Dense(512, activation=tf.nn.relu),\n",
        "    keras.layers.Dense(1, activation=tf.nn.sigmoid)\n",
        "])\n",
        "\n",
        "bigger_model.compile(optimizer='adam',\n",
        "                     loss='binary_crossentropy',\n",
        "                     metrics=['accuracy','binary_crossentropy'])\n",
        "\n",
        "bigger_model.summary()"
      ],
      "execution_count": 9,
      "outputs": [
        {
          "output_type": "stream",
          "text": [
            "_________________________________________________________________\n",
            "Layer (type)                 Output Shape              Param #   \n",
            "=================================================================\n",
            "dense_6 (Dense)              (None, 512)               5120512   \n",
            "_________________________________________________________________\n",
            "dense_7 (Dense)              (None, 512)               262656    \n",
            "_________________________________________________________________\n",
            "dense_8 (Dense)              (None, 1)                 513       \n",
            "=================================================================\n",
            "Total params: 5,383,681\n",
            "Trainable params: 5,383,681\n",
            "Non-trainable params: 0\n",
            "_________________________________________________________________\n"
          ],
          "name": "stdout"
        }
      ]
    },
    {
      "metadata": {
        "id": "tVTE5qmkF0Ms",
        "colab_type": "code",
        "colab": {
          "base_uri": "https://localhost:8080/",
          "height": 1649
        },
        "outputId": "20c29991-405d-45d4-895b-f89ca6aed4d5"
      },
      "cell_type": "code",
      "source": [
        "bigger_history = bigger_model.fit(train_data, train_labels,\n",
        "                                  epochs=20,\n",
        "                                  batch_size=512,\n",
        "                                  validation_data=(test_data, test_labels),\n",
        "                                  verbose=2)"
      ],
      "execution_count": 10,
      "outputs": [
        {
          "output_type": "stream",
          "text": [
            "Train on 25000 samples, validate on 25000 samples\n",
            "Epoch 1/20\n",
            " - 21s - loss: 0.3479 - acc: 0.8507 - binary_crossentropy: 0.3479 - val_loss: 0.2928 - val_acc: 0.8831 - val_binary_crossentropy: 0.2928\n",
            "Epoch 2/20\n",
            " - 20s - loss: 0.1409 - acc: 0.9491 - binary_crossentropy: 0.1409 - val_loss: 0.3570 - val_acc: 0.8637 - val_binary_crossentropy: 0.3570\n",
            "Epoch 3/20\n",
            " - 21s - loss: 0.0459 - acc: 0.9871 - binary_crossentropy: 0.0459 - val_loss: 0.4303 - val_acc: 0.8689 - val_binary_crossentropy: 0.4303\n",
            "Epoch 4/20\n",
            " - 21s - loss: 0.0066 - acc: 0.9992 - binary_crossentropy: 0.0066 - val_loss: 0.5943 - val_acc: 0.8712 - val_binary_crossentropy: 0.5943\n",
            "Epoch 5/20\n",
            " - 20s - loss: 6.2142e-04 - acc: 1.0000 - binary_crossentropy: 6.2142e-04 - val_loss: 0.6838 - val_acc: 0.8708 - val_binary_crossentropy: 0.6838\n",
            "Epoch 6/20\n",
            " - 20s - loss: 2.0099e-04 - acc: 1.0000 - binary_crossentropy: 2.0099e-04 - val_loss: 0.7162 - val_acc: 0.8707 - val_binary_crossentropy: 0.7162\n",
            "Epoch 7/20\n",
            " - 20s - loss: 1.2700e-04 - acc: 1.0000 - binary_crossentropy: 1.2700e-04 - val_loss: 0.7386 - val_acc: 0.8711 - val_binary_crossentropy: 0.7386\n",
            "Epoch 8/20\n",
            " - 20s - loss: 9.2174e-05 - acc: 1.0000 - binary_crossentropy: 9.2174e-05 - val_loss: 0.7567 - val_acc: 0.8712 - val_binary_crossentropy: 0.7567\n",
            "Epoch 9/20\n",
            " - 20s - loss: 7.1081e-05 - acc: 1.0000 - binary_crossentropy: 7.1081e-05 - val_loss: 0.7718 - val_acc: 0.8711 - val_binary_crossentropy: 0.7718\n",
            "Epoch 10/20\n",
            " - 21s - loss: 5.6830e-05 - acc: 1.0000 - binary_crossentropy: 5.6830e-05 - val_loss: 0.7841 - val_acc: 0.8713 - val_binary_crossentropy: 0.7841\n",
            "Epoch 11/20\n",
            " - 20s - loss: 4.6728e-05 - acc: 1.0000 - binary_crossentropy: 4.6728e-05 - val_loss: 0.7950 - val_acc: 0.8714 - val_binary_crossentropy: 0.7950\n",
            "Epoch 12/20\n",
            " - 20s - loss: 3.9059e-05 - acc: 1.0000 - binary_crossentropy: 3.9059e-05 - val_loss: 0.8051 - val_acc: 0.8717 - val_binary_crossentropy: 0.8051\n",
            "Epoch 13/20\n",
            " - 20s - loss: 3.3229e-05 - acc: 1.0000 - binary_crossentropy: 3.3229e-05 - val_loss: 0.8135 - val_acc: 0.8716 - val_binary_crossentropy: 0.8135\n",
            "Epoch 14/20\n",
            " - 20s - loss: 2.8635e-05 - acc: 1.0000 - binary_crossentropy: 2.8635e-05 - val_loss: 0.8218 - val_acc: 0.8719 - val_binary_crossentropy: 0.8218\n",
            "Epoch 15/20\n",
            " - 20s - loss: 2.4899e-05 - acc: 1.0000 - binary_crossentropy: 2.4899e-05 - val_loss: 0.8294 - val_acc: 0.8719 - val_binary_crossentropy: 0.8294\n",
            "Epoch 16/20\n",
            " - 20s - loss: 2.1870e-05 - acc: 1.0000 - binary_crossentropy: 2.1870e-05 - val_loss: 0.8358 - val_acc: 0.8718 - val_binary_crossentropy: 0.8358\n",
            "Epoch 17/20\n",
            " - 20s - loss: 1.9346e-05 - acc: 1.0000 - binary_crossentropy: 1.9346e-05 - val_loss: 0.8428 - val_acc: 0.8718 - val_binary_crossentropy: 0.8428\n",
            "Epoch 18/20\n",
            " - 20s - loss: 1.7253e-05 - acc: 1.0000 - binary_crossentropy: 1.7253e-05 - val_loss: 0.8484 - val_acc: 0.8719 - val_binary_crossentropy: 0.8484\n",
            "Epoch 19/20\n",
            " - 20s - loss: 1.5441e-05 - acc: 1.0000 - binary_crossentropy: 1.5441e-05 - val_loss: 0.8541 - val_acc: 0.8721 - val_binary_crossentropy: 0.8541\n",
            "Epoch 20/20\n"
          ],
          "name": "stdout"
        },
        {
          "output_type": "error",
          "ename": "KeyboardInterrupt",
          "evalue": "ignored",
          "traceback": [
            "\u001b[0;31m\u001b[0m",
            "\u001b[0;31mKeyboardInterrupt\u001b[0mTraceback (most recent call last)",
            "\u001b[0;32m<ipython-input-10-f1a766b36c26>\u001b[0m in \u001b[0;36m<module>\u001b[0;34m()\u001b[0m\n\u001b[1;32m      3\u001b[0m                                   \u001b[0mbatch_size\u001b[0m\u001b[0;34m=\u001b[0m\u001b[0;36m512\u001b[0m\u001b[0;34m,\u001b[0m\u001b[0;34m\u001b[0m\u001b[0m\n\u001b[1;32m      4\u001b[0m                                   \u001b[0mvalidation_data\u001b[0m\u001b[0;34m=\u001b[0m\u001b[0;34m(\u001b[0m\u001b[0mtest_data\u001b[0m\u001b[0;34m,\u001b[0m \u001b[0mtest_labels\u001b[0m\u001b[0;34m)\u001b[0m\u001b[0;34m,\u001b[0m\u001b[0;34m\u001b[0m\u001b[0m\n\u001b[0;32m----> 5\u001b[0;31m                                   verbose=2)\n\u001b[0m",
            "\u001b[0;32m/usr/local/lib/python2.7/dist-packages/tensorflow/python/keras/engine/training.pyc\u001b[0m in \u001b[0;36mfit\u001b[0;34m(self, x, y, batch_size, epochs, verbose, callbacks, validation_split, validation_data, shuffle, class_weight, sample_weight, initial_epoch, steps_per_epoch, validation_steps, **kwargs)\u001b[0m\n\u001b[1;32m   1346\u001b[0m           \u001b[0minitial_epoch\u001b[0m\u001b[0;34m=\u001b[0m\u001b[0minitial_epoch\u001b[0m\u001b[0;34m,\u001b[0m\u001b[0;34m\u001b[0m\u001b[0m\n\u001b[1;32m   1347\u001b[0m           \u001b[0msteps_per_epoch\u001b[0m\u001b[0;34m=\u001b[0m\u001b[0msteps_per_epoch\u001b[0m\u001b[0;34m,\u001b[0m\u001b[0;34m\u001b[0m\u001b[0m\n\u001b[0;32m-> 1348\u001b[0;31m           validation_steps=validation_steps)\n\u001b[0m\u001b[1;32m   1349\u001b[0m \u001b[0;34m\u001b[0m\u001b[0m\n\u001b[1;32m   1350\u001b[0m   def evaluate(self,\n",
            "\u001b[0;32m/usr/local/lib/python2.7/dist-packages/tensorflow/python/keras/engine/training_arrays.pyc\u001b[0m in \u001b[0;36mfit_loop\u001b[0;34m(model, inputs, targets, sample_weights, batch_size, epochs, verbose, callbacks, val_inputs, val_targets, val_sample_weights, shuffle, callback_metrics, initial_epoch, steps_per_epoch, validation_steps)\u001b[0m\n\u001b[1;32m    269\u001b[0m                 \u001b[0msample_weights\u001b[0m\u001b[0;34m=\u001b[0m\u001b[0mval_sample_weights\u001b[0m\u001b[0;34m,\u001b[0m\u001b[0;34m\u001b[0m\u001b[0m\n\u001b[1;32m    270\u001b[0m                 \u001b[0mbatch_size\u001b[0m\u001b[0;34m=\u001b[0m\u001b[0mbatch_size\u001b[0m\u001b[0;34m,\u001b[0m\u001b[0;34m\u001b[0m\u001b[0m\n\u001b[0;32m--> 271\u001b[0;31m                 verbose=0)\n\u001b[0m\u001b[1;32m    272\u001b[0m             \u001b[0;32mif\u001b[0m \u001b[0;32mnot\u001b[0m \u001b[0misinstance\u001b[0m\u001b[0;34m(\u001b[0m\u001b[0mval_outs\u001b[0m\u001b[0;34m,\u001b[0m \u001b[0mlist\u001b[0m\u001b[0;34m)\u001b[0m\u001b[0;34m:\u001b[0m\u001b[0;34m\u001b[0m\u001b[0m\n\u001b[1;32m    273\u001b[0m               \u001b[0mval_outs\u001b[0m \u001b[0;34m=\u001b[0m \u001b[0;34m[\u001b[0m\u001b[0mval_outs\u001b[0m\u001b[0;34m]\u001b[0m\u001b[0;34m\u001b[0m\u001b[0m\n",
            "\u001b[0;32m/usr/local/lib/python2.7/dist-packages/tensorflow/python/keras/engine/training_arrays.pyc\u001b[0m in \u001b[0;36mtest_loop\u001b[0;34m(model, inputs, targets, sample_weights, batch_size, verbose, steps)\u001b[0m\n\u001b[1;32m    471\u001b[0m         \u001b[0mins_batch\u001b[0m\u001b[0;34m[\u001b[0m\u001b[0mi\u001b[0m\u001b[0;34m]\u001b[0m \u001b[0;34m=\u001b[0m \u001b[0mins_batch\u001b[0m\u001b[0;34m[\u001b[0m\u001b[0mi\u001b[0m\u001b[0;34m]\u001b[0m\u001b[0;34m.\u001b[0m\u001b[0mtoarray\u001b[0m\u001b[0;34m(\u001b[0m\u001b[0;34m)\u001b[0m\u001b[0;34m\u001b[0m\u001b[0m\n\u001b[1;32m    472\u001b[0m \u001b[0;34m\u001b[0m\u001b[0m\n\u001b[0;32m--> 473\u001b[0;31m       \u001b[0mbatch_outs\u001b[0m \u001b[0;34m=\u001b[0m \u001b[0mf\u001b[0m\u001b[0;34m(\u001b[0m\u001b[0mins_batch\u001b[0m\u001b[0;34m)\u001b[0m\u001b[0;34m\u001b[0m\u001b[0m\n\u001b[0m\u001b[1;32m    474\u001b[0m \u001b[0;34m\u001b[0m\u001b[0m\n\u001b[1;32m    475\u001b[0m       \u001b[0;32mif\u001b[0m \u001b[0misinstance\u001b[0m\u001b[0;34m(\u001b[0m\u001b[0mbatch_outs\u001b[0m\u001b[0;34m,\u001b[0m \u001b[0mlist\u001b[0m\u001b[0;34m)\u001b[0m\u001b[0;34m:\u001b[0m\u001b[0;34m\u001b[0m\u001b[0m\n",
            "\u001b[0;32m/usr/local/lib/python2.7/dist-packages/tensorflow/python/keras/backend.pyc\u001b[0m in \u001b[0;36m__call__\u001b[0;34m(self, inputs)\u001b[0m\n\u001b[1;32m   2895\u001b[0m       \u001b[0mself\u001b[0m\u001b[0;34m.\u001b[0m\u001b[0m_make_callable\u001b[0m\u001b[0;34m(\u001b[0m\u001b[0mfeed_arrays\u001b[0m\u001b[0;34m,\u001b[0m \u001b[0mfeed_symbols\u001b[0m\u001b[0;34m,\u001b[0m \u001b[0msymbol_vals\u001b[0m\u001b[0;34m,\u001b[0m \u001b[0msession\u001b[0m\u001b[0;34m)\u001b[0m\u001b[0;34m\u001b[0m\u001b[0m\n\u001b[1;32m   2896\u001b[0m \u001b[0;34m\u001b[0m\u001b[0m\n\u001b[0;32m-> 2897\u001b[0;31m     \u001b[0mfetched\u001b[0m \u001b[0;34m=\u001b[0m \u001b[0mself\u001b[0m\u001b[0;34m.\u001b[0m\u001b[0m_callable_fn\u001b[0m\u001b[0;34m(\u001b[0m\u001b[0;34m*\u001b[0m\u001b[0marray_vals\u001b[0m\u001b[0;34m)\u001b[0m\u001b[0;34m\u001b[0m\u001b[0m\n\u001b[0m\u001b[1;32m   2898\u001b[0m     \u001b[0;32mreturn\u001b[0m \u001b[0mfetched\u001b[0m\u001b[0;34m[\u001b[0m\u001b[0;34m:\u001b[0m\u001b[0mlen\u001b[0m\u001b[0;34m(\u001b[0m\u001b[0mself\u001b[0m\u001b[0;34m.\u001b[0m\u001b[0moutputs\u001b[0m\u001b[0;34m)\u001b[0m\u001b[0;34m]\u001b[0m\u001b[0;34m\u001b[0m\u001b[0m\n\u001b[1;32m   2899\u001b[0m \u001b[0;34m\u001b[0m\u001b[0m\n",
            "\u001b[0;32m/usr/local/lib/python2.7/dist-packages/tensorflow/python/client/session.pyc\u001b[0m in \u001b[0;36m__call__\u001b[0;34m(self, *args)\u001b[0m\n\u001b[1;32m   1449\u001b[0m         \u001b[0;32mif\u001b[0m \u001b[0mself\u001b[0m\u001b[0;34m.\u001b[0m\u001b[0m_session\u001b[0m\u001b[0;34m.\u001b[0m\u001b[0m_created_with_new_api\u001b[0m\u001b[0;34m:\u001b[0m\u001b[0;34m\u001b[0m\u001b[0m\n\u001b[1;32m   1450\u001b[0m           return tf_session.TF_SessionRunCallable(\n\u001b[0;32m-> 1451\u001b[0;31m               self._session._session, self._handle, args, status, None)\n\u001b[0m\u001b[1;32m   1452\u001b[0m         \u001b[0;32melse\u001b[0m\u001b[0;34m:\u001b[0m\u001b[0;34m\u001b[0m\u001b[0m\n\u001b[1;32m   1453\u001b[0m           return tf_session.TF_DeprecatedSessionRunCallable(\n",
            "\u001b[0;31mKeyboardInterrupt\u001b[0m: "
          ]
        }
      ]
    }
  ]
}