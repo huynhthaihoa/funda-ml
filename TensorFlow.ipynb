{
  "nbformat": 4,
  "nbformat_minor": 0,
  "metadata": {
    "colab": {
      "name": "TensorFlow.ipynb",
      "version": "0.3.2",
      "provenance": []
    },
    "kernelspec": {
      "display_name": "Python 3.6",
      "language": "python",
      "name": "python36"
    }
  },
  "cells": [
    {
      "metadata": {
        "id": "wcgRNWeOHEeI",
        "colab_type": "text"
      },
      "cell_type": "markdown",
      "source": [
        "# Get started with TensorFlow"
      ]
    },
    {
      "metadata": {
        "id": "oSWv-TrTHEeN",
        "colab_type": "code",
        "colab": {
          "base_uri": "https://localhost:8080/",
          "height": 263
        },
        "outputId": "aaecc7ea-17fb-4ad6-fb86-55b0daed4f2e"
      },
      "cell_type": "code",
      "source": [
        "import tensorflow as tf\n",
        "mnist = tf.keras.datasets.mnist\n",
        "\n",
        "(x_train, y_train),(x_test, y_test) = mnist.load_data()\n",
        "x_train, x_test = x_train / 255.0, x_test / 255.0\n",
        "\n",
        "model = tf.keras.models.Sequential([\n",
        "  tf.keras.layers.Flatten(),\n",
        "  tf.keras.layers.Dense(512, activation=tf.nn.relu),\n",
        "  tf.keras.layers.Dropout(0.2),\n",
        "  tf.keras.layers.Dense(10, activation=tf.nn.softmax)\n",
        "])\n",
        "model.compile(optimizer='adam',\n",
        "              loss='sparse_categorical_crossentropy',\n",
        "              metrics=['accuracy'])\n",
        "\n",
        "model.fit(x_train, y_train, epochs=5)\n",
        "model.evaluate(x_test, y_test)"
      ],
      "execution_count": 0,
      "outputs": [
        {
          "output_type": "stream",
          "text": [
            "Epoch 1/5\n",
            "60000/60000 [==============================] - 15s 251us/step - loss: 0.2190 - acc: 0.9354\n",
            "Epoch 2/5\n",
            "60000/60000 [==============================] - 15s 248us/step - loss: 0.0954 - acc: 0.9709\n",
            "Epoch 3/5\n",
            "15296/60000 [======>.......................] - ETA: 11s - loss: 0.0599 - acc: 0.9812"
          ],
          "name": "stdout"
        },
        {
          "output_type": "stream",
          "text": [
            "60000/60000 [==============================] - 15s 246us/step - loss: 0.0658 - acc: 0.9792\n",
            "Epoch 4/5\n",
            "60000/60000 [==============================] - 15s 249us/step - loss: 0.0522 - acc: 0.9830\n",
            "Epoch 5/5\n",
            "24736/60000 [===========>..................] - ETA: 8s - loss: 0.0419 - acc: 0.9867"
          ],
          "name": "stdout"
        },
        {
          "output_type": "stream",
          "text": [
            "60000/60000 [==============================] - 15s 247us/step - loss: 0.0442 - acc: 0.9854\n",
            "10000/10000 [==============================] - 0s 50us/step\n"
          ],
          "name": "stdout"
        },
        {
          "output_type": "execute_result",
          "data": {
            "text/plain": [
              "[0.058035363704263, 0.9823]"
            ]
          },
          "metadata": {
            "tags": []
          },
          "execution_count": 12
        }
      ]
    },
    {
      "metadata": {
        "id": "9seGyOg3HEeg",
        "colab_type": "text"
      },
      "cell_type": "markdown",
      "source": [
        "## Learn and use ML"
      ]
    },
    {
      "metadata": {
        "id": "3yRF7nb_S-M-",
        "colab_type": "text"
      },
      "cell_type": "markdown",
      "source": [
        "### Train neural network: basic classification"
      ]
    },
    {
      "metadata": {
        "id": "JQ6O8O1rUdUl",
        "colab_type": "text"
      },
      "cell_type": "markdown",
      "source": [
        "#### Import the Fashion MNIST dataset"
      ]
    },
    {
      "metadata": {
        "id": "7GXn4IUqTLoY",
        "colab_type": "code",
        "colab": {
          "base_uri": "https://localhost:8080/",
          "height": 36
        },
        "outputId": "340d4dff-7c64-4d69-95a5-a7d250b4ee8f"
      },
      "cell_type": "code",
      "source": [
        "# TensorFlow and tf.keras\n",
        "import tensorflow as tf\n",
        "from tensorflow import keras\n",
        "\n",
        "# Helper libraries\n",
        "import numpy as np\n",
        "import matplotlib.pyplot as plt\n",
        "\n",
        "print(tf.__version__)"
      ],
      "execution_count": 0,
      "outputs": [
        {
          "output_type": "stream",
          "text": [
            "1.9.0\n"
          ],
          "name": "stdout"
        }
      ]
    },
    {
      "metadata": {
        "id": "BCdunJo9TVW5",
        "colab_type": "code",
        "colab": {
          "base_uri": "https://localhost:8080/",
          "height": 225
        },
        "outputId": "ec133389-5aaf-48d4-b89f-7c5159cfe3f7"
      },
      "cell_type": "code",
      "source": [
        "fashion_mnist = keras.datasets.fashion_mnist\n",
        "\n",
        "(train_images, train_labels), (test_images, test_labels) = fashion_mnist.load_data()"
      ],
      "execution_count": 0,
      "outputs": [
        {
          "output_type": "stream",
          "text": [
            "Downloading data from http://fashion-mnist.s3-website.eu-central-1.amazonaws.com/train-labels-idx1-ubyte.gz\n",
            "32768/29515 [=================================] - 0s 3us/step\n",
            "40960/29515 [=========================================] - 0s 3us/step\n",
            "Downloading data from http://fashion-mnist.s3-website.eu-central-1.amazonaws.com/train-images-idx3-ubyte.gz\n",
            "26427392/26421880 [==============================] - 7s 0us/step\n",
            "26435584/26421880 [==============================] - 7s 0us/step\n",
            "Downloading data from http://fashion-mnist.s3-website.eu-central-1.amazonaws.com/t10k-labels-idx1-ubyte.gz\n",
            "16384/5148 [===============================================================================================] - 0s 0us/step\n",
            "Downloading data from http://fashion-mnist.s3-website.eu-central-1.amazonaws.com/t10k-images-idx3-ubyte.gz\n",
            "4423680/4422102 [==============================] - 3s 1us/step\n",
            "4431872/4422102 [==============================] - 3s 1us/step\n"
          ],
          "name": "stdout"
        }
      ]
    },
    {
      "metadata": {
        "id": "xzTRUAn-Tchx",
        "colab_type": "code",
        "colab": {}
      },
      "cell_type": "code",
      "source": [
        "class_names = ['T-shirt/top', 'Trouser', 'Pullover', 'Dress', 'Coat', \n",
        "               'Sandal', 'Shirt', 'Sneaker', 'Bag', 'Ankle boot']"
      ],
      "execution_count": 0,
      "outputs": []
    },
    {
      "metadata": {
        "id": "wqJGxhCeUmwl",
        "colab_type": "text"
      },
      "cell_type": "markdown",
      "source": [
        "#### Explore the data"
      ]
    },
    {
      "metadata": {
        "id": "Xx_LyZDhUnZe",
        "colab_type": "code",
        "colab": {
          "base_uri": "https://localhost:8080/",
          "height": 36
        },
        "outputId": "edcc6f2b-5408-4e89-ac28-92aa9d91470d"
      },
      "cell_type": "code",
      "source": [
        "train_images.shape"
      ],
      "execution_count": 0,
      "outputs": [
        {
          "output_type": "execute_result",
          "data": {
            "text/plain": [
              "(60000, 28, 28)"
            ]
          },
          "metadata": {
            "tags": []
          },
          "execution_count": 11
        }
      ]
    },
    {
      "metadata": {
        "id": "ET2zN3EjTtEB",
        "colab_type": "code",
        "colab": {
          "base_uri": "https://localhost:8080/",
          "height": 36
        },
        "outputId": "2dba4bf9-ab34-47a9-f7f6-2765bccd2436"
      },
      "cell_type": "code",
      "source": [
        "len(train_labels)"
      ],
      "execution_count": 0,
      "outputs": [
        {
          "output_type": "execute_result",
          "data": {
            "text/plain": [
              "60000"
            ]
          },
          "metadata": {
            "tags": []
          },
          "execution_count": 8
        }
      ]
    },
    {
      "metadata": {
        "id": "3RmXa-qCTvNu",
        "colab_type": "code",
        "colab": {
          "base_uri": "https://localhost:8080/",
          "height": 36
        },
        "outputId": "7d369641-478a-48e2-f52d-72168eeb8417"
      },
      "cell_type": "code",
      "source": [
        "test_images.shape"
      ],
      "execution_count": 0,
      "outputs": [
        {
          "output_type": "execute_result",
          "data": {
            "text/plain": [
              "(10000, 28, 28)"
            ]
          },
          "metadata": {
            "tags": []
          },
          "execution_count": 7
        }
      ]
    },
    {
      "metadata": {
        "id": "eUZXyzLcTyzE",
        "colab_type": "code",
        "colab": {
          "base_uri": "https://localhost:8080/",
          "height": 36
        },
        "outputId": "1c70a1fe-738f-48d1-9717-675da9894922"
      },
      "cell_type": "code",
      "source": [
        "len(test_labels)"
      ],
      "execution_count": 0,
      "outputs": [
        {
          "output_type": "execute_result",
          "data": {
            "text/plain": [
              "10000"
            ]
          },
          "metadata": {
            "tags": []
          },
          "execution_count": 9
        }
      ]
    },
    {
      "metadata": {
        "id": "rukSip-lUvDu",
        "colab_type": "text"
      },
      "cell_type": "markdown",
      "source": [
        "#### Preprocess the data"
      ]
    },
    {
      "metadata": {
        "id": "f-lks_VGUy0S",
        "colab_type": "code",
        "colab": {
          "base_uri": "https://localhost:8080/",
          "height": 347
        },
        "outputId": "da55991d-9fde-48e0-8478-5426f64b2a7a"
      },
      "cell_type": "code",
      "source": [
        "plt.figure()\n",
        "plt.imshow(train_images[0])\n",
        "plt.colorbar()\n",
        "plt.gca().grid(False)"
      ],
      "execution_count": 0,
      "outputs": [
        {
          "output_type": "display_data",
          "data": {
            "image/png": "[encoded data removed]",
            "text/plain": [
              "<matplotlib.figure.Figure at 0x7f7d8a9cbc50>"
            ]
          },
          "metadata": {
            "tags": []
          }
        }
      ]
    },
    {
      "metadata": {
        "id": "EYB5lNYtVm4r",
        "colab_type": "code",
        "colab": {}
      },
      "cell_type": "code",
      "source": [
        "train_images = train_images / 255.0\n",
        "\n",
        "test_images = test_images / 255.0"
      ],
      "execution_count": 0,
      "outputs": []
    },
    {
      "metadata": {
        "id": "Gq5QJ699V30t",
        "colab_type": "code",
        "colab": {
          "base_uri": "https://localhost:8080/",
          "height": 589
        },
        "outputId": "91224391-9977-4917-f35f-18a444cd014c"
      },
      "cell_type": "code",
      "source": [
        "import matplotlib.pyplot as plt\n",
        "%matplotlib inline\n",
        "\n",
        "plt.figure(figsize=(10,10))\n",
        "for i in range(25):\n",
        "    plt.subplot(5,5,i+1)\n",
        "    plt.xticks([])\n",
        "    plt.yticks([])\n",
        "    plt.grid('off')\n",
        "    plt.imshow(train_images[i], cmap=plt.cm.binary)\n",
        "    plt.xlabel(class_names[train_labels[i]])"
      ],
      "execution_count": 0,
      "outputs": [
        {
          "output_type": "display_data",
          "data": {
            "image/png": "[encoded data removed]",
            "text/plain": [
              "<matplotlib.figure.Figure at 0x7f7d882b7d10>"
            ]
          },
          "metadata": {
            "tags": []
          }
        }
      ]
    },
    {
      "metadata": {
        "id": "92B-AQJIWeyB",
        "colab_type": "text"
      },
      "cell_type": "markdown",
      "source": [
        "#### Build the model"
      ]
    },
    {
      "metadata": {
        "id": "3348ycOTWks9",
        "colab_type": "text"
      },
      "cell_type": "markdown",
      "source": [
        "##### Setup the layers"
      ]
    },
    {
      "metadata": {
        "id": "0nbXzbhcWjz3",
        "colab_type": "code",
        "colab": {}
      },
      "cell_type": "code",
      "source": [
        "model = keras.Sequential([\n",
        "    keras.layers.Flatten(input_shape=(28, 28)),\n",
        "    keras.layers.Dense(128, activation=tf.nn.relu),\n",
        "    keras.layers.Dense(10, activation=tf.nn.softmax)\n",
        "])"
      ],
      "execution_count": 0,
      "outputs": []
    },
    {
      "metadata": {
        "id": "U81OoY87WuZ5",
        "colab_type": "text"
      },
      "cell_type": "markdown",
      "source": [
        "##### Compile the model"
      ]
    },
    {
      "metadata": {
        "id": "deG6oc1SWrnj",
        "colab_type": "code",
        "colab": {}
      },
      "cell_type": "code",
      "source": [
        "model.compile(optimizer=tf.train.AdamOptimizer(), \n",
        "              loss='sparse_categorical_crossentropy',\n",
        "              metrics=['accuracy'])"
      ],
      "execution_count": 0,
      "outputs": []
    },
    {
      "metadata": {
        "id": "D_-u36P0Yrbm",
        "colab_type": "text"
      },
      "cell_type": "markdown",
      "source": [
        "#### Train the model"
      ]
    },
    {
      "metadata": {
        "id": "h1N10hxFYwPt",
        "colab_type": "code",
        "colab": {
          "base_uri": "https://localhost:8080/",
          "height": 245
        },
        "outputId": "b6ef6087-52b1-4a81-8588-8d297fbbd208"
      },
      "cell_type": "code",
      "source": [
        "model.fit(train_images, train_labels, epochs=5)"
      ],
      "execution_count": 0,
      "outputs": [
        {
          "output_type": "stream",
          "text": [
            "Epoch 1/5\n",
            "60000/60000 [==============================] - 5s 78us/step - loss: 0.4978 - acc: 0.8261\n",
            "Epoch 2/5\n",
            "60000/60000 [==============================] - 4s 72us/step - loss: 0.3750 - acc: 0.8637\n",
            "Epoch 3/5\n",
            "60000/60000 [==============================] - 4s 74us/step - loss: 0.3356 - acc: 0.8779\n",
            "Epoch 4/5\n",
            "60000/60000 [==============================] - 4s 73us/step - loss: 0.3130 - acc: 0.8845\n",
            "Epoch 5/5\n",
            "20224/60000 [=========>....................] - ETA: 2s - loss: 0.2972 - acc: 0.8929"
          ],
          "name": "stdout"
        },
        {
          "output_type": "stream",
          "text": [
            "60000/60000 [==============================] - 4s 73us/step - loss: 0.2962 - acc: 0.8903\n"
          ],
          "name": "stdout"
        },
        {
          "output_type": "execute_result",
          "data": {
            "text/plain": [
              "<tensorflow.python.keras.callbacks.History at 0x7f7d8845db90>"
            ]
          },
          "metadata": {
            "tags": []
          },
          "execution_count": 18
        }
      ]
    },
    {
      "metadata": {
        "id": "JkZ9bwReZFVe",
        "colab_type": "text"
      },
      "cell_type": "markdown",
      "source": [
        "#### Evaluate accuracy"
      ]
    },
    {
      "metadata": {
        "id": "DYw6PNPRZIxs",
        "colab_type": "code",
        "colab": {
          "base_uri": "https://localhost:8080/",
          "height": 55
        },
        "outputId": "c722d343-f29a-412f-b5d8-e6774546e412"
      },
      "cell_type": "code",
      "source": [
        "test_loss, test_acc = model.evaluate(test_images, test_labels)\n",
        "\n",
        "print('Test accuracy:', test_acc)"
      ],
      "execution_count": 0,
      "outputs": [
        {
          "output_type": "stream",
          "text": [
            "10000/10000 [==============================] - 0s 27us/step\n",
            "('Test accuracy:', 0.8779)\n"
          ],
          "name": "stdout"
        }
      ]
    },
    {
      "metadata": {
        "id": "LOFTfJcgZTrF",
        "colab_type": "text"
      },
      "cell_type": "markdown",
      "source": [
        "#### Make predictions"
      ]
    },
    {
      "metadata": {
        "id": "TD0M2VU-ZXAM",
        "colab_type": "code",
        "colab": {
          "base_uri": "https://localhost:8080/",
          "height": 74
        },
        "outputId": "bc175c89-829e-4b76-92ce-9f3e6adb4bb4"
      },
      "cell_type": "code",
      "source": [
        "predictions = model.predict(test_images)\n",
        "predictions[0]"
      ],
      "execution_count": 0,
      "outputs": [
        {
          "output_type": "execute_result",
          "data": {
            "text/plain": [
              "array([7.3492383e-06, 3.6656463e-08, 1.3729948e-07, 2.0216341e-08,\n",
              "       3.5886426e-06, 1.3199381e-02, 2.8355205e-05, 6.1611027e-02,\n",
              "       2.6625770e-05, 9.2512345e-01], dtype=float32)"
            ]
          },
          "metadata": {
            "tags": []
          },
          "execution_count": 20
        }
      ]
    },
    {
      "metadata": {
        "id": "Lu0RvrBFZ8J9",
        "colab_type": "code",
        "colab": {
          "base_uri": "https://localhost:8080/",
          "height": 36
        },
        "outputId": "4bdd34b6-1ae1-4342-935b-305d76760eaa"
      },
      "cell_type": "code",
      "source": [
        "np.argmax(predictions[0])"
      ],
      "execution_count": 0,
      "outputs": [
        {
          "output_type": "execute_result",
          "data": {
            "text/plain": [
              "9"
            ]
          },
          "metadata": {
            "tags": []
          },
          "execution_count": 21
        }
      ]
    },
    {
      "metadata": {
        "id": "uoNF8KFoZ9zN",
        "colab_type": "code",
        "colab": {
          "base_uri": "https://localhost:8080/",
          "height": 36
        },
        "outputId": "86f479ad-84ac-4566-c04f-a7285246d3d2"
      },
      "cell_type": "code",
      "source": [
        "test_labels[0]"
      ],
      "execution_count": 0,
      "outputs": [
        {
          "output_type": "execute_result",
          "data": {
            "text/plain": [
              "9"
            ]
          },
          "metadata": {
            "tags": []
          },
          "execution_count": 22
        }
      ]
    },
    {
      "metadata": {
        "id": "C1A_eS1maAU8",
        "colab_type": "code",
        "colab": {
          "base_uri": "https://localhost:8080/",
          "height": 589
        },
        "outputId": "6b192027-1f9d-4748-b805-36b185e98b8a"
      },
      "cell_type": "code",
      "source": [
        "# Plot the first 25 test images, their predicted label, and the true label\n",
        "# Color correct predictions in green, incorrect predictions in red\n",
        "plt.figure(figsize=(10,10))\n",
        "for i in range(25):\n",
        "    plt.subplot(5,5,i+1)\n",
        "    plt.xticks([])\n",
        "    plt.yticks([])\n",
        "    plt.grid('off')\n",
        "    plt.imshow(test_images[i], cmap=plt.cm.binary)\n",
        "    predicted_label = np.argmax(predictions[i])\n",
        "    true_label = test_labels[i]\n",
        "    if predicted_label == true_label:\n",
        "      color = 'green'\n",
        "    else:\n",
        "      color = 'red'\n",
        "    plt.xlabel(\"{} ({})\".format(class_names[predicted_label], \n",
        "                                  class_names[true_label]),\n",
        "                                  color=color)"
      ],
      "execution_count": 0,
      "outputs": [
        {
          "output_type": "display_data",
          "data": {
            "image/png": "[encoded data removed]",
            "text/plain": [
              "<matplotlib.figure.Figure at 0x7f7d872f70d0>"
            ]
          },
          "metadata": {
            "tags": []
          }
        }
      ]
    },
    {
      "metadata": {
        "id": "DjdgXau7agxN",
        "colab_type": "code",
        "colab": {
          "base_uri": "https://localhost:8080/",
          "height": 36
        },
        "outputId": "d1bf14d7-ae6f-4b48-91df-70f4000dcd21"
      },
      "cell_type": "code",
      "source": [
        "# Grab an image from the test dataset\n",
        "img = test_images[0]\n",
        "print(img.shape)"
      ],
      "execution_count": 0,
      "outputs": [
        {
          "output_type": "stream",
          "text": [
            "(28, 28)\n"
          ],
          "name": "stdout"
        }
      ]
    },
    {
      "metadata": {
        "id": "gWugCNJ7akNn",
        "colab_type": "code",
        "colab": {
          "base_uri": "https://localhost:8080/",
          "height": 36
        },
        "outputId": "10334acc-3ace-467a-920e-e561a793648a"
      },
      "cell_type": "code",
      "source": [
        "# Add the image to a batch where it's the only member.\n",
        "img = (np.expand_dims(img,0))\n",
        "print(img.shape)"
      ],
      "execution_count": 0,
      "outputs": [
        {
          "output_type": "stream",
          "text": [
            "(1, 28, 28)\n"
          ],
          "name": "stdout"
        }
      ]
    },
    {
      "metadata": {
        "id": "aybyco2jaoX8",
        "colab_type": "code",
        "colab": {
          "base_uri": "https://localhost:8080/",
          "height": 55
        },
        "outputId": "80c7271c-bee6-4813-88f5-f95e64604da4"
      },
      "cell_type": "code",
      "source": [
        "predictions = model.predict(img)\n",
        "\n",
        "print(predictions)"
      ],
      "execution_count": 0,
      "outputs": [
        {
          "output_type": "stream",
          "text": [
            "[[7.3492383e-06 3.6656463e-08 1.3729974e-07 2.0216341e-08 3.5886392e-06\n",
            "  1.3199394e-02 2.8355205e-05 6.1611027e-02 2.6625770e-05 9.2512345e-01]]\n"
          ],
          "name": "stdout"
        }
      ]
    },
    {
      "metadata": {
        "id": "tZSHADKWarw9",
        "colab_type": "code",
        "colab": {
          "base_uri": "https://localhost:8080/",
          "height": 36
        },
        "outputId": "49748867-04ed-4a31-ac4d-414181e1e2a8"
      },
      "cell_type": "code",
      "source": [
        "prediction = predictions[0]\n",
        "\n",
        "np.argmax(prediction)"
      ],
      "execution_count": 0,
      "outputs": [
        {
          "output_type": "execute_result",
          "data": {
            "text/plain": [
              "9"
            ]
          },
          "metadata": {
            "tags": []
          },
          "execution_count": 27
        }
      ]
    },
    {
      "metadata": {
        "id": "KR2_Ckr1hcHL",
        "colab_type": "text"
      },
      "cell_type": "markdown",
      "source": [
        "###  Classify movie reviews: binary classification"
      ]
    },
    {
      "metadata": {
        "id": "Kz3bKqshhgnU",
        "colab_type": "text"
      },
      "cell_type": "markdown",
      "source": [
        "#### Download the IMDB dataset"
      ]
    },
    {
      "metadata": {
        "id": "VBWmTlo4he6s",
        "colab_type": "code",
        "colab": {}
      },
      "cell_type": "code",
      "source": [
        "imdb = keras.datasets.imdb\n",
        "\n",
        "(train_data, train_labels), (test_data, test_labels) = imdb.load_data(num_words=10000)"
      ],
      "execution_count": 0,
      "outputs": []
    },
    {
      "metadata": {
        "id": "5lJ5cASejJ22",
        "colab_type": "text"
      },
      "cell_type": "markdown",
      "source": [
        "#### Explore the data"
      ]
    },
    {
      "metadata": {
        "id": "upJACI1AiRhI",
        "colab_type": "code",
        "colab": {
          "base_uri": "https://localhost:8080/",
          "height": 36
        },
        "outputId": "0ee6ea70-e709-40a7-c53f-c96ce0517f90"
      },
      "cell_type": "code",
      "source": [
        "print(\"Training entries: {}, labels: {}\".format(len(train_data), len(train_labels)))"
      ],
      "execution_count": 0,
      "outputs": [
        {
          "output_type": "stream",
          "text": [
            "Training entries: 25000, labels: 25000\n"
          ],
          "name": "stdout"
        }
      ]
    },
    {
      "metadata": {
        "id": "r9Ye7-O8iplh",
        "colab_type": "code",
        "colab": {
          "base_uri": "https://localhost:8080/",
          "height": 56
        },
        "outputId": "e9cc3163-cc44-4836-dd1a-cbaa6d47d8b8"
      },
      "cell_type": "code",
      "source": [
        "print(train_data[0])"
      ],
      "execution_count": 0,
      "outputs": [
        {
          "output_type": "stream",
          "text": [
            "[1, 14, 22, 16, 43, 530, 973, 1622, 1385, 65, 458, 4468, 66, 3941, 4, 173, 36, 256, 5, 25, 100, 43, 838, 112, 50, 670, 2, 9, 35, 480, 284, 5, 150, 4, 172, 112, 167, 2, 336, 385, 39, 4, 172, 4536, 1111, 17, 546, 38, 13, 447, 4, 192, 50, 16, 6, 147, 2025, 19, 14, 22, 4, 1920, 4613, 469, 4, 22, 71, 87, 12, 16, 43, 530, 38, 76, 15, 13, 1247, 4, 22, 17, 515, 17, 12, 16, 626, 18, 2, 5, 62, 386, 12, 8, 316, 8, 106, 5, 4, 2223, 5244, 16, 480, 66, 3785, 33, 4, 130, 12, 16, 38, 619, 5, 25, 124, 51, 36, 135, 48, 25, 1415, 33, 6, 22, 12, 215, 28, 77, 52, 5, 14, 407, 16, 82, 2, 8, 4, 107, 117, 5952, 15, 256, 4, 2, 7, 3766, 5, 723, 36, 71, 43, 530, 476, 26, 400, 317, 46, 7, 4, 2, 1029, 13, 104, 88, 4, 381, 15, 297, 98, 32, 2071, 56, 26, 141, 6, 194, 7486, 18, 4, 226, 22, 21, 134, 476, 26, 480, 5, 144, 30, 5535, 18, 51, 36, 28, 224, 92, 25, 104, 4, 226, 65, 16, 38, 1334, 88, 12, 16, 283, 5, 16, 4472, 113, 103, 32, 15, 16, 5345, 19, 178, 32]\n"
          ],
          "name": "stdout"
        }
      ]
    },
    {
      "metadata": {
        "id": "XBvlgW-QjCSI",
        "colab_type": "code",
        "colab": {
          "base_uri": "https://localhost:8080/",
          "height": 36
        },
        "outputId": "22416b24-d03c-4b42-c16c-757e623b188b"
      },
      "cell_type": "code",
      "source": [
        "len(train_data[0]), len(train_data[1])"
      ],
      "execution_count": 0,
      "outputs": [
        {
          "output_type": "execute_result",
          "data": {
            "text/plain": [
              "(218, 189)"
            ]
          },
          "metadata": {
            "tags": []
          },
          "execution_count": 6
        }
      ]
    },
    {
      "metadata": {
        "id": "zGtfTMioml7m",
        "colab_type": "text"
      },
      "cell_type": "markdown",
      "source": [
        "##### Convert the integers back to words"
      ]
    },
    {
      "metadata": {
        "id": "LcRlGjBUmtl1",
        "colab_type": "code",
        "colab": {}
      },
      "cell_type": "code",
      "source": [
        "# A dictionary mapping words to an integer index\n",
        "word_index = imdb.get_word_index()\n",
        "\n",
        "# The first indices are reserved\n",
        "word_index = {k:(v+3) for k,v in word_index.items()} \n",
        "word_index[\"<PAD>\"] = 0\n",
        "word_index[\"<START>\"] = 1\n",
        "word_index[\"<UNK>\"] = 2  # unknown\n",
        "word_index[\"<UNUSED>\"] = 3\n",
        "reverse_word_index = dict([(value, key) for (key, value) in word_index.items()])\n",
        "\n",
        "def decode_review(text):\n",
        "    return ' '.join([reverse_word_index.get(i, '?') for i in text])"
      ],
      "execution_count": 0,
      "outputs": []
    },
    {
      "metadata": {
        "id": "O2QC58Gtq9ZD",
        "colab_type": "code",
        "colab": {
          "base_uri": "https://localhost:8080/",
          "height": 56
        },
        "outputId": "12c9370a-439b-40f5-972c-d112bf25cdd5"
      },
      "cell_type": "code",
      "source": [
        "decode_review(train_data[0])"
      ],
      "execution_count": 0,
      "outputs": [
        {
          "output_type": "execute_result",
          "data": {
            "text/plain": [
              "u\"<START> this film was just brilliant casting location scenery story direction everyone's really suited the part they played and you could just imagine being there robert <UNK> is an amazing actor and now the same being director <UNK> father came from the same scottish island as myself so i loved the fact there was a real connection with this film the witty remarks throughout the film were great it was just brilliant so much that i bought the film as soon as it was released for <UNK> and would recommend it to everyone to watch and the fly fishing was amazing really cried at the end it was so sad and you know what they say if you cry at a film it must have been good and this definitely was also <UNK> to the two little boy's that played the <UNK> of norman and paul they were just brilliant children are often left out of the <UNK> list i think because the stars that play them all grown up are such a big profile for the whole film but these children are amazing and should be praised for what they have done don't you think the whole story was so lovely because it was true and was someone's life after all that was shared with us all\""
            ]
          },
          "metadata": {
            "tags": []
          },
          "execution_count": 9
        }
      ]
    },
    {
      "metadata": {
        "id": "p7xbJH-UC4WL",
        "colab_type": "text"
      },
      "cell_type": "markdown",
      "source": [
        "#### Prepare the data"
      ]
    },
    {
      "metadata": {
        "id": "hjPPMSXqC_fW",
        "colab_type": "code",
        "colab": {}
      },
      "cell_type": "code",
      "source": [
        "train_data = keras.preprocessing.sequence.pad_sequences(train_data,\n",
        "                                                        value=word_index[\"<PAD>\"],\n",
        "                                                        padding='post',\n",
        "                                                        maxlen=256)\n",
        "\n",
        "test_data = keras.preprocessing.sequence.pad_sequences(test_data,\n",
        "                                                       value=word_index[\"<PAD>\"],\n",
        "                                                       padding='post',\n",
        "                                                       maxlen=256)"
      ],
      "execution_count": 0,
      "outputs": []
    },
    {
      "metadata": {
        "id": "-NxrfluJDFuv",
        "colab_type": "code",
        "colab": {
          "base_uri": "https://localhost:8080/",
          "height": 36
        },
        "outputId": "29f7d175-43d6-4dc9-ffe7-42adf0571136"
      },
      "cell_type": "code",
      "source": [
        "len(train_data[0]), len(train_data[1])"
      ],
      "execution_count": 0,
      "outputs": [
        {
          "output_type": "execute_result",
          "data": {
            "text/plain": [
              "(256, 256)"
            ]
          },
          "metadata": {
            "tags": []
          },
          "execution_count": 19
        }
      ]
    },
    {
      "metadata": {
        "id": "mOM7z8wdDI-n",
        "colab_type": "code",
        "colab": {
          "base_uri": "https://localhost:8080/",
          "height": 375
        },
        "outputId": "1a24f1a4-9675-4acc-a969-2853ca6b1beb"
      },
      "cell_type": "code",
      "source": [
        "print(train_data[0])"
      ],
      "execution_count": 0,
      "outputs": [
        {
          "output_type": "stream",
          "text": [
            "[   1   14   22   16   43  530  973 1622 1385   65  458 4468   66 3941\n",
            "    4  173   36  256    5   25  100   43  838  112   50  670    2    9\n",
            "   35  480  284    5  150    4  172  112  167    2  336  385   39    4\n",
            "  172 4536 1111   17  546   38   13  447    4  192   50   16    6  147\n",
            " 2025   19   14   22    4 1920 4613  469    4   22   71   87   12   16\n",
            "   43  530   38   76   15   13 1247    4   22   17  515   17   12   16\n",
            "  626   18    2    5   62  386   12    8  316    8  106    5    4 2223\n",
            " 5244   16  480   66 3785   33    4  130   12   16   38  619    5   25\n",
            "  124   51   36  135   48   25 1415   33    6   22   12  215   28   77\n",
            "   52    5   14  407   16   82    2    8    4  107  117 5952   15  256\n",
            "    4    2    7 3766    5  723   36   71   43  530  476   26  400  317\n",
            "   46    7    4    2 1029   13  104   88    4  381   15  297   98   32\n",
            " 2071   56   26  141    6  194 7486   18    4  226   22   21  134  476\n",
            "   26  480    5  144   30 5535   18   51   36   28  224   92   25  104\n",
            "    4  226   65   16   38 1334   88   12   16  283    5   16 4472  113\n",
            "  103   32   15   16 5345   19  178   32    0    0    0    0    0    0\n",
            "    0    0    0    0    0    0    0    0    0    0    0    0    0    0\n",
            "    0    0    0    0    0    0    0    0    0    0    0    0    0    0\n",
            "    0    0    0    0]\n"
          ],
          "name": "stdout"
        }
      ]
    },
    {
      "metadata": {
        "id": "rLd1R7UvDOkS",
        "colab_type": "text"
      },
      "cell_type": "markdown",
      "source": [
        "#### Build the model"
      ]
    },
    {
      "metadata": {
        "id": "I5mrcXqgDTNH",
        "colab_type": "code",
        "colab": {
          "base_uri": "https://localhost:8080/",
          "height": 300
        },
        "outputId": "5273b056-a4de-4878-de31-ba80aa49fabd"
      },
      "cell_type": "code",
      "source": [
        "# input shape is the vocabulary count used for the movie reviews (10,000 words)\n",
        "vocab_size = 10000\n",
        "\n",
        "model = keras.Sequential()\n",
        "model.add(keras.layers.Embedding(vocab_size, 16))\n",
        "model.add(keras.layers.GlobalAveragePooling1D())\n",
        "model.add(keras.layers.Dense(16, activation=tf.nn.relu))\n",
        "model.add(keras.layers.Dense(1, activation=tf.nn.sigmoid))\n",
        "\n",
        "model.summary()"
      ],
      "execution_count": 0,
      "outputs": [
        {
          "output_type": "stream",
          "text": [
            "_________________________________________________________________\n",
            "Layer (type)                 Output Shape              Param #   \n",
            "=================================================================\n",
            "embedding (Embedding)        (None, None, 16)          160000    \n",
            "_________________________________________________________________\n",
            "global_average_pooling1d (Gl (None, 16)                0         \n",
            "_________________________________________________________________\n",
            "dense_4 (Dense)              (None, 16)                272       \n",
            "_________________________________________________________________\n",
            "dense_5 (Dense)              (None, 1)                 17        \n",
            "=================================================================\n",
            "Total params: 160,289\n",
            "Trainable params: 160,289\n",
            "Non-trainable params: 0\n",
            "_________________________________________________________________\n"
          ],
          "name": "stdout"
        }
      ]
    },
    {
      "metadata": {
        "id": "TiuWzcB-FKat",
        "colab_type": "code",
        "colab": {}
      },
      "cell_type": "code",
      "source": [
        "model.compile(optimizer=tf.train.AdamOptimizer(),\n",
        "              loss='binary_crossentropy',\n",
        "              metrics=['accuracy'])"
      ],
      "execution_count": 0,
      "outputs": []
    },
    {
      "metadata": {
        "id": "EuJWpD9KFPH4",
        "colab_type": "text"
      },
      "cell_type": "markdown",
      "source": [
        "#### Create a validation set"
      ]
    },
    {
      "metadata": {
        "id": "5W-bTbGoFUFY",
        "colab_type": "code",
        "colab": {}
      },
      "cell_type": "code",
      "source": [
        "x_val = train_data[:10000]\n",
        "partial_x_train = train_data[10000:]\n",
        "\n",
        "y_val = train_labels[:10000]\n",
        "partial_y_train = train_labels[10000:]"
      ],
      "execution_count": 0,
      "outputs": []
    },
    {
      "metadata": {
        "id": "rQS7ltoNFaKf",
        "colab_type": "text"
      },
      "cell_type": "markdown",
      "source": [
        "#### Train the model"
      ]
    },
    {
      "metadata": {
        "id": "7kPpCQV7Fdgy",
        "colab_type": "code",
        "colab": {
          "base_uri": "https://localhost:8080/",
          "height": 1565
        },
        "outputId": "d3cc59b4-2240-4c5b-9cdc-c32bfc1bb0c0"
      },
      "cell_type": "code",
      "source": [
        "history = model.fit(partial_x_train,\n",
        "                    partial_y_train,\n",
        "                    epochs=40,\n",
        "                    batch_size=512,\n",
        "                    validation_data=(x_val, y_val),\n",
        "                    verbose=1)"
      ],
      "execution_count": 0,
      "outputs": [
        {
          "output_type": "stream",
          "text": [
            "Train on 15000 samples, validate on 10000 samples\n",
            "Epoch 1/40\n",
            "15000/15000 [==============================] - 1s 73us/step - loss: 0.6928 - acc: 0.5211 - val_loss: 0.6907 - val_acc: 0.5274\n",
            "Epoch 2/40\n",
            "15000/15000 [==============================] - 1s 51us/step - loss: 0.6892 - acc: 0.5601 - val_loss: 0.6878 - val_acc: 0.5989\n",
            "Epoch 3/40\n",
            "15000/15000 [==============================] - 1s 52us/step - loss: 0.6860 - acc: 0.6026 - val_loss: 0.6850 - val_acc: 0.6123\n",
            "Epoch 4/40\n",
            "15000/15000 [==============================] - 1s 61us/step - loss: 0.6821 - acc: 0.6429 - val_loss: 0.6819 - val_acc: 0.5653\n",
            "Epoch 5/40\n",
            "15000/15000 [==============================] - 1s 61us/step - loss: 0.6769 - acc: 0.6603 - val_loss: 0.6751 - val_acc: 0.6734\n",
            "Epoch 6/40\n",
            "15000/15000 [==============================] - 1s 60us/step - loss: 0.6697 - acc: 0.7019 - val_loss: 0.6675 - val_acc: 0.7003\n",
            "Epoch 7/40\n",
            "15000/15000 [==============================] - 1s 61us/step - loss: 0.6599 - acc: 0.7196 - val_loss: 0.6577 - val_acc: 0.7065\n",
            "Epoch 8/40\n",
            "15000/15000 [==============================] - 1s 61us/step - loss: 0.6472 - acc: 0.7329 - val_loss: 0.6450 - val_acc: 0.7193\n",
            "Epoch 9/40\n",
            "15000/15000 [==============================] - 1s 60us/step - loss: 0.6316 - acc: 0.7451 - val_loss: 0.6286 - val_acc: 0.7387\n",
            "Epoch 10/40\n",
            " 1536/15000 [==>...........................] - ETA: 0s - loss: 0.6224 - acc: 0.7552"
          ],
          "name": "stdout"
        },
        {
          "output_type": "stream",
          "text": [
            "15000/15000 [==============================] - 1s 61us/step - loss: 0.6122 - acc: 0.7630 - val_loss: 0.6096 - val_acc: 0.7524\n",
            "Epoch 11/40\n",
            "15000/15000 [==============================] - 1s 60us/step - loss: 0.5903 - acc: 0.7669 - val_loss: 0.5900 - val_acc: 0.7563\n",
            "Epoch 12/40\n",
            "15000/15000 [==============================] - 1s 61us/step - loss: 0.5656 - acc: 0.7834 - val_loss: 0.5652 - val_acc: 0.7761\n",
            "Epoch 13/40\n",
            "15000/15000 [==============================] - 1s 60us/step - loss: 0.5385 - acc: 0.8007 - val_loss: 0.5412 - val_acc: 0.7896\n",
            "Epoch 14/40\n",
            "15000/15000 [==============================] - 1s 60us/step - loss: 0.5112 - acc: 0.8143 - val_loss: 0.5160 - val_acc: 0.8015\n",
            "Epoch 15/40\n",
            "15000/15000 [==============================] - 1s 61us/step - loss: 0.4835 - acc: 0.8274 - val_loss: 0.4908 - val_acc: 0.8117\n",
            "Epoch 16/40\n",
            "15000/15000 [==============================] - 1s 60us/step - loss: 0.4569 - acc: 0.8363 - val_loss: 0.4674 - val_acc: 0.8211\n",
            "Epoch 17/40\n",
            "15000/15000 [==============================] - 1s 62us/step - loss: 0.4305 - acc: 0.8494 - val_loss: 0.4457 - val_acc: 0.8312\n",
            "Epoch 18/40\n",
            "15000/15000 [==============================] - 1s 61us/step - loss: 0.4067 - acc: 0.8581 - val_loss: 0.4252 - val_acc: 0.8400\n",
            "Epoch 19/40\n",
            " 5632/15000 [==========>...................] - ETA: 0s - loss: 0.3912 - acc: 0.8679"
          ],
          "name": "stdout"
        },
        {
          "output_type": "stream",
          "text": [
            "15000/15000 [==============================] - 1s 61us/step - loss: 0.3849 - acc: 0.8685 - val_loss: 0.4073 - val_acc: 0.8465\n",
            "Epoch 20/40\n",
            "15000/15000 [==============================] - 1s 60us/step - loss: 0.3654 - acc: 0.8765 - val_loss: 0.3916 - val_acc: 0.8514\n",
            "Epoch 21/40\n",
            "15000/15000 [==============================] - 1s 60us/step - loss: 0.3477 - acc: 0.8810 - val_loss: 0.3778 - val_acc: 0.8574\n",
            "Epoch 22/40\n",
            "15000/15000 [==============================] - 1s 60us/step - loss: 0.3320 - acc: 0.8859 - val_loss: 0.3660 - val_acc: 0.8611\n",
            "Epoch 23/40\n",
            "15000/15000 [==============================] - 1s 61us/step - loss: 0.3181 - acc: 0.8902 - val_loss: 0.3561 - val_acc: 0.8620\n",
            "Epoch 24/40\n",
            "15000/15000 [==============================] - 1s 60us/step - loss: 0.3052 - acc: 0.8935 - val_loss: 0.3468 - val_acc: 0.8667\n",
            "Epoch 25/40\n",
            "15000/15000 [==============================] - 1s 60us/step - loss: 0.2938 - acc: 0.8981 - val_loss: 0.3390 - val_acc: 0.8687\n",
            "Epoch 26/40\n",
            "15000/15000 [==============================] - 1s 61us/step - loss: 0.2832 - acc: 0.9007 - val_loss: 0.3325 - val_acc: 0.8711\n",
            "Epoch 27/40\n",
            "15000/15000 [==============================] - 1s 60us/step - loss: 0.2740 - acc: 0.9029 - val_loss: 0.3263 - val_acc: 0.8730\n",
            "Epoch 28/40\n",
            " 4608/15000 [========>.....................] - ETA: 0s - loss: 0.2648 - acc: 0.9082"
          ],
          "name": "stdout"
        },
        {
          "output_type": "stream",
          "text": [
            "15000/15000 [==============================] - 1s 61us/step - loss: 0.2647 - acc: 0.9069 - val_loss: 0.3208 - val_acc: 0.8747\n",
            "Epoch 29/40\n",
            "15000/15000 [==============================] - 1s 60us/step - loss: 0.2565 - acc: 0.9097 - val_loss: 0.3164 - val_acc: 0.8750\n",
            "Epoch 30/40\n",
            "15000/15000 [==============================] - 1s 60us/step - loss: 0.2496 - acc: 0.9101 - val_loss: 0.3121 - val_acc: 0.8775\n",
            "Epoch 31/40\n",
            "15000/15000 [==============================] - 1s 60us/step - loss: 0.2415 - acc: 0.9146 - val_loss: 0.3087 - val_acc: 0.8788\n",
            "Epoch 32/40\n",
            "15000/15000 [==============================] - 1s 60us/step - loss: 0.2353 - acc: 0.9171 - val_loss: 0.3055 - val_acc: 0.8792\n",
            "Epoch 33/40\n",
            "15000/15000 [==============================] - 1s 61us/step - loss: 0.2281 - acc: 0.9193 - val_loss: 0.3026 - val_acc: 0.8792\n",
            "Epoch 34/40\n",
            "15000/15000 [==============================] - 1s 61us/step - loss: 0.2221 - acc: 0.9220 - val_loss: 0.3003 - val_acc: 0.8798\n",
            "Epoch 35/40\n",
            "15000/15000 [==============================] - 1s 61us/step - loss: 0.2168 - acc: 0.9226 - val_loss: 0.2978 - val_acc: 0.8818\n",
            "Epoch 36/40\n",
            "15000/15000 [==============================] - 1s 60us/step - loss: 0.2106 - acc: 0.9261 - val_loss: 0.2960 - val_acc: 0.8812\n",
            "Epoch 37/40\n",
            " 2560/15000 [====>.........................] - ETA: 0s - loss: 0.2079 - acc: 0.9289\b\b\b\b\b\b\b\b\b\b\b\b\b\b\b\b\b\b\b\b\b\b\b\b\b\b\b\b\b\b\b\b\b\b\b\b\b\b\b\b\b\b\b\b\b\b\b\b\b\b\b\b\b\b\b\b\b\b\b\b\b\b\b\b\b\b\b\b\b\b\b\b\b\b\b\b\b\b\b\b\b\b\b"
          ],
          "name": "stdout"
        },
        {
          "output_type": "stream",
          "text": [
            "15000/15000 [==============================] - 1s 61us/step - loss: 0.2053 - acc: 0.9279 - val_loss: 0.2943 - val_acc: 0.8820\n",
            "Epoch 38/40\n",
            "15000/15000 [==============================] - 1s 61us/step - loss: 0.2003 - acc: 0.9291 - val_loss: 0.2924 - val_acc: 0.8842\n",
            "Epoch 39/40\n",
            "15000/15000 [==============================] - 1s 62us/step - loss: 0.1950 - acc: 0.9311 - val_loss: 0.2911 - val_acc: 0.8842\n",
            "Epoch 40/40\n",
            "15000/15000 [==============================] - 1s 61us/step - loss: 0.1904 - acc: 0.9334 - val_loss: 0.2897 - val_acc: 0.8839\n"
          ],
          "name": "stdout"
        }
      ]
    },
    {
      "metadata": {
        "id": "mQuvoq_eGSdG",
        "colab_type": "text"
      },
      "cell_type": "markdown",
      "source": [
        "#### Evaluate the model"
      ]
    },
    {
      "metadata": {
        "id": "0mwQaVd1GW2X",
        "colab_type": "code",
        "colab": {
          "base_uri": "https://localhost:8080/",
          "height": 55
        },
        "outputId": "c50510b5-d2c3-4b68-95de-7d41c1a9ec18"
      },
      "cell_type": "code",
      "source": [
        "results = model.evaluate(test_data, test_labels)\n",
        "\n",
        "print(results)"
      ],
      "execution_count": 0,
      "outputs": [
        {
          "output_type": "stream",
          "text": [
            "25000/25000 [==============================] - 1s 31us/step\n",
            "[0.30571386238098147, 0.87384]\n"
          ],
          "name": "stdout"
        }
      ]
    },
    {
      "metadata": {
        "id": "LeQjxH33GeoI",
        "colab_type": "text"
      },
      "cell_type": "markdown",
      "source": [
        "#### Create a graph of accuracy and loss over time"
      ]
    },
    {
      "metadata": {
        "id": "llA1ZH2FGhV2",
        "colab_type": "code",
        "colab": {
          "base_uri": "https://localhost:8080/",
          "height": 36
        },
        "outputId": "0854c813-175b-47aa-9d67-e4402d58580c"
      },
      "cell_type": "code",
      "source": [
        "history_dict = history.history\n",
        "history_dict.keys()"
      ],
      "execution_count": 0,
      "outputs": [
        {
          "output_type": "execute_result",
          "data": {
            "text/plain": [
              "['acc', 'loss', 'val_acc', 'val_loss']"
            ]
          },
          "metadata": {
            "tags": []
          },
          "execution_count": 26
        }
      ]
    },
    {
      "metadata": {
        "id": "9aYhbPbcGlIy",
        "colab_type": "code",
        "colab": {
          "base_uri": "https://localhost:8080/",
          "height": 376
        },
        "outputId": "43bea2f2-7af6-447e-e63e-a5287b078db6"
      },
      "cell_type": "code",
      "source": [
        "import matplotlib.pyplot as plt\n",
        "\n",
        "acc = history.history['acc']\n",
        "val_acc = history.history['val_acc']\n",
        "loss = history.history['loss']\n",
        "val_loss = history.history['val_loss']\n",
        "\n",
        "epochs = range(1, len(acc) + 1)\n",
        "\n",
        "# \"bo\" is for \"blue dot\"\n",
        "plt.plot(epochs, loss, 'bo', label='Training loss')\n",
        "# b is for \"solid blue line\"\n",
        "plt.plot(epochs, val_loss, 'b', label='Validation loss')\n",
        "plt.title('Training and validation loss')\n",
        "plt.xlabel('Epochs')\n",
        "plt.ylabel('Loss')\n",
        "plt.legend()\n",
        "\n",
        "plt.show()"
      ],
      "execution_count": 0,
      "outputs": [
        {
          "output_type": "display_data",
          "data": {
            "image/png": "[encoded data removed]",
            "text/plain": [
              "<matplotlib.figure.Figure at 0x7fc2890a9d90>"
            ]
          },
          "metadata": {
            "tags": []
          }
        }
      ]
    },
    {
      "metadata": {
        "id": "5d7NbNDwHVTO",
        "colab_type": "code",
        "colab": {
          "base_uri": "https://localhost:8080/",
          "height": 376
        },
        "outputId": "ee563886-9eb8-4f23-f8e0-ba195ed26cf4"
      },
      "cell_type": "code",
      "source": [
        "plt.clf()   # clear figure\n",
        "acc_values = history_dict['acc']\n",
        "val_acc_values = history_dict['val_acc']\n",
        "\n",
        "plt.plot(epochs, acc, 'bo', label='Training acc')\n",
        "plt.plot(epochs, val_acc, 'b', label='Validation acc')\n",
        "plt.title('Training and validation accuracy')\n",
        "plt.xlabel('Epochs')\n",
        "plt.ylabel('Accuracy')\n",
        "plt.legend()\n",
        "\n",
        "plt.show()"
      ],
      "execution_count": 0,
      "outputs": [
        {
          "output_type": "display_data",
          "data": {
            "image/png": "[encoded data removed]",
            "text/plain": [
              "<matplotlib.figure.Figure at 0x7fc2890a9c10>"
            ]
          },
          "metadata": {
            "tags": []
          }
        }
      ]
    },
    {
      "metadata": {
        "id": "uGJT4OVqQZJq",
        "colab_type": "text"
      },
      "cell_type": "markdown",
      "source": [
        "###  Predict house prices: regression"
      ]
    },
    {
      "metadata": {
        "id": "5Et_JZM_QhIW",
        "colab_type": "text"
      },
      "cell_type": "markdown",
      "source": [
        "#### The Boston Housing Prices dataset"
      ]
    },
    {
      "metadata": {
        "id": "EeCSQUY2QkeQ",
        "colab_type": "code",
        "colab": {}
      },
      "cell_type": "code",
      "source": [
        "boston_housing = keras.datasets.boston_housing\n",
        "\n",
        "(train_data, train_labels), (test_data, test_labels) = boston_housing.load_data()\n",
        "\n",
        "# Shuffle the training set\n",
        "order = np.argsort(np.random.random(train_labels.shape))\n",
        "train_data = train_data[order]\n",
        "train_labels = train_labels[order]"
      ],
      "execution_count": 0,
      "outputs": []
    },
    {
      "metadata": {
        "id": "5j1X0K0_Qn1s",
        "colab_type": "text"
      },
      "cell_type": "markdown",
      "source": [
        "##### Examples and features"
      ]
    },
    {
      "metadata": {
        "id": "zJJHpYEnQtXs",
        "colab_type": "code",
        "colab": {
          "base_uri": "https://localhost:8080/",
          "height": 55
        },
        "outputId": "dc38891e-93b3-44d1-c1a9-41d4cebc590c"
      },
      "cell_type": "code",
      "source": [
        "print(\"Training set: {}\".format(train_data.shape))  # 404 examples, 13 features\n",
        "print(\"Testing set:  {}\".format(test_data.shape))   # 102 examples, 13 features"
      ],
      "execution_count": 0,
      "outputs": [
        {
          "output_type": "stream",
          "text": [
            "Training set: (404, 13)\n",
            "Testing set:  (102, 13)\n"
          ],
          "name": "stdout"
        }
      ]
    },
    {
      "metadata": {
        "id": "2-GPKLzMQyct",
        "colab_type": "code",
        "colab": {
          "base_uri": "https://localhost:8080/",
          "height": 74
        },
        "outputId": "bc6f315e-9773-4074-f9c5-ddd6805b20e0"
      },
      "cell_type": "code",
      "source": [
        "print(train_data[0])  # Display sample features, notice the different scales"
      ],
      "execution_count": 0,
      "outputs": [
        {
          "output_type": "stream",
          "text": [
            "[7.8750e-02 4.5000e+01 3.4400e+00 0.0000e+00 4.3700e-01 6.7820e+00\n",
            " 4.1100e+01 3.7886e+00 5.0000e+00 3.9800e+02 1.5200e+01 3.9387e+02\n",
            " 6.6800e+00]\n"
          ],
          "name": "stdout"
        }
      ]
    },
    {
      "metadata": {
        "id": "z8-voIQSQzZU",
        "colab_type": "code",
        "colab": {
          "base_uri": "https://localhost:8080/",
          "height": 206
        },
        "outputId": "7585388c-82e9-4c7c-bcae-31babe101bcf"
      },
      "cell_type": "code",
      "source": [
        "import pandas as pd\n",
        "\n",
        "column_names = ['CRIM', 'ZN', 'INDUS', 'CHAS', 'NOX', 'RM', 'AGE', 'DIS', 'RAD',\n",
        "                'TAX', 'PTRATIO', 'B', 'LSTAT']\n",
        "\n",
        "df = pd.DataFrame(train_data, columns=column_names)\n",
        "df.head()"
      ],
      "execution_count": 0,
      "outputs": [
        {
          "output_type": "execute_result",
          "data": {
            "text/html": [
              "<div>\n",
              "<style scoped>\n",
              "    .dataframe tbody tr th:only-of-type {\n",
              "        vertical-align: middle;\n",
              "    }\n",
              "\n",
              "    .dataframe tbody tr th {\n",
              "        vertical-align: top;\n",
              "    }\n",
              "\n",
              "    .dataframe thead th {\n",
              "        text-align: right;\n",
              "    }\n",
              "</style>\n",
              "<table border=\"1\" class=\"dataframe\">\n",
              "  <thead>\n",
              "    <tr style=\"text-align: right;\">\n",
              "      <th></th>\n",
              "      <th>CRIM</th>\n",
              "      <th>ZN</th>\n",
              "      <th>INDUS</th>\n",
              "      <th>CHAS</th>\n",
              "      <th>NOX</th>\n",
              "      <th>RM</th>\n",
              "      <th>AGE</th>\n",
              "      <th>DIS</th>\n",
              "      <th>RAD</th>\n",
              "      <th>TAX</th>\n",
              "      <th>PTRATIO</th>\n",
              "      <th>B</th>\n",
              "      <th>LSTAT</th>\n",
              "    </tr>\n",
              "  </thead>\n",
              "  <tbody>\n",
              "    <tr>\n",
              "      <th>0</th>\n",
              "      <td>0.07875</td>\n",
              "      <td>45.0</td>\n",
              "      <td>3.44</td>\n",
              "      <td>0.0</td>\n",
              "      <td>0.437</td>\n",
              "      <td>6.782</td>\n",
              "      <td>41.1</td>\n",
              "      <td>3.7886</td>\n",
              "      <td>5.0</td>\n",
              "      <td>398.0</td>\n",
              "      <td>15.2</td>\n",
              "      <td>393.87</td>\n",
              "      <td>6.68</td>\n",
              "    </tr>\n",
              "    <tr>\n",
              "      <th>1</th>\n",
              "      <td>4.55587</td>\n",
              "      <td>0.0</td>\n",
              "      <td>18.10</td>\n",
              "      <td>0.0</td>\n",
              "      <td>0.718</td>\n",
              "      <td>3.561</td>\n",
              "      <td>87.9</td>\n",
              "      <td>1.6132</td>\n",
              "      <td>24.0</td>\n",
              "      <td>666.0</td>\n",
              "      <td>20.2</td>\n",
              "      <td>354.70</td>\n",
              "      <td>7.12</td>\n",
              "    </tr>\n",
              "    <tr>\n",
              "      <th>2</th>\n",
              "      <td>0.09604</td>\n",
              "      <td>40.0</td>\n",
              "      <td>6.41</td>\n",
              "      <td>0.0</td>\n",
              "      <td>0.447</td>\n",
              "      <td>6.854</td>\n",
              "      <td>42.8</td>\n",
              "      <td>4.2673</td>\n",
              "      <td>4.0</td>\n",
              "      <td>254.0</td>\n",
              "      <td>17.6</td>\n",
              "      <td>396.90</td>\n",
              "      <td>2.98</td>\n",
              "    </tr>\n",
              "    <tr>\n",
              "      <th>3</th>\n",
              "      <td>0.01870</td>\n",
              "      <td>85.0</td>\n",
              "      <td>4.15</td>\n",
              "      <td>0.0</td>\n",
              "      <td>0.429</td>\n",
              "      <td>6.516</td>\n",
              "      <td>27.7</td>\n",
              "      <td>8.5353</td>\n",
              "      <td>4.0</td>\n",
              "      <td>351.0</td>\n",
              "      <td>17.9</td>\n",
              "      <td>392.43</td>\n",
              "      <td>6.36</td>\n",
              "    </tr>\n",
              "    <tr>\n",
              "      <th>4</th>\n",
              "      <td>0.52693</td>\n",
              "      <td>0.0</td>\n",
              "      <td>6.20</td>\n",
              "      <td>0.0</td>\n",
              "      <td>0.504</td>\n",
              "      <td>8.725</td>\n",
              "      <td>83.0</td>\n",
              "      <td>2.8944</td>\n",
              "      <td>8.0</td>\n",
              "      <td>307.0</td>\n",
              "      <td>17.4</td>\n",
              "      <td>382.00</td>\n",
              "      <td>4.63</td>\n",
              "    </tr>\n",
              "  </tbody>\n",
              "</table>\n",
              "</div>"
            ],
            "text/plain": [
              "      CRIM    ZN  INDUS  CHAS    NOX     RM   AGE     DIS   RAD    TAX  \\\n",
              "0  0.07875  45.0   3.44   0.0  0.437  6.782  41.1  3.7886   5.0  398.0   \n",
              "1  4.55587   0.0  18.10   0.0  0.718  3.561  87.9  1.6132  24.0  666.0   \n",
              "2  0.09604  40.0   6.41   0.0  0.447  6.854  42.8  4.2673   4.0  254.0   \n",
              "3  0.01870  85.0   4.15   0.0  0.429  6.516  27.7  8.5353   4.0  351.0   \n",
              "4  0.52693   0.0   6.20   0.0  0.504  8.725  83.0  2.8944   8.0  307.0   \n",
              "\n",
              "   PTRATIO       B  LSTAT  \n",
              "0     15.2  393.87   6.68  \n",
              "1     20.2  354.70   7.12  \n",
              "2     17.6  396.90   2.98  \n",
              "3     17.9  392.43   6.36  \n",
              "4     17.4  382.00   4.63  "
            ]
          },
          "metadata": {
            "tags": []
          },
          "execution_count": 27
        }
      ]
    },
    {
      "metadata": {
        "id": "Q-Kw4v3BQ2QB",
        "colab_type": "text"
      },
      "cell_type": "markdown",
      "source": [
        "##### Labels"
      ]
    },
    {
      "metadata": {
        "id": "dv11HGzoQ4HU",
        "colab_type": "code",
        "colab": {
          "base_uri": "https://localhost:8080/",
          "height": 36
        },
        "outputId": "6244773d-31fc-4e71-b73f-ab7c6993e560"
      },
      "cell_type": "code",
      "source": [
        "print(train_labels[0:10])  # Display first 10 entries"
      ],
      "execution_count": 0,
      "outputs": [
        {
          "output_type": "stream",
          "text": [
            "[32.  27.5 32.  23.1 50.  20.6 22.6 36.2 21.8 19.5]\n"
          ],
          "name": "stdout"
        }
      ]
    },
    {
      "metadata": {
        "id": "fgCzRqSqQ7El",
        "colab_type": "text"
      },
      "cell_type": "markdown",
      "source": [
        "#### Normalize features"
      ]
    },
    {
      "metadata": {
        "id": "jWKi9MdiRADU",
        "colab_type": "code",
        "colab": {
          "base_uri": "https://localhost:8080/",
          "height": 74
        },
        "outputId": "10ba2c30-4469-4796-893d-d92f33a276e4"
      },
      "cell_type": "code",
      "source": [
        "# Test data is *not* used when calculating the mean and std.\n",
        "\n",
        "mean = train_data.mean(axis=0)\n",
        "std = train_data.std(axis=0)\n",
        "train_data = (train_data - mean) / std\n",
        "test_data = (test_data - mean) / std\n",
        "\n",
        "print(train_data[0])  # First training sample, normalized"
      ],
      "execution_count": 0,
      "outputs": [
        {
          "output_type": "stream",
          "text": [
            "[-0.39725269  1.41205707 -1.12664623 -0.25683275 -1.027385    0.72635358\n",
            " -1.00016413  0.02383449 -0.51114231 -0.04753316 -1.49067405  0.41584124\n",
            " -0.83648691]\n"
          ],
          "name": "stdout"
        }
      ]
    },
    {
      "metadata": {
        "id": "EgnmQZ85REQO",
        "colab_type": "text"
      },
      "cell_type": "markdown",
      "source": [
        "#### Create the model"
      ]
    },
    {
      "metadata": {
        "id": "mFgRGi_9RFm8",
        "colab_type": "code",
        "colab": {
          "base_uri": "https://localhost:8080/",
          "height": 262
        },
        "outputId": "7279eb8f-9ebf-48db-fa2d-d4a8d1b33e2f"
      },
      "cell_type": "code",
      "source": [
        "def build_model():\n",
        "  model = keras.Sequential([\n",
        "    keras.layers.Dense(64, activation=tf.nn.relu, \n",
        "                       input_shape=(train_data.shape[1],)),\n",
        "    keras.layers.Dense(64, activation=tf.nn.relu),\n",
        "    keras.layers.Dense(1)\n",
        "  ])\n",
        "\n",
        "  optimizer = tf.train.RMSPropOptimizer(0.001)\n",
        "\n",
        "  model.compile(loss='mse',\n",
        "                optimizer=optimizer,\n",
        "                metrics=['mae'])\n",
        "  return model\n",
        "\n",
        "model = build_model()\n",
        "model.summary()"
      ],
      "execution_count": 0,
      "outputs": [
        {
          "output_type": "stream",
          "text": [
            "_________________________________________________________________\n",
            "Layer (type)                 Output Shape              Param #   \n",
            "=================================================================\n",
            "dense_6 (Dense)              (None, 64)                896       \n",
            "_________________________________________________________________\n",
            "dense_7 (Dense)              (None, 64)                4160      \n",
            "_________________________________________________________________\n",
            "dense_8 (Dense)              (None, 1)                 65        \n",
            "=================================================================\n",
            "Total params: 5,121\n",
            "Trainable params: 5,121\n",
            "Non-trainable params: 0\n",
            "_________________________________________________________________\n"
          ],
          "name": "stdout"
        }
      ]
    },
    {
      "metadata": {
        "id": "x0hXBo56RIFs",
        "colab_type": "text"
      },
      "cell_type": "markdown",
      "source": [
        "#### Train the model"
      ]
    },
    {
      "metadata": {
        "id": "kbOMkqNxRK2k",
        "colab_type": "code",
        "colab": {
          "base_uri": "https://localhost:8080/",
          "height": 130
        },
        "outputId": "dd4c3635-d92b-44c1-ac66-fdc6ba363323"
      },
      "cell_type": "code",
      "source": [
        "from __future__ import print_function\n",
        "# Display training progress by printing a single dot for each completed epoch.\n",
        "class PrintDot(keras.callbacks.Callback):\n",
        "  def on_epoch_end(self,epoch,logs):\n",
        "    if epoch % 100 == 0: print('')\n",
        "    print('.', end='')\n",
        "\n",
        "EPOCHS = 500\n",
        "\n",
        "# Store training stats\n",
        "history = model.fit(train_data, train_labels, epochs=EPOCHS,\n",
        "                    validation_split=0.2, verbose=0,\n",
        "                    callbacks=[PrintDot()])\n"
      ],
      "execution_count": 0,
      "outputs": [
        {
          "output_type": "stream",
          "text": [
            "\n",
            "....................................................................................................\n",
            "....................................................................................................\n",
            "....................................................................................................\n",
            "....................................................................................................\n",
            "...................................................................................................."
          ],
          "name": "stdout"
        }
      ]
    },
    {
      "metadata": {
        "id": "6ufD1xsORdYq",
        "colab_type": "code",
        "colab": {
          "base_uri": "https://localhost:8080/",
          "height": 365
        },
        "outputId": "1af15be2-4af2-43c4-99df-bf4c4cdf74d7"
      },
      "cell_type": "code",
      "source": [
        "import matplotlib.pyplot as plt\n",
        "\n",
        "\n",
        "def plot_history(history):\n",
        "  plt.figure()\n",
        "  plt.xlabel('Epoch')\n",
        "  plt.ylabel('Mean Abs Error [1000$]')\n",
        "  plt.plot(history.epoch, np.array(history.history['mean_absolute_error']), \n",
        "           label='Train Loss')\n",
        "  plt.plot(history.epoch, np.array(history.history['val_mean_absolute_error']),\n",
        "           label = 'Val loss')\n",
        "  plt.legend()\n",
        "  plt.ylim([0,5])\n",
        "\n",
        "plot_history(history)"
      ],
      "execution_count": 0,
      "outputs": [
        {
          "output_type": "display_data",
          "data": {
            "image/png": "[encoded data removed]",
            "text/plain": [
              "<matplotlib.figure.Figure at 0x7f72ca52b710>"
            ]
          },
          "metadata": {
            "tags": []
          }
        }
      ]
    },
    {
      "metadata": {
        "id": "gWCnvjQfRf9_",
        "colab_type": "code",
        "colab": {
          "base_uri": "https://localhost:8080/",
          "height": 422
        },
        "outputId": "7b250cfe-de31-4382-df20-66c671532dcb"
      },
      "cell_type": "code",
      "source": [
        "model = build_model()\n",
        "\n",
        "# The patience parameter is the amount of epochs to check for improvement.\n",
        "early_stop = keras.callbacks.EarlyStopping(monitor='val_loss', patience=20)\n",
        "\n",
        "history = model.fit(train_data, train_labels, epochs=EPOCHS,\n",
        "                    validation_split=0.2, verbose=0,\n",
        "                    callbacks=[early_stop, PrintDot()])\n",
        "\n",
        "plot_history(history)"
      ],
      "execution_count": 0,
      "outputs": [
        {
          "output_type": "stream",
          "text": [
            "\n",
            "....................................................................................................\n",
            "............................................................................................."
          ],
          "name": "stdout"
        },
        {
          "output_type": "display_data",
          "data": {
            "image/png": "[encoded data removed]",
            "text/plain": [
              "<matplotlib.figure.Figure at 0x7f72cb237dd0>"
            ]
          },
          "metadata": {
            "tags": []
          }
        }
      ]
    },
    {
      "metadata": {
        "id": "q5-SwMxJRiTO",
        "colab_type": "code",
        "colab": {
          "base_uri": "https://localhost:8080/",
          "height": 36
        },
        "outputId": "e7de4f4d-6abe-4489-a5d2-4906eb5cc9aa"
      },
      "cell_type": "code",
      "source": [
        "[loss, mae] = model.evaluate(test_data, test_labels, verbose=0)\n",
        "\n",
        "print(\"Testing set Mean Abs Error: ${:7.2f}\".format(mae * 1000))"
      ],
      "execution_count": 0,
      "outputs": [
        {
          "output_type": "stream",
          "text": [
            "Testing set Mean Abs Error: $2679.00\n"
          ],
          "name": "stdout"
        }
      ]
    },
    {
      "metadata": {
        "id": "2avMeEH7RjPv",
        "colab_type": "text"
      },
      "cell_type": "markdown",
      "source": [
        "#### Predict"
      ]
    },
    {
      "metadata": {
        "id": "b-IsvR6yRnT2",
        "colab_type": "code",
        "colab": {
          "base_uri": "https://localhost:8080/",
          "height": 338
        },
        "outputId": "613a9d8f-747a-454b-dc5a-2dc53e851b5a"
      },
      "cell_type": "code",
      "source": [
        "test_predictions = model.predict(test_data).flatten()\n",
        "\n",
        "print(test_predictions)"
      ],
      "execution_count": 0,
      "outputs": [
        {
          "output_type": "stream",
          "text": [
            "[ 9.413306  20.208292  22.208458  35.84527   26.441996  22.10927\n",
            " 25.827114  22.030752  21.297647  23.04385   20.253763  17.663485\n",
            " 17.026514  43.01508   21.309362  20.825048  27.167164  19.093023\n",
            " 21.060465  28.294436  12.8793955 14.773374  22.35121   16.941687\n",
            " 21.213037  26.67111   31.201519  33.373566  11.664246  19.979141\n",
            " 20.850962  15.698544  32.798584  25.372534  19.430681   9.082605\n",
            " 18.52954   18.679262  20.646883  25.66525   32.018246  29.07574\n",
            " 14.806787  42.787098  32.17644   26.61979   28.56296   18.80353\n",
            " 23.643482  23.359022  35.277393  21.880945  11.935746  15.775812\n",
            " 35.55775   28.927645  12.935718  50.02827   34.244396  25.941254\n",
            " 25.54697   16.82453   15.570931  20.338293  24.605589  21.468721\n",
            " 13.847179  22.30834   13.099641   8.329051  26.831758  30.156982\n",
            " 27.826622  13.590346  24.703087  20.270327  19.50218   24.98152\n",
            " 35.481144  11.123991  21.941332  39.05374   17.937723  14.179303\n",
            " 18.207342  20.66059   21.520384  20.938765  22.214087  32.483776\n",
            " 22.002287  19.252554  26.474129  43.196487  36.316105  22.125338\n",
            " 36.36427   47.839687  27.581684  48.679737  32.354603  21.608324 ]\n"
          ],
          "name": "stdout"
        }
      ]
    },
    {
      "metadata": {
        "id": "1zMe1K-1ADMx",
        "colab_type": "text"
      },
      "cell_type": "markdown",
      "source": [
        "###  Explore overfitting and underfitting"
      ]
    },
    {
      "metadata": {
        "id": "SMa3nHrWAKZq",
        "colab_type": "text"
      },
      "cell_type": "markdown",
      "source": [
        "#### Download the IMDB dataset"
      ]
    },
    {
      "metadata": {
        "id": "ZLz4oheCANzz",
        "colab_type": "code",
        "colab": {}
      },
      "cell_type": "code",
      "source": [
        "NUM_WORDS = 10000\n",
        "\n",
        "(train_data, train_labels), (test_data, test_labels) = keras.datasets.imdb.load_data(num_words=NUM_WORDS)\n",
        "\n",
        "def multi_hot_sequences(sequences, dimension):\n",
        "    # Create an all-zero matrix of shape (len(sequences), dimension)\n",
        "    results = np.zeros((len(sequences), dimension))\n",
        "    for i, word_indices in enumerate(sequences):\n",
        "        results[i, word_indices] = 1.0  # set specific indices of results[i] to 1s\n",
        "    return results\n",
        "\n",
        "\n",
        "train_data = multi_hot_sequences(train_data, dimension=NUM_WORDS)\n",
        "test_data = multi_hot_sequences(test_data, dimension=NUM_WORDS)"
      ],
      "execution_count": 0,
      "outputs": []
    },
    {
      "metadata": {
        "id": "TUu3oV7qBEdy",
        "colab_type": "code",
        "colab": {
          "base_uri": "https://localhost:8080/",
          "height": 366
        },
        "outputId": "62076a5e-ed52-4c03-ff00-ddf1f0ff5452"
      },
      "cell_type": "code",
      "source": [
        "plt.plot(train_data[0])"
      ],
      "execution_count": 0,
      "outputs": [
        {
          "output_type": "execute_result",
          "data": {
            "text/plain": [
              "[<matplotlib.lines.Line2D at 0x7fd0d57f8ed0>]"
            ]
          },
          "metadata": {
            "tags": []
          },
          "execution_count": 4
        },
        {
          "output_type": "display_data",
          "data": {
            "image/png": "[encoded data removed]",
            "text/plain": [
              "<matplotlib.figure.Figure at 0x7fd0caa8d490>"
            ]
          },
          "metadata": {
            "tags": []
          }
        }
      ]
    },
    {
      "metadata": {
        "id": "9Eyz85fzBIFN",
        "colab_type": "text"
      },
      "cell_type": "markdown",
      "source": [
        "#### Demonstrate overfitting"
      ]
    },
    {
      "metadata": {
        "id": "WSz9CsL4BPRG",
        "colab_type": "text"
      },
      "cell_type": "markdown",
      "source": [
        "##### Create a baseline model"
      ]
    },
    {
      "metadata": {
        "id": "1wwRD3WRBLyg",
        "colab_type": "code",
        "colab": {
          "base_uri": "https://localhost:8080/",
          "height": 262
        },
        "outputId": "c8422ba9-654b-4137-ac43-e0af7a7578a8"
      },
      "cell_type": "code",
      "source": [
        "baseline_model = keras.Sequential([\n",
        "    keras.layers.Dense(16, activation=tf.nn.relu, input_shape=(10000,)),\n",
        "    keras.layers.Dense(16, activation=tf.nn.relu),\n",
        "    keras.layers.Dense(1, activation=tf.nn.sigmoid)\n",
        "])\n",
        "\n",
        "baseline_model.compile(optimizer='adam',\n",
        "                       loss='binary_crossentropy',\n",
        "                       metrics=['accuracy', 'binary_crossentropy'])\n",
        "\n",
        "baseline_model.summary()"
      ],
      "execution_count": 0,
      "outputs": [
        {
          "output_type": "stream",
          "text": [
            "_________________________________________________________________\n",
            "Layer (type)                 Output Shape              Param #   \n",
            "=================================================================\n",
            "dense_3 (Dense)              (None, 16)                160016    \n",
            "_________________________________________________________________\n",
            "dense_4 (Dense)              (None, 16)                272       \n",
            "_________________________________________________________________\n",
            "dense_5 (Dense)              (None, 1)                 17        \n",
            "=================================================================\n",
            "Total params: 160,305\n",
            "Trainable params: 160,305\n",
            "Non-trainable params: 0\n",
            "_________________________________________________________________\n"
          ],
          "name": "stdout"
        }
      ]
    },
    {
      "metadata": {
        "id": "QGuwTsXXEEWV",
        "colab_type": "code",
        "colab": {
          "base_uri": "https://localhost:8080/",
          "height": 791
        },
        "outputId": "02b362ed-9f4c-442c-fcf4-25c591629870"
      },
      "cell_type": "code",
      "source": [
        "baseline_history = baseline_model.fit(train_data,\n",
        "                                      train_labels,\n",
        "                                      epochs=20,\n",
        "                                      batch_size=512,\n",
        "                                      validation_data=(test_data, test_labels),\n",
        "                                      verbose=2)"
      ],
      "execution_count": 0,
      "outputs": [
        {
          "output_type": "stream",
          "text": [
            "Train on 25000 samples, validate on 25000 samples\n",
            "Epoch 1/20\n",
            " - 5s - loss: 0.4629 - acc: 0.8159 - binary_crossentropy: 0.4629 - val_loss: 0.3207 - val_acc: 0.8800 - val_binary_crossentropy: 0.3207\n",
            "Epoch 2/20\n",
            " - 4s - loss: 0.2371 - acc: 0.9148 - binary_crossentropy: 0.2371 - val_loss: 0.2826 - val_acc: 0.8873 - val_binary_crossentropy: 0.2826\n",
            "Epoch 3/20\n",
            " - 4s - loss: 0.1748 - acc: 0.9389 - binary_crossentropy: 0.1748 - val_loss: 0.2927 - val_acc: 0.8836 - val_binary_crossentropy: 0.2927\n",
            "Epoch 4/20\n",
            " - 4s - loss: 0.1395 - acc: 0.9527 - binary_crossentropy: 0.1395 - val_loss: 0.3223 - val_acc: 0.8782 - val_binary_crossentropy: 0.3223\n",
            "Epoch 5/20\n",
            " - 4s - loss: 0.1160 - acc: 0.9611 - binary_crossentropy: 0.1160 - val_loss: 0.3520 - val_acc: 0.8722 - val_binary_crossentropy: 0.3520\n",
            "Epoch 6/20\n",
            " - 4s - loss: 0.0957 - acc: 0.9707 - binary_crossentropy: 0.0957 - val_loss: 0.3868 - val_acc: 0.8676 - val_binary_crossentropy: 0.3868\n",
            "Epoch 7/20\n",
            " - 4s - loss: 0.0792 - acc: 0.9770 - binary_crossentropy: 0.0792 - val_loss: 0.4405 - val_acc: 0.8604 - val_binary_crossentropy: 0.4405\n",
            "Epoch 8/20\n",
            " - 4s - loss: 0.0661 - acc: 0.9813 - binary_crossentropy: 0.0661 - val_loss: 0.4728 - val_acc: 0.8614 - val_binary_crossentropy: 0.4728\n",
            "Epoch 9/20\n",
            " - 4s - loss: 0.0544 - acc: 0.9874 - binary_crossentropy: 0.0544 - val_loss: 0.5162 - val_acc: 0.8587 - val_binary_crossentropy: 0.5162\n",
            "Epoch 10/20\n",
            " - 4s - loss: 0.0448 - acc: 0.9906 - binary_crossentropy: 0.0448 - val_loss: 0.5689 - val_acc: 0.8538 - val_binary_crossentropy: 0.5689\n",
            "Epoch 11/20\n",
            " - 4s - loss: 0.0386 - acc: 0.9917 - binary_crossentropy: 0.0386 - val_loss: 0.6110 - val_acc: 0.8541 - val_binary_crossentropy: 0.6110\n",
            "Epoch 12/20\n",
            " - 4s - loss: 0.0300 - acc: 0.9947 - binary_crossentropy: 0.0300 - val_loss: 0.6581 - val_acc: 0.8524 - val_binary_crossentropy: 0.6581\n",
            "Epoch 13/20\n",
            " - 4s - loss: 0.0234 - acc: 0.9962 - binary_crossentropy: 0.0234 - val_loss: 0.7026 - val_acc: 0.8504 - val_binary_crossentropy: 0.7026\n",
            "Epoch 14/20\n",
            " - 4s - loss: 0.0182 - acc: 0.9980 - binary_crossentropy: 0.0182 - val_loss: 0.7452 - val_acc: 0.8491 - val_binary_crossentropy: 0.7452\n",
            "Epoch 15/20\n",
            " - 4s - loss: 0.0140 - acc: 0.9989 - binary_crossentropy: 0.0140 - val_loss: 0.7890 - val_acc: 0.8475 - val_binary_crossentropy: 0.7890\n",
            "Epoch 16/20\n",
            " - 4s - loss: 0.0111 - acc: 0.9992 - binary_crossentropy: 0.0111 - val_loss: 0.8271 - val_acc: 0.8489 - val_binary_crossentropy: 0.8271\n",
            "Epoch 17/20\n",
            " - 4s - loss: 0.0087 - acc: 0.9995 - binary_crossentropy: 0.0087 - val_loss: 0.8617 - val_acc: 0.8478 - val_binary_crossentropy: 0.8617\n",
            "Epoch 18/20\n",
            " - 4s - loss: 0.0067 - acc: 0.9997 - binary_crossentropy: 0.0067 - val_loss: 0.8960 - val_acc: 0.8476 - val_binary_crossentropy: 0.8960\n",
            "Epoch 19/20\n",
            " - 4s - loss: 0.0054 - acc: 0.9998 - binary_crossentropy: 0.0054 - val_loss: 0.9265 - val_acc: 0.8478 - val_binary_crossentropy: 0.9265\n",
            "Epoch 20/20\n",
            " - 4s - loss: 0.0044 - acc: 0.9999 - binary_crossentropy: 0.0044 - val_loss: 0.9558 - val_acc: 0.8474 - val_binary_crossentropy: 0.9558\n"
          ],
          "name": "stdout"
        }
      ]
    },
    {
      "metadata": {
        "id": "MhBQcQwEEi0k",
        "colab_type": "text"
      },
      "cell_type": "markdown",
      "source": [
        "##### Create a smaller model"
      ]
    },
    {
      "metadata": {
        "id": "2FJqGLzAEuuV",
        "colab_type": "code",
        "colab": {
          "base_uri": "https://localhost:8080/",
          "height": 262
        },
        "outputId": "5122115e-32f7-4964-e686-50be6f3d7adb"
      },
      "cell_type": "code",
      "source": [
        "smaller_model = keras.Sequential([\n",
        "    keras.layers.Dense(4, activation=tf.nn.relu, input_shape=(10000,)),\n",
        "    keras.layers.Dense(4, activation=tf.nn.relu),\n",
        "    keras.layers.Dense(1, activation=tf.nn.sigmoid)\n",
        "])\n",
        "\n",
        "smaller_model.compile(optimizer='adam',\n",
        "                loss='binary_crossentropy',\n",
        "                metrics=['accuracy', 'binary_crossentropy'])\n",
        "\n",
        "smaller_model.summary()"
      ],
      "execution_count": 0,
      "outputs": [
        {
          "output_type": "stream",
          "text": [
            "_________________________________________________________________\n",
            "Layer (type)                 Output Shape              Param #   \n",
            "=================================================================\n",
            "dense_6 (Dense)              (None, 4)                 40004     \n",
            "_________________________________________________________________\n",
            "dense_7 (Dense)              (None, 4)                 20        \n",
            "_________________________________________________________________\n",
            "dense_8 (Dense)              (None, 1)                 5         \n",
            "=================================================================\n",
            "Total params: 40,029\n",
            "Trainable params: 40,029\n",
            "Non-trainable params: 0\n",
            "_________________________________________________________________\n"
          ],
          "name": "stdout"
        }
      ]
    },
    {
      "metadata": {
        "id": "JqeuQ3UtE0XI",
        "colab_type": "code",
        "colab": {
          "base_uri": "https://localhost:8080/",
          "height": 791
        },
        "outputId": "46f00c55-d512-4199-da01-7611aab931a0"
      },
      "cell_type": "code",
      "source": [
        "smaller_history = smaller_model.fit(train_data,\n",
        "                                    train_labels,\n",
        "                                    epochs=20,\n",
        "                                    batch_size=512,\n",
        "                                    validation_data=(test_data, test_labels),\n",
        "                                    verbose=2)"
      ],
      "execution_count": 0,
      "outputs": [
        {
          "output_type": "stream",
          "text": [
            "Train on 25000 samples, validate on 25000 samples\n",
            "Epoch 1/20\n",
            " - 4s - loss: 0.6283 - acc: 0.6461 - binary_crossentropy: 0.6283 - val_loss: 0.5697 - val_acc: 0.7804 - val_binary_crossentropy: 0.5697\n",
            "Epoch 2/20\n",
            " - 4s - loss: 0.5016 - acc: 0.8440 - binary_crossentropy: 0.5016 - val_loss: 0.4607 - val_acc: 0.8497 - val_binary_crossentropy: 0.4607\n",
            "Epoch 3/20\n",
            " - 4s - loss: 0.3531 - acc: 0.9040 - binary_crossentropy: 0.3531 - val_loss: 0.3334 - val_acc: 0.8840 - val_binary_crossentropy: 0.3334\n",
            "Epoch 4/20\n",
            " - 4s - loss: 0.2500 - acc: 0.9213 - binary_crossentropy: 0.2500 - val_loss: 0.2943 - val_acc: 0.8886 - val_binary_crossentropy: 0.2943\n",
            "Epoch 5/20\n",
            " - 4s - loss: 0.2026 - acc: 0.9347 - binary_crossentropy: 0.2026 - val_loss: 0.2862 - val_acc: 0.8870 - val_binary_crossentropy: 0.2862\n",
            "Epoch 6/20\n",
            " - 4s - loss: 0.1736 - acc: 0.9434 - binary_crossentropy: 0.1736 - val_loss: 0.2846 - val_acc: 0.8866 - val_binary_crossentropy: 0.2846\n",
            "Epoch 7/20\n",
            " - 4s - loss: 0.1524 - acc: 0.9520 - binary_crossentropy: 0.1524 - val_loss: 0.2908 - val_acc: 0.8853 - val_binary_crossentropy: 0.2908\n",
            "Epoch 8/20\n",
            " - 4s - loss: 0.1362 - acc: 0.9574 - binary_crossentropy: 0.1362 - val_loss: 0.3001 - val_acc: 0.8820 - val_binary_crossentropy: 0.3001\n",
            "Epoch 9/20\n",
            " - 4s - loss: 0.1232 - acc: 0.9608 - binary_crossentropy: 0.1232 - val_loss: 0.3120 - val_acc: 0.8793 - val_binary_crossentropy: 0.3120\n",
            "Epoch 10/20\n",
            " - 4s - loss: 0.1108 - acc: 0.9661 - binary_crossentropy: 0.1108 - val_loss: 0.3249 - val_acc: 0.8774 - val_binary_crossentropy: 0.3249\n",
            "Epoch 11/20\n",
            " - 4s - loss: 0.1007 - acc: 0.9710 - binary_crossentropy: 0.1007 - val_loss: 0.3380 - val_acc: 0.8749 - val_binary_crossentropy: 0.3380\n",
            "Epoch 12/20\n",
            " - 4s - loss: 0.0908 - acc: 0.9744 - binary_crossentropy: 0.0908 - val_loss: 0.3547 - val_acc: 0.8722 - val_binary_crossentropy: 0.3547\n",
            "Epoch 13/20\n",
            " - 4s - loss: 0.0824 - acc: 0.9779 - binary_crossentropy: 0.0824 - val_loss: 0.3684 - val_acc: 0.8712 - val_binary_crossentropy: 0.3684\n",
            "Epoch 14/20\n",
            " - 4s - loss: 0.0749 - acc: 0.9812 - binary_crossentropy: 0.0749 - val_loss: 0.3862 - val_acc: 0.8694 - val_binary_crossentropy: 0.3862\n",
            "Epoch 15/20\n",
            " - 4s - loss: 0.0678 - acc: 0.9838 - binary_crossentropy: 0.0678 - val_loss: 0.4023 - val_acc: 0.8683 - val_binary_crossentropy: 0.4023\n",
            "Epoch 16/20\n",
            " - 4s - loss: 0.0615 - acc: 0.9866 - binary_crossentropy: 0.0615 - val_loss: 0.4212 - val_acc: 0.8671 - val_binary_crossentropy: 0.4212\n",
            "Epoch 17/20\n",
            " - 4s - loss: 0.0558 - acc: 0.9882 - binary_crossentropy: 0.0558 - val_loss: 0.4403 - val_acc: 0.8655 - val_binary_crossentropy: 0.4403\n",
            "Epoch 18/20\n",
            " - 4s - loss: 0.0502 - acc: 0.9907 - binary_crossentropy: 0.0502 - val_loss: 0.4658 - val_acc: 0.8618 - val_binary_crossentropy: 0.4658\n",
            "Epoch 19/20\n",
            " - 4s - loss: 0.0453 - acc: 0.9919 - binary_crossentropy: 0.0453 - val_loss: 0.4794 - val_acc: 0.8628 - val_binary_crossentropy: 0.4794\n",
            "Epoch 20/20\n",
            " - 4s - loss: 0.0408 - acc: 0.9930 - binary_crossentropy: 0.0408 - val_loss: 0.5002 - val_acc: 0.8616 - val_binary_crossentropy: 0.5002\n"
          ],
          "name": "stdout"
        }
      ]
    },
    {
      "metadata": {
        "id": "N40lTALyFtEU",
        "colab_type": "text"
      },
      "cell_type": "markdown",
      "source": [
        "##### Create a bigger model"
      ]
    },
    {
      "metadata": {
        "id": "N5qkhywhFxBt",
        "colab_type": "code",
        "colab": {
          "base_uri": "https://localhost:8080/",
          "height": 262
        },
        "outputId": "b41455fd-4706-4812-849f-750a13efebf9"
      },
      "cell_type": "code",
      "source": [
        "bigger_model = keras.models.Sequential([\n",
        "    keras.layers.Dense(512, activation=tf.nn.relu, input_shape=(10000,)),\n",
        "    keras.layers.Dense(512, activation=tf.nn.relu),\n",
        "    keras.layers.Dense(1, activation=tf.nn.sigmoid)\n",
        "])\n",
        "\n",
        "bigger_model.compile(optimizer='adam',\n",
        "                     loss='binary_crossentropy',\n",
        "                     metrics=['accuracy','binary_crossentropy'])\n",
        "\n",
        "bigger_model.summary()"
      ],
      "execution_count": 0,
      "outputs": [
        {
          "output_type": "stream",
          "text": [
            "_________________________________________________________________\n",
            "Layer (type)                 Output Shape              Param #   \n",
            "=================================================================\n",
            "dense_9 (Dense)              (None, 512)               5120512   \n",
            "_________________________________________________________________\n",
            "dense_10 (Dense)             (None, 512)               262656    \n",
            "_________________________________________________________________\n",
            "dense_11 (Dense)             (None, 1)                 513       \n",
            "=================================================================\n",
            "Total params: 5,383,681\n",
            "Trainable params: 5,383,681\n",
            "Non-trainable params: 0\n",
            "_________________________________________________________________\n"
          ],
          "name": "stdout"
        }
      ]
    },
    {
      "metadata": {
        "id": "tVTE5qmkF0Ms",
        "colab_type": "code",
        "colab": {
          "base_uri": "https://localhost:8080/",
          "height": 791
        },
        "outputId": "b530a6d3-9558-4a98-dec6-89aa5e39005a"
      },
      "cell_type": "code",
      "source": [
        "bigger_history = bigger_model.fit(train_data, train_labels,\n",
        "                                  epochs=20,\n",
        "                                  batch_size=512,\n",
        "                                  validation_data=(test_data, test_labels),\n",
        "                                  verbose=2)"
      ],
      "execution_count": 0,
      "outputs": [
        {
          "output_type": "stream",
          "text": [
            "Train on 25000 samples, validate on 25000 samples\n",
            "Epoch 1/20\n",
            " - 21s - loss: 0.3477 - acc: 0.8501 - binary_crossentropy: 0.3477 - val_loss: 0.2948 - val_acc: 0.8800 - val_binary_crossentropy: 0.2948\n",
            "Epoch 2/20\n",
            " - 20s - loss: 0.1403 - acc: 0.9493 - binary_crossentropy: 0.1403 - val_loss: 0.3624 - val_acc: 0.8653 - val_binary_crossentropy: 0.3624\n",
            "Epoch 3/20\n",
            " - 21s - loss: 0.0471 - acc: 0.9867 - binary_crossentropy: 0.0471 - val_loss: 0.4278 - val_acc: 0.8688 - val_binary_crossentropy: 0.4278\n",
            "Epoch 4/20\n",
            " - 20s - loss: 0.0074 - acc: 0.9991 - binary_crossentropy: 0.0074 - val_loss: 0.5749 - val_acc: 0.8704 - val_binary_crossentropy: 0.5749\n",
            "Epoch 5/20\n",
            " - 21s - loss: 0.0010 - acc: 1.0000 - binary_crossentropy: 0.0010 - val_loss: 0.6653 - val_acc: 0.8710 - val_binary_crossentropy: 0.6653\n",
            "Epoch 6/20\n",
            " - 21s - loss: 2.7730e-04 - acc: 1.0000 - binary_crossentropy: 2.7730e-04 - val_loss: 0.7053 - val_acc: 0.8701 - val_binary_crossentropy: 0.7053\n",
            "Epoch 7/20\n",
            " - 20s - loss: 1.6934e-04 - acc: 1.0000 - binary_crossentropy: 1.6934e-04 - val_loss: 0.7295 - val_acc: 0.8706 - val_binary_crossentropy: 0.7295\n",
            "Epoch 8/20\n",
            " - 20s - loss: 1.2203e-04 - acc: 1.0000 - binary_crossentropy: 1.2203e-04 - val_loss: 0.7479 - val_acc: 0.8702 - val_binary_crossentropy: 0.7479\n",
            "Epoch 9/20\n",
            " - 20s - loss: 9.3514e-05 - acc: 1.0000 - binary_crossentropy: 9.3514e-05 - val_loss: 0.7632 - val_acc: 0.8703 - val_binary_crossentropy: 0.7632\n",
            "Epoch 10/20\n",
            " - 20s - loss: 7.4453e-05 - acc: 1.0000 - binary_crossentropy: 7.4453e-05 - val_loss: 0.7758 - val_acc: 0.8702 - val_binary_crossentropy: 0.7758\n",
            "Epoch 11/20\n",
            " - 21s - loss: 6.0746e-05 - acc: 1.0000 - binary_crossentropy: 6.0746e-05 - val_loss: 0.7876 - val_acc: 0.8702 - val_binary_crossentropy: 0.7876\n",
            "Epoch 12/20\n",
            " - 21s - loss: 5.0371e-05 - acc: 1.0000 - binary_crossentropy: 5.0371e-05 - val_loss: 0.7984 - val_acc: 0.8701 - val_binary_crossentropy: 0.7984\n",
            "Epoch 13/20\n",
            " - 20s - loss: 4.2471e-05 - acc: 1.0000 - binary_crossentropy: 4.2471e-05 - val_loss: 0.8075 - val_acc: 0.8704 - val_binary_crossentropy: 0.8075\n",
            "Epoch 14/20\n",
            " - 21s - loss: 3.6274e-05 - acc: 1.0000 - binary_crossentropy: 3.6274e-05 - val_loss: 0.8168 - val_acc: 0.8701 - val_binary_crossentropy: 0.8168\n",
            "Epoch 15/20\n",
            " - 21s - loss: 3.1264e-05 - acc: 1.0000 - binary_crossentropy: 3.1264e-05 - val_loss: 0.8250 - val_acc: 0.8700 - val_binary_crossentropy: 0.8250\n",
            "Epoch 16/20\n",
            " - 20s - loss: 2.7235e-05 - acc: 1.0000 - binary_crossentropy: 2.7235e-05 - val_loss: 0.8318 - val_acc: 0.8706 - val_binary_crossentropy: 0.8318\n",
            "Epoch 17/20\n",
            " - 20s - loss: 2.3865e-05 - acc: 1.0000 - binary_crossentropy: 2.3865e-05 - val_loss: 0.8399 - val_acc: 0.8701 - val_binary_crossentropy: 0.8399\n",
            "Epoch 18/20\n",
            " - 21s - loss: 2.1089e-05 - acc: 1.0000 - binary_crossentropy: 2.1089e-05 - val_loss: 0.8463 - val_acc: 0.8703 - val_binary_crossentropy: 0.8463\n",
            "Epoch 19/20\n",
            " - 20s - loss: 1.8717e-05 - acc: 1.0000 - binary_crossentropy: 1.8717e-05 - val_loss: 0.8523 - val_acc: 0.8704 - val_binary_crossentropy: 0.8523\n",
            "Epoch 20/20\n",
            " - 20s - loss: 1.6712e-05 - acc: 1.0000 - binary_crossentropy: 1.6712e-05 - val_loss: 0.8590 - val_acc: 0.8701 - val_binary_crossentropy: 0.8590\n"
          ],
          "name": "stdout"
        }
      ]
    },
    {
      "metadata": {
        "id": "DuvHMxinMiHH",
        "colab_type": "text"
      },
      "cell_type": "markdown",
      "source": [
        "##### Plot the training and validation loss"
      ]
    },
    {
      "metadata": {
        "id": "dnQF1C0YMnMT",
        "colab_type": "code",
        "colab": {
          "base_uri": "https://localhost:8080/",
          "height": 608
        },
        "outputId": "cb7eccac-eb6e-4227-fa73-9eff3d363713"
      },
      "cell_type": "code",
      "source": [
        "from __future__ import print_function\n",
        "def plot_history(histories, key='binary_crossentropy'):\n",
        "  plt.figure(figsize=(16,10))\n",
        "    \n",
        "  for name, history in histories:\n",
        "    val = plt.plot(history.epoch, history.history['val_'+key],\n",
        "                   '--', label=name.title()+' Val')\n",
        "    plt.plot(history.epoch, history.history[key], color=val[0].get_color(),\n",
        "             label=name.title()+' Train')\n",
        "\n",
        "  plt.xlabel('Epochs')\n",
        "  plt.ylabel(key.replace('_',' ').title())\n",
        "  plt.legend()\n",
        "\n",
        "  plt.xlim([0,max(history.epoch)])\n",
        "\n",
        "\n",
        "plot_history([('baseline', baseline_history),\n",
        "              ('smaller', smaller_history),\n",
        "              ('bigger', bigger_history)])"
      ],
      "execution_count": 0,
      "outputs": [
        {
          "output_type": "display_data",
          "data": {
            "image/png": "[encoded data removed]",
            "text/plain": [
              "<matplotlib.figure.Figure at 0x7f8746ddeb50>"
            ]
          },
          "metadata": {
            "tags": []
          }
        }
      ]
    },
    {
      "metadata": {
        "id": "qaIskBo1Qryn",
        "colab_type": "text"
      },
      "cell_type": "markdown",
      "source": [
        "#### Strategies"
      ]
    },
    {
      "metadata": {
        "id": "d-hxcRGKQxQE",
        "colab_type": "text"
      },
      "cell_type": "markdown",
      "source": [
        "##### Add weight regularization"
      ]
    },
    {
      "metadata": {
        "id": "E3msf5JRQvpX",
        "colab_type": "code",
        "colab": {
          "base_uri": "https://localhost:8080/",
          "height": 791
        },
        "outputId": "1b542967-e39e-4f6b-a652-6f9c17c4db82"
      },
      "cell_type": "code",
      "source": [
        "l2_model = keras.models.Sequential([\n",
        "    keras.layers.Dense(16, kernel_regularizer=keras.regularizers.l2(0.001),\n",
        "                       activation=tf.nn.relu, input_shape=(10000,)),\n",
        "    keras.layers.Dense(16, kernel_regularizer=keras.regularizers.l2(0.001),\n",
        "                       activation=tf.nn.relu),\n",
        "    keras.layers.Dense(1, activation=tf.nn.sigmoid)\n",
        "])\n",
        "\n",
        "l2_model.compile(optimizer='adam',\n",
        "                 loss='binary_crossentropy',\n",
        "                 metrics=['accuracy', 'binary_crossentropy'])\n",
        "\n",
        "l2_model_history = l2_model.fit(train_data, train_labels,\n",
        "                                epochs=20,\n",
        "                                batch_size=512,\n",
        "                                validation_data=(test_data, test_labels),\n",
        "                                verbose=2)"
      ],
      "execution_count": 0,
      "outputs": [
        {
          "output_type": "stream",
          "text": [
            "Train on 25000 samples, validate on 25000 samples\n",
            "Epoch 1/20\n",
            " - 6s - loss: 0.5635 - acc: 0.7837 - binary_crossentropy: 0.5252 - val_loss: 0.4016 - val_acc: 0.8725 - val_binary_crossentropy: 0.3632\n",
            "Epoch 2/20\n",
            " - 4s - loss: 0.3147 - acc: 0.9080 - binary_crossentropy: 0.2711 - val_loss: 0.3340 - val_acc: 0.8878 - val_binary_crossentropy: 0.2863\n",
            "Epoch 3/20\n",
            " - 4s - loss: 0.2563 - acc: 0.9280 - binary_crossentropy: 0.2058 - val_loss: 0.3347 - val_acc: 0.8865 - val_binary_crossentropy: 0.2820\n",
            "Epoch 4/20\n",
            " - 4s - loss: 0.2300 - acc: 0.9401 - binary_crossentropy: 0.1755 - val_loss: 0.3461 - val_acc: 0.8845 - val_binary_crossentropy: 0.2903\n",
            "Epoch 5/20\n",
            " - 4s - loss: 0.2156 - acc: 0.9472 - binary_crossentropy: 0.1581 - val_loss: 0.3597 - val_acc: 0.8809 - val_binary_crossentropy: 0.3011\n",
            "Epoch 6/20\n",
            " - 4s - loss: 0.2016 - acc: 0.9524 - binary_crossentropy: 0.1421 - val_loss: 0.3738 - val_acc: 0.8772 - val_binary_crossentropy: 0.3136\n",
            "Epoch 7/20\n",
            " - 4s - loss: 0.1931 - acc: 0.9566 - binary_crossentropy: 0.1316 - val_loss: 0.3890 - val_acc: 0.8741 - val_binary_crossentropy: 0.3264\n",
            "Epoch 8/20\n",
            " - 4s - loss: 0.1823 - acc: 0.9622 - binary_crossentropy: 0.1189 - val_loss: 0.3990 - val_acc: 0.8733 - val_binary_crossentropy: 0.3351\n",
            "Epoch 9/20\n",
            " - 4s - loss: 0.1739 - acc: 0.9660 - binary_crossentropy: 0.1093 - val_loss: 0.4143 - val_acc: 0.8723 - val_binary_crossentropy: 0.3490\n",
            "Epoch 10/20\n",
            " - 4s - loss: 0.1693 - acc: 0.9679 - binary_crossentropy: 0.1032 - val_loss: 0.4358 - val_acc: 0.8672 - val_binary_crossentropy: 0.3690\n",
            "Epoch 11/20\n",
            " - 4s - loss: 0.1619 - acc: 0.9708 - binary_crossentropy: 0.0945 - val_loss: 0.4397 - val_acc: 0.8687 - val_binary_crossentropy: 0.3715\n",
            "Epoch 12/20\n",
            " - 4s - loss: 0.1545 - acc: 0.9750 - binary_crossentropy: 0.0863 - val_loss: 0.4586 - val_acc: 0.8644 - val_binary_crossentropy: 0.3901\n",
            "Epoch 13/20\n",
            " - 4s - loss: 0.1515 - acc: 0.9761 - binary_crossentropy: 0.0823 - val_loss: 0.4653 - val_acc: 0.8650 - val_binary_crossentropy: 0.3956\n",
            "Epoch 14/20\n",
            " - 4s - loss: 0.1415 - acc: 0.9816 - binary_crossentropy: 0.0719 - val_loss: 0.4734 - val_acc: 0.8637 - val_binary_crossentropy: 0.4039\n",
            "Epoch 15/20\n",
            " - 4s - loss: 0.1344 - acc: 0.9844 - binary_crossentropy: 0.0652 - val_loss: 0.4845 - val_acc: 0.8640 - val_binary_crossentropy: 0.4153\n",
            "Epoch 16/20\n",
            " - 4s - loss: 0.1308 - acc: 0.9852 - binary_crossentropy: 0.0616 - val_loss: 0.4959 - val_acc: 0.8621 - val_binary_crossentropy: 0.4264\n",
            "Epoch 17/20\n",
            " - 4s - loss: 0.1274 - acc: 0.9872 - binary_crossentropy: 0.0581 - val_loss: 0.5029 - val_acc: 0.8622 - val_binary_crossentropy: 0.4334\n",
            "Epoch 18/20\n",
            " - 4s - loss: 0.1246 - acc: 0.9873 - binary_crossentropy: 0.0551 - val_loss: 0.5193 - val_acc: 0.8593 - val_binary_crossentropy: 0.4494\n",
            "Epoch 19/20\n",
            " - 4s - loss: 0.1210 - acc: 0.9883 - binary_crossentropy: 0.0513 - val_loss: 0.5258 - val_acc: 0.8609 - val_binary_crossentropy: 0.4560\n",
            "Epoch 20/20\n",
            " - 4s - loss: 0.1187 - acc: 0.9894 - binary_crossentropy: 0.0488 - val_loss: 0.5375 - val_acc: 0.8591 - val_binary_crossentropy: 0.4675\n"
          ],
          "name": "stdout"
        }
      ]
    },
    {
      "metadata": {
        "id": "yB3GEAPzRWQ4",
        "colab_type": "code",
        "colab": {
          "base_uri": "https://localhost:8080/",
          "height": 608
        },
        "outputId": "3d902bf0-c288-428b-8fdf-f6ea9cf74194"
      },
      "cell_type": "code",
      "source": [
        "plot_history([('baseline', baseline_history),\n",
        "              ('l2', l2_model_history)])"
      ],
      "execution_count": 0,
      "outputs": [
        {
          "output_type": "display_data",
          "data": {
            "image/png": "[encoded data removed]",
            "text/plain": [
              "<matplotlib.figure.Figure at 0x7f8746dd5490>"
            ]
          },
          "metadata": {
            "tags": []
          }
        }
      ]
    },
    {
      "metadata": {
        "id": "s02ggBEaRbBE",
        "colab_type": "text"
      },
      "cell_type": "markdown",
      "source": [
        "##### Add dropout"
      ]
    },
    {
      "metadata": {
        "id": "ciofeWcRRdbk",
        "colab_type": "code",
        "colab": {
          "base_uri": "https://localhost:8080/",
          "height": 791
        },
        "outputId": "cdc38891-7366-4bce-edaa-de5e627807e5"
      },
      "cell_type": "code",
      "source": [
        "dpt_model = keras.models.Sequential([\n",
        "    keras.layers.Dense(16, activation=tf.nn.relu, input_shape=(10000,)),\n",
        "    keras.layers.Dropout(0.5),\n",
        "    keras.layers.Dense(16, activation=tf.nn.relu),\n",
        "    keras.layers.Dropout(0.5),\n",
        "    keras.layers.Dense(1, activation=tf.nn.sigmoid)\n",
        "])\n",
        "\n",
        "dpt_model.compile(optimizer='adam',\n",
        "                  loss='binary_crossentropy',\n",
        "                  metrics=['accuracy','binary_crossentropy'])\n",
        "\n",
        "dpt_model_history = dpt_model.fit(train_data, train_labels,\n",
        "                                  epochs=20,\n",
        "                                  batch_size=512,\n",
        "                                  validation_data=(test_data, test_labels),\n",
        "                                  verbose=2)"
      ],
      "execution_count": 0,
      "outputs": [
        {
          "output_type": "stream",
          "text": [
            "Train on 25000 samples, validate on 25000 samples\n",
            "Epoch 1/20\n",
            " - 5s - loss: 0.6298 - acc: 0.6398 - binary_crossentropy: 0.6298 - val_loss: 0.5064 - val_acc: 0.8504 - val_binary_crossentropy: 0.5064\n",
            "Epoch 2/20\n",
            " - 4s - loss: 0.4714 - acc: 0.7804 - binary_crossentropy: 0.4714 - val_loss: 0.3481 - val_acc: 0.8771 - val_binary_crossentropy: 0.3481\n",
            "Epoch 3/20\n",
            " - 4s - loss: 0.3708 - acc: 0.8478 - binary_crossentropy: 0.3708 - val_loss: 0.2931 - val_acc: 0.8876 - val_binary_crossentropy: 0.2931\n",
            "Epoch 4/20\n",
            " - 4s - loss: 0.3081 - acc: 0.8820 - binary_crossentropy: 0.3081 - val_loss: 0.2760 - val_acc: 0.8876 - val_binary_crossentropy: 0.2760\n",
            "Epoch 5/20\n",
            " - 4s - loss: 0.2684 - acc: 0.8982 - binary_crossentropy: 0.2684 - val_loss: 0.2725 - val_acc: 0.8884 - val_binary_crossentropy: 0.2725\n",
            "Epoch 6/20\n",
            " - 4s - loss: 0.2361 - acc: 0.9123 - binary_crossentropy: 0.2361 - val_loss: 0.2843 - val_acc: 0.8838 - val_binary_crossentropy: 0.2843\n",
            "Epoch 7/20\n",
            " - 4s - loss: 0.2119 - acc: 0.9230 - binary_crossentropy: 0.2119 - val_loss: 0.2946 - val_acc: 0.8858 - val_binary_crossentropy: 0.2946\n",
            "Epoch 8/20\n",
            " - 4s - loss: 0.1874 - acc: 0.9324 - binary_crossentropy: 0.1874 - val_loss: 0.3049 - val_acc: 0.8850 - val_binary_crossentropy: 0.3049\n",
            "Epoch 9/20\n",
            " - 4s - loss: 0.1698 - acc: 0.9368 - binary_crossentropy: 0.1698 - val_loss: 0.3287 - val_acc: 0.8846 - val_binary_crossentropy: 0.3287\n",
            "Epoch 10/20\n",
            " - 4s - loss: 0.1583 - acc: 0.9392 - binary_crossentropy: 0.1583 - val_loss: 0.3380 - val_acc: 0.8820 - val_binary_crossentropy: 0.3380\n",
            "Epoch 11/20\n",
            " - 4s - loss: 0.1477 - acc: 0.9451 - binary_crossentropy: 0.1477 - val_loss: 0.3659 - val_acc: 0.8824 - val_binary_crossentropy: 0.3659\n",
            "Epoch 12/20\n",
            " - 4s - loss: 0.1369 - acc: 0.9468 - binary_crossentropy: 0.1369 - val_loss: 0.3693 - val_acc: 0.8810 - val_binary_crossentropy: 0.3693\n",
            "Epoch 13/20\n",
            " - 4s - loss: 0.1271 - acc: 0.9489 - binary_crossentropy: 0.1271 - val_loss: 0.3897 - val_acc: 0.8787 - val_binary_crossentropy: 0.3897\n",
            "Epoch 14/20\n",
            " - 4s - loss: 0.1149 - acc: 0.9545 - binary_crossentropy: 0.1149 - val_loss: 0.4149 - val_acc: 0.8795 - val_binary_crossentropy: 0.4149\n",
            "Epoch 15/20\n",
            " - 4s - loss: 0.1142 - acc: 0.9528 - binary_crossentropy: 0.1142 - val_loss: 0.4229 - val_acc: 0.8779 - val_binary_crossentropy: 0.4229\n",
            "Epoch 16/20\n",
            " - 4s - loss: 0.1085 - acc: 0.9539 - binary_crossentropy: 0.1085 - val_loss: 0.4309 - val_acc: 0.8768 - val_binary_crossentropy: 0.4309\n",
            "Epoch 17/20\n",
            " - 4s - loss: 0.1040 - acc: 0.9548 - binary_crossentropy: 0.1040 - val_loss: 0.4796 - val_acc: 0.8763 - val_binary_crossentropy: 0.4796\n",
            "Epoch 18/20\n",
            " - 4s - loss: 0.0981 - acc: 0.9573 - binary_crossentropy: 0.0981 - val_loss: 0.4798 - val_acc: 0.8775 - val_binary_crossentropy: 0.4798\n",
            "Epoch 19/20\n",
            " - 4s - loss: 0.0980 - acc: 0.9579 - binary_crossentropy: 0.0980 - val_loss: 0.4984 - val_acc: 0.8746 - val_binary_crossentropy: 0.4984\n",
            "Epoch 20/20\n",
            " - 4s - loss: 0.0926 - acc: 0.9578 - binary_crossentropy: 0.0926 - val_loss: 0.5366 - val_acc: 0.8749 - val_binary_crossentropy: 0.5366\n"
          ],
          "name": "stdout"
        }
      ]
    },
    {
      "metadata": {
        "id": "FkaJ16wpR6N-",
        "colab_type": "code",
        "colab": {
          "base_uri": "https://localhost:8080/",
          "height": 608
        },
        "outputId": "9798d44a-f442-4a6d-b75e-186c590f7cb9"
      },
      "cell_type": "code",
      "source": [
        "plot_history([('baseline', baseline_history),\n",
        "              ('dropout', dpt_model_history)])"
      ],
      "execution_count": 0,
      "outputs": [
        {
          "output_type": "display_data",
          "data": {
            "image/png": "[encoded data removed]",
            "text/plain": [
              "<matplotlib.figure.Figure at 0x7f8743056050>"
            ]
          },
          "metadata": {
            "tags": []
          }
        }
      ]
    },
    {
      "metadata": {
        "id": "Q5Yzasbjvew1",
        "colab_type": "text"
      },
      "cell_type": "markdown",
      "source": [
        "###  Save and restore models"
      ]
    },
    {
      "metadata": {
        "id": "HVp-bmLuvopj",
        "colab_type": "text"
      },
      "cell_type": "markdown",
      "source": [
        "#### Setup"
      ]
    },
    {
      "metadata": {
        "id": "iqezohyOwC30",
        "colab_type": "text"
      },
      "cell_type": "markdown",
      "source": [
        "##### Get an example dataset"
      ]
    },
    {
      "metadata": {
        "id": "wA4UfrwMwHra",
        "colab_type": "code",
        "colab": {
          "base_uri": "https://localhost:8080/",
          "height": 36
        },
        "outputId": "6bc3ebce-3a9e-48ab-92e9-06120a35ddea"
      },
      "cell_type": "code",
      "source": [
        "from __future__ import absolute_import, division, print_function\n",
        "\n",
        "import os\n",
        "\n",
        "import tensorflow as tf\n",
        "from tensorflow import keras\n",
        "\n",
        "tf.__version__"
      ],
      "execution_count": 1,
      "outputs": [
        {
          "output_type": "execute_result",
          "data": {
            "text/plain": [
              "'1.9.0'"
            ]
          },
          "metadata": {
            "tags": []
          },
          "execution_count": 1
        }
      ]
    },
    {
      "metadata": {
        "id": "6a3BGHvXxLgW",
        "colab_type": "code",
        "colab": {
          "base_uri": "https://localhost:8080/",
          "height": 74
        },
        "outputId": "16e97b5f-d143-4ae9-9a06-718addd0ce47"
      },
      "cell_type": "code",
      "source": [
        "(train_images, train_labels), (test_images, test_labels) = tf.keras.datasets.mnist.load_data()\n",
        "\n",
        "train_labels = train_labels[:1000]\n",
        "test_labels = test_labels[:1000]\n",
        "\n",
        "train_images = train_images[:1000].reshape(-1, 28 * 28) / 255.0\n",
        "test_images = test_images[:1000].reshape(-1, 28 * 28) / 255.0"
      ],
      "execution_count": 2,
      "outputs": [
        {
          "output_type": "stream",
          "text": [
            "Downloading data from https://s3.amazonaws.com/img-datasets/mnist.npz\n",
            "11493376/11490434 [==============================] - 3s 0us/step\n",
            "11501568/11490434 [==============================] - 3s 0us/step\n"
          ],
          "name": "stdout"
        }
      ]
    },
    {
      "metadata": {
        "id": "dlyzR6LdxR4e",
        "colab_type": "text"
      },
      "cell_type": "markdown",
      "source": [
        "##### Define a model"
      ]
    },
    {
      "metadata": {
        "id": "0f16YuwJxUtM",
        "colab_type": "code",
        "colab": {
          "base_uri": "https://localhost:8080/",
          "height": 262
        },
        "outputId": "ddbe6176-6650-478b-fa63-4ceb8a8170ff"
      },
      "cell_type": "code",
      "source": [
        "# Returns a short sequential model\n",
        "def create_model():\n",
        "  model = tf.keras.models.Sequential([\n",
        "    keras.layers.Dense(512, activation=tf.nn.relu, input_shape=(784,)),\n",
        "    keras.layers.Dropout(0.2),\n",
        "    keras.layers.Dense(10, activation=tf.nn.softmax)\n",
        "  ])\n",
        "  \n",
        "  model.compile(optimizer=tf.keras.optimizers.Adam(), \n",
        "                loss=tf.keras.losses.sparse_categorical_crossentropy,\n",
        "                metrics=['accuracy'])\n",
        "  \n",
        "  return model\n",
        "\n",
        "\n",
        "# Create a basic model instance\n",
        "model = create_model()\n",
        "model.summary()"
      ],
      "execution_count": 3,
      "outputs": [
        {
          "output_type": "stream",
          "text": [
            "_________________________________________________________________\n",
            "Layer (type)                 Output Shape              Param #   \n",
            "=================================================================\n",
            "dense (Dense)                (None, 512)               401920    \n",
            "_________________________________________________________________\n",
            "dropout (Dropout)            (None, 512)               0         \n",
            "_________________________________________________________________\n",
            "dense_1 (Dense)              (None, 10)                5130      \n",
            "=================================================================\n",
            "Total params: 407,050\n",
            "Trainable params: 407,050\n",
            "Non-trainable params: 0\n",
            "_________________________________________________________________\n"
          ],
          "name": "stdout"
        }
      ]
    },
    {
      "metadata": {
        "id": "Ht05dKDexaio",
        "colab_type": "text"
      },
      "cell_type": "markdown",
      "source": [
        "#### Save checkpoints during training"
      ]
    },
    {
      "metadata": {
        "id": "tklwpUzAyWLE",
        "colab_type": "text"
      },
      "cell_type": "markdown",
      "source": [
        "##### Checkpoint callback usage"
      ]
    },
    {
      "metadata": {
        "id": "GrtSQdUvyaWC",
        "colab_type": "code",
        "colab": {
          "base_uri": "https://localhost:8080/",
          "height": 809
        },
        "outputId": "d1455ddb-6d5f-4c68-8f13-92858a4d287b"
      },
      "cell_type": "code",
      "source": [
        "checkpoint_path = \"training_1/cp.ckpt\"\n",
        "checkpoint_dir = os.path.dirname(checkpoint_path)\n",
        "\n",
        "# Create checkpoint callback\n",
        "cp_callback = tf.keras.callbacks.ModelCheckpoint(checkpoint_path, \n",
        "                                                 save_weights_only=True,\n",
        "                                                 verbose=1)\n",
        "\n",
        "model = create_model()\n",
        "\n",
        "model.fit(train_images, train_labels,  epochs = 10, \n",
        "          validation_data = (test_images,test_labels),\n",
        "          callbacks = [cp_callback])  # pass callback to training"
      ],
      "execution_count": 4,
      "outputs": [
        {
          "output_type": "stream",
          "text": [
            "Train on 1000 samples, validate on 1000 samples\n",
            "Epoch 1/10\n",
            "1000/1000 [==============================] - 1s 635us/step - loss: 1.1836 - acc: 0.6540 - val_loss: 0.7079 - val_acc: 0.7920\n",
            "\n",
            "Epoch 00001: saving model to training_1/cp.ckpt\n",
            "Epoch 2/10\n",
            "1000/1000 [==============================] - 0s 360us/step - loss: 0.4259 - acc: 0.8820 - val_loss: 0.5244 - val_acc: 0.8400\n",
            "\n",
            "Epoch 00002: saving model to training_1/cp.ckpt\n",
            "Epoch 3/10\n",
            "1000/1000 [==============================] - 0s 341us/step - loss: 0.2874 - acc: 0.9300 - val_loss: 0.4755 - val_acc: 0.8590\n",
            "\n",
            "Epoch 00003: saving model to training_1/cp.ckpt\n",
            "Epoch 4/10\n",
            "1000/1000 [==============================] - 0s 348us/step - loss: 0.2115 - acc: 0.9540 - val_loss: 0.4220 - val_acc: 0.8660\n",
            "\n",
            "Epoch 00004: saving model to training_1/cp.ckpt\n",
            "Epoch 5/10\n",
            "1000/1000 [==============================] - 0s 335us/step - loss: 0.1534 - acc: 0.9650 - val_loss: 0.4161 - val_acc: 0.8590\n",
            "\n",
            "Epoch 00005: saving model to training_1/cp.ckpt\n",
            "Epoch 6/10\n",
            "1000/1000 [==============================] - 0s 348us/step - loss: 0.1169 - acc: 0.9780 - val_loss: 0.4124 - val_acc: 0.8570\n",
            "\n",
            "Epoch 00006: saving model to training_1/cp.ckpt\n",
            "Epoch 7/10\n",
            "1000/1000 [==============================] - 0s 358us/step - loss: 0.0847 - acc: 0.9910 - val_loss: 0.4219 - val_acc: 0.8620\n",
            "\n",
            "Epoch 00007: saving model to training_1/cp.ckpt\n",
            "Epoch 8/10\n",
            "1000/1000 [==============================] - 0s 344us/step - loss: 0.0704 - acc: 0.9900 - val_loss: 0.4349 - val_acc: 0.8570\n",
            "\n",
            "Epoch 00008: saving model to training_1/cp.ckpt\n",
            "Epoch 9/10\n",
            "1000/1000 [==============================] - 0s 340us/step - loss: 0.0504 - acc: 0.9970 - val_loss: 0.4078 - val_acc: 0.8580\n",
            "\n",
            "Epoch 00009: saving model to training_1/cp.ckpt\n",
            "Epoch 10/10\n",
            "1000/1000 [==============================] - 0s 345us/step - loss: 0.0401 - acc: 0.9970 - val_loss: 0.4261 - val_acc: 0.8580\n",
            "\n",
            "Epoch 00010: saving model to training_1/cp.ckpt\n"
          ],
          "name": "stdout"
        },
        {
          "output_type": "execute_result",
          "data": {
            "text/plain": [
              "<tensorflow.python.keras.callbacks.History at 0x7fe8637f4750>"
            ]
          },
          "metadata": {
            "tags": []
          },
          "execution_count": 4
        }
      ]
    },
    {
      "metadata": {
        "id": "QWUHNXaFyyNT",
        "colab_type": "code",
        "colab": {
          "base_uri": "https://localhost:8080/",
          "height": 36
        },
        "outputId": "0c1e9ce4-421e-4dba-8574-f1d33add154e"
      },
      "cell_type": "code",
      "source": [
        "!ls {checkpoint_dir}"
      ],
      "execution_count": 5,
      "outputs": [
        {
          "output_type": "stream",
          "text": [
            "checkpoint  cp.ckpt.data-00000-of-00001  cp.ckpt.index\r\n"
          ],
          "name": "stdout"
        }
      ]
    },
    {
      "metadata": {
        "id": "r3r2rfNdy4vM",
        "colab_type": "code",
        "colab": {
          "base_uri": "https://localhost:8080/",
          "height": 55
        },
        "outputId": "16a2ecf9-8ee4-45fe-ad70-ef81b610c52f"
      },
      "cell_type": "code",
      "source": [
        "model = create_model()\n",
        "\n",
        "loss, acc = model.evaluate(test_images, test_labels)\n",
        "print(\"Untrained model, accuracy: {:5.2f}%\".format(100*acc))"
      ],
      "execution_count": 6,
      "outputs": [
        {
          "output_type": "stream",
          "text": [
            "1000/1000 [==============================] - 0s 158us/step\n",
            "Untrained model, accuracy:  9.80%\n"
          ],
          "name": "stdout"
        }
      ]
    },
    {
      "metadata": {
        "id": "VmC2xOZjzdbb",
        "colab_type": "code",
        "colab": {
          "base_uri": "https://localhost:8080/",
          "height": 55
        },
        "outputId": "6678b759-e64e-44dc-c5f7-657f247708ec"
      },
      "cell_type": "code",
      "source": [
        "model.load_weights(checkpoint_path)\n",
        "loss,acc = model.evaluate(test_images, test_labels)\n",
        "print(\"Restored model, accuracy: {:5.2f}%\".format(100*acc))"
      ],
      "execution_count": 7,
      "outputs": [
        {
          "output_type": "stream",
          "text": [
            "1000/1000 [==============================] - 0s 66us/step\n",
            "Restored model, accuracy: 85.80%\n"
          ],
          "name": "stdout"
        }
      ]
    },
    {
      "metadata": {
        "id": "Mzqgw6m0z5KU",
        "colab_type": "text"
      },
      "cell_type": "markdown",
      "source": [
        "##### Checkpoint callback options"
      ]
    },
    {
      "metadata": {
        "id": "JcGZLY3p0GpC",
        "colab_type": "code",
        "colab": {
          "base_uri": "https://localhost:8080/",
          "height": 413
        },
        "outputId": "bb56963a-f439-4ab3-c911-a131aa362c74"
      },
      "cell_type": "code",
      "source": [
        "# include the epoch in the file name. (uses `str.format`)\n",
        "checkpoint_path = \"training_2/cp-{epoch:04d}.ckpt\"\n",
        "checkpoint_dir = os.path.dirname(checkpoint_path)\n",
        "\n",
        "cp_callback = tf.keras.callbacks.ModelCheckpoint(\n",
        "    checkpoint_path, verbose=1, save_weights_only=True,\n",
        "    # Save weights, every 5-epochs.\n",
        "    period=5)\n",
        "\n",
        "model = create_model()\n",
        "model.fit(train_images, train_labels,\n",
        "          epochs = 50, callbacks = [cp_callback],\n",
        "          validation_data = (test_images,test_labels),\n",
        "          verbose=0)"
      ],
      "execution_count": 8,
      "outputs": [
        {
          "output_type": "stream",
          "text": [
            "\n",
            "Epoch 00005: saving model to training_2/cp-0005.ckpt\n",
            "\n",
            "Epoch 00010: saving model to training_2/cp-0010.ckpt\n",
            "\n",
            "Epoch 00015: saving model to training_2/cp-0015.ckpt\n",
            "\n",
            "Epoch 00020: saving model to training_2/cp-0020.ckpt\n",
            "\n",
            "Epoch 00025: saving model to training_2/cp-0025.ckpt\n",
            "\n",
            "Epoch 00030: saving model to training_2/cp-0030.ckpt\n",
            "\n",
            "Epoch 00035: saving model to training_2/cp-0035.ckpt\n",
            "\n",
            "Epoch 00040: saving model to training_2/cp-0040.ckpt\n",
            "\n",
            "Epoch 00045: saving model to training_2/cp-0045.ckpt\n",
            "\n",
            "Epoch 00050: saving model to training_2/cp-0050.ckpt\n"
          ],
          "name": "stdout"
        },
        {
          "output_type": "execute_result",
          "data": {
            "text/plain": [
              "<tensorflow.python.keras.callbacks.History at 0x7fe858a13910>"
            ]
          },
          "metadata": {
            "tags": []
          },
          "execution_count": 8
        }
      ]
    },
    {
      "metadata": {
        "id": "NtKqQq970WBT",
        "colab_type": "code",
        "colab": {
          "base_uri": "https://localhost:8080/",
          "height": 403
        },
        "outputId": "01e97596-05f6-405e-a88c-b5ccd8439334"
      },
      "cell_type": "code",
      "source": [
        "import pathlib\n",
        "\n",
        "# Sort the checkpoints by modification time.\n",
        "checkpoints = pathlib.Path(checkpoint_dir).glob(\"*.index\")\n",
        "checkpoints = sorted(checkpoints, key=lambda cp:cp.stat().st_mtime)\n",
        "checkpoints = [cp.with_suffix('') for cp in checkpoints]\n",
        "latest = str(checkpoints[-1])\n",
        "checkpoints"
      ],
      "execution_count": 10,
      "outputs": [
        {
          "output_type": "error",
          "ename": "ImportError",
          "evalue": "ignored",
          "traceback": [
            "\u001b[0;31m\u001b[0m",
            "\u001b[0;31mImportError\u001b[0mTraceback (most recent call last)",
            "\u001b[0;32m<ipython-input-10-eb23191789c0>\u001b[0m in \u001b[0;36m<module>\u001b[0;34m()\u001b[0m\n\u001b[0;32m----> 1\u001b[0;31m \u001b[0;32mimport\u001b[0m \u001b[0mpathlib\u001b[0m\u001b[0;34m\u001b[0m\u001b[0m\n\u001b[0m\u001b[1;32m      2\u001b[0m \u001b[0;34m\u001b[0m\u001b[0m\n\u001b[1;32m      3\u001b[0m \u001b[0;31m# Sort the checkpoints by modification time.\u001b[0m\u001b[0;34m\u001b[0m\u001b[0;34m\u001b[0m\u001b[0m\n\u001b[1;32m      4\u001b[0m \u001b[0mcheckpoints\u001b[0m \u001b[0;34m=\u001b[0m \u001b[0mpathlib\u001b[0m\u001b[0;34m.\u001b[0m\u001b[0mPath\u001b[0m\u001b[0;34m(\u001b[0m\u001b[0mcheckpoint_dir\u001b[0m\u001b[0;34m)\u001b[0m\u001b[0;34m.\u001b[0m\u001b[0mglob\u001b[0m\u001b[0;34m(\u001b[0m\u001b[0;34m\"*.index\"\u001b[0m\u001b[0;34m)\u001b[0m\u001b[0;34m\u001b[0m\u001b[0m\n\u001b[1;32m      5\u001b[0m \u001b[0mcheckpoints\u001b[0m \u001b[0;34m=\u001b[0m \u001b[0msorted\u001b[0m\u001b[0;34m(\u001b[0m\u001b[0mcheckpoints\u001b[0m\u001b[0;34m,\u001b[0m \u001b[0mkey\u001b[0m\u001b[0;34m=\u001b[0m\u001b[0;32mlambda\u001b[0m \u001b[0mcp\u001b[0m\u001b[0;34m:\u001b[0m\u001b[0mcp\u001b[0m\u001b[0;34m.\u001b[0m\u001b[0mstat\u001b[0m\u001b[0;34m(\u001b[0m\u001b[0;34m)\u001b[0m\u001b[0;34m.\u001b[0m\u001b[0mst_mtime\u001b[0m\u001b[0;34m)\u001b[0m\u001b[0;34m\u001b[0m\u001b[0m\n",
            "\u001b[0;31mImportError\u001b[0m: No module named pathlib",
            "",
            "\u001b[0;31m---------------------------------------------------------------------------\u001b[0;32m\nNOTE: If your import is failing due to a missing package, you can\nmanually install dependencies using either !pip or !apt.\n\nTo view examples of installing some common dependencies, click the\n\"Open Examples\" button below.\n\u001b[0;31m---------------------------------------------------------------------------\u001b[0m\n"
          ]
        }
      ]
    }
  ]
}