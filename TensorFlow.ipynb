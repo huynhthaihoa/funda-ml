{
  "nbformat": 4,
  "nbformat_minor": 0,
  "metadata": {
    "colab": {
      "name": "TensorFlow.ipynb",
      "version": "0.3.2",
      "provenance": []
    },
    "kernelspec": {
      "display_name": "Python 3.6",
      "language": "python",
      "name": "python36"
    }
  },
  "cells": [
    {
      "metadata": {
        "id": "wcgRNWeOHEeI",
        "colab_type": "text"
      },
      "cell_type": "markdown",
      "source": [
        "# Get started with TensorFlow"
      ]
    },
    {
      "metadata": {
        "id": "oSWv-TrTHEeN",
        "colab_type": "code",
        "colab": {
          "base_uri": "https://localhost:8080/",
          "height": 263
        },
        "outputId": "aaecc7ea-17fb-4ad6-fb86-55b0daed4f2e"
      },
      "cell_type": "code",
      "source": [
        "import tensorflow as tf\n",
        "mnist = tf.keras.datasets.mnist\n",
        "\n",
        "(x_train, y_train),(x_test, y_test) = mnist.load_data()\n",
        "x_train, x_test = x_train / 255.0, x_test / 255.0\n",
        "\n",
        "model = tf.keras.models.Sequential([\n",
        "  tf.keras.layers.Flatten(),\n",
        "  tf.keras.layers.Dense(512, activation=tf.nn.relu),\n",
        "  tf.keras.layers.Dropout(0.2),\n",
        "  tf.keras.layers.Dense(10, activation=tf.nn.softmax)\n",
        "])\n",
        "model.compile(optimizer='adam',\n",
        "              loss='sparse_categorical_crossentropy',\n",
        "              metrics=['accuracy'])\n",
        "\n",
        "model.fit(x_train, y_train, epochs=5)\n",
        "model.evaluate(x_test, y_test)"
      ],
      "execution_count": 12,
      "outputs": [
        {
          "output_type": "stream",
          "text": [
            "Epoch 1/5\n",
            "60000/60000 [==============================] - 15s 251us/step - loss: 0.2190 - acc: 0.9354\n",
            "Epoch 2/5\n",
            "60000/60000 [==============================] - 15s 248us/step - loss: 0.0954 - acc: 0.9709\n",
            "Epoch 3/5\n",
            "15296/60000 [======>.......................] - ETA: 11s - loss: 0.0599 - acc: 0.9812"
          ],
          "name": "stdout"
        },
        {
          "output_type": "stream",
          "text": [
            "60000/60000 [==============================] - 15s 246us/step - loss: 0.0658 - acc: 0.9792\n",
            "Epoch 4/5\n",
            "60000/60000 [==============================] - 15s 249us/step - loss: 0.0522 - acc: 0.9830\n",
            "Epoch 5/5\n",
            "24736/60000 [===========>..................] - ETA: 8s - loss: 0.0419 - acc: 0.9867"
          ],
          "name": "stdout"
        },
        {
          "output_type": "stream",
          "text": [
            "60000/60000 [==============================] - 15s 247us/step - loss: 0.0442 - acc: 0.9854\n",
            "10000/10000 [==============================] - 0s 50us/step\n"
          ],
          "name": "stdout"
        },
        {
          "output_type": "execute_result",
          "data": {
            "text/plain": [
              "[0.058035363704263, 0.9823]"
            ]
          },
          "metadata": {
            "tags": []
          },
          "execution_count": 12
        }
      ]
    },
    {
      "metadata": {
        "id": "9seGyOg3HEeg",
        "colab_type": "text"
      },
      "cell_type": "markdown",
      "source": [
        "## Learn and use ML"
      ]
    },
    {
      "metadata": {
        "id": "3yRF7nb_S-M-",
        "colab_type": "text"
      },
      "cell_type": "markdown",
      "source": [
        "### Train neural network: basic classification"
      ]
    },
    {
      "metadata": {
        "id": "JQ6O8O1rUdUl",
        "colab_type": "text"
      },
      "cell_type": "markdown",
      "source": [
        "#### Import the Fashion MNIST dataset"
      ]
    },
    {
      "metadata": {
        "id": "7GXn4IUqTLoY",
        "colab_type": "code",
        "colab": {
          "base_uri": "https://localhost:8080/",
          "height": 36
        },
        "outputId": "c5d163cb-74ce-49b2-bc04-1bcab7ad10bc"
      },
      "cell_type": "code",
      "source": [
        "# TensorFlow and tf.keras\n",
        "import tensorflow as tf\n",
        "from tensorflow import keras\n",
        "\n",
        "# Helper libraries\n",
        "import numpy as np\n",
        "import matplotlib.pyplot as plt\n",
        "\n",
        "print(tf.__version__)"
      ],
      "execution_count": 13,
      "outputs": [
        {
          "output_type": "stream",
          "text": [
            "1.9.0\n"
          ],
          "name": "stdout"
        }
      ]
    },
    {
      "metadata": {
        "id": "BCdunJo9TVW5",
        "colab_type": "code",
        "colab": {
          "base_uri": "https://localhost:8080/",
          "height": 225
        },
        "outputId": "ec133389-5aaf-48d4-b89f-7c5159cfe3f7"
      },
      "cell_type": "code",
      "source": [
        "fashion_mnist = keras.datasets.fashion_mnist\n",
        "\n",
        "(train_images, train_labels), (test_images, test_labels) = fashion_mnist.load_data()"
      ],
      "execution_count": 15,
      "outputs": [
        {
          "output_type": "stream",
          "text": [
            "Downloading data from http://fashion-mnist.s3-website.eu-central-1.amazonaws.com/train-labels-idx1-ubyte.gz\n",
            "32768/29515 [=================================] - 0s 3us/step\n",
            "40960/29515 [=========================================] - 0s 3us/step\n",
            "Downloading data from http://fashion-mnist.s3-website.eu-central-1.amazonaws.com/train-images-idx3-ubyte.gz\n",
            "26427392/26421880 [==============================] - 7s 0us/step\n",
            "26435584/26421880 [==============================] - 7s 0us/step\n",
            "Downloading data from http://fashion-mnist.s3-website.eu-central-1.amazonaws.com/t10k-labels-idx1-ubyte.gz\n",
            "16384/5148 [===============================================================================================] - 0s 0us/step\n",
            "Downloading data from http://fashion-mnist.s3-website.eu-central-1.amazonaws.com/t10k-images-idx3-ubyte.gz\n",
            "4423680/4422102 [==============================] - 3s 1us/step\n",
            "4431872/4422102 [==============================] - 3s 1us/step\n"
          ],
          "name": "stdout"
        }
      ]
    },
    {
      "metadata": {
        "id": "xzTRUAn-Tchx",
        "colab_type": "code",
        "colab": {}
      },
      "cell_type": "code",
      "source": [
        "class_names = ['T-shirt/top', 'Trouser', 'Pullover', 'Dress', 'Coat', \n",
        "               'Sandal', 'Shirt', 'Sneaker', 'Bag', 'Ankle boot']"
      ],
      "execution_count": 0,
      "outputs": []
    },
    {
      "metadata": {
        "id": "wqJGxhCeUmwl",
        "colab_type": "text"
      },
      "cell_type": "markdown",
      "source": [
        "#### Explore the data"
      ]
    },
    {
      "metadata": {
        "id": "Xx_LyZDhUnZe",
        "colab_type": "code",
        "colab": {
          "base_uri": "https://localhost:8080/",
          "height": 36
        },
        "outputId": "edcc6f2b-5408-4e89-ac28-92aa9d91470d"
      },
      "cell_type": "code",
      "source": [
        "train_images.shape"
      ],
      "execution_count": 0,
      "outputs": [
        {
          "output_type": "execute_result",
          "data": {
            "text/plain": [
              "(60000, 28, 28)"
            ]
          },
          "metadata": {
            "tags": []
          },
          "execution_count": 11
        }
      ]
    },
    {
      "metadata": {
        "id": "ET2zN3EjTtEB",
        "colab_type": "code",
        "colab": {
          "base_uri": "https://localhost:8080/",
          "height": 36
        },
        "outputId": "2dba4bf9-ab34-47a9-f7f6-2765bccd2436"
      },
      "cell_type": "code",
      "source": [
        "len(train_labels)"
      ],
      "execution_count": 0,
      "outputs": [
        {
          "output_type": "execute_result",
          "data": {
            "text/plain": [
              "60000"
            ]
          },
          "metadata": {
            "tags": []
          },
          "execution_count": 8
        }
      ]
    },
    {
      "metadata": {
        "id": "3RmXa-qCTvNu",
        "colab_type": "code",
        "colab": {
          "base_uri": "https://localhost:8080/",
          "height": 36
        },
        "outputId": "7d369641-478a-48e2-f52d-72168eeb8417"
      },
      "cell_type": "code",
      "source": [
        "test_images.shape"
      ],
      "execution_count": 0,
      "outputs": [
        {
          "output_type": "execute_result",
          "data": {
            "text/plain": [
              "(10000, 28, 28)"
            ]
          },
          "metadata": {
            "tags": []
          },
          "execution_count": 7
        }
      ]
    },
    {
      "metadata": {
        "id": "eUZXyzLcTyzE",
        "colab_type": "code",
        "colab": {
          "base_uri": "https://localhost:8080/",
          "height": 36
        },
        "outputId": "1c70a1fe-738f-48d1-9717-675da9894922"
      },
      "cell_type": "code",
      "source": [
        "len(test_labels)"
      ],
      "execution_count": 0,
      "outputs": [
        {
          "output_type": "execute_result",
          "data": {
            "text/plain": [
              "10000"
            ]
          },
          "metadata": {
            "tags": []
          },
          "execution_count": 9
        }
      ]
    },
    {
      "metadata": {
        "id": "rukSip-lUvDu",
        "colab_type": "text"
      },
      "cell_type": "markdown",
      "source": [
        "#### Preprocess the data"
      ]
    },
    {
      "metadata": {
        "id": "f-lks_VGUy0S",
        "colab_type": "code",
        "colab": {
          "base_uri": "https://localhost:8080/",
          "height": 347
        },
        "outputId": "da55991d-9fde-48e0-8478-5426f64b2a7a"
      },
      "cell_type": "code",
      "source": [
        "plt.figure()\n",
        "plt.imshow(train_images[0])\n",
        "plt.colorbar()\n",
        "plt.gca().grid(False)"
      ],
      "execution_count": 0,
      "outputs": [
        {
          "output_type": "display_data",
          "data": {
            "image/png": "[encoded data removed]",
            "text/plain": [
              "<matplotlib.figure.Figure at 0x7f7d8a9cbc50>"
            ]
          },
          "metadata": {
            "tags": []
          }
        }
      ]
    },
    {
      "metadata": {
        "id": "EYB5lNYtVm4r",
        "colab_type": "code",
        "colab": {}
      },
      "cell_type": "code",
      "source": [
        "train_images = train_images / 255.0\n",
        "\n",
        "test_images = test_images / 255.0"
      ],
      "execution_count": 0,
      "outputs": []
    },
    {
      "metadata": {
        "id": "Gq5QJ699V30t",
        "colab_type": "code",
        "colab": {
          "base_uri": "https://localhost:8080/",
          "height": 589
        },
        "outputId": "91224391-9977-4917-f35f-18a444cd014c"
      },
      "cell_type": "code",
      "source": [
        "import matplotlib.pyplot as plt\n",
        "%matplotlib inline\n",
        "\n",
        "plt.figure(figsize=(10,10))\n",
        "for i in range(25):\n",
        "    plt.subplot(5,5,i+1)\n",
        "    plt.xticks([])\n",
        "    plt.yticks([])\n",
        "    plt.grid('off')\n",
        "    plt.imshow(train_images[i], cmap=plt.cm.binary)\n",
        "    plt.xlabel(class_names[train_labels[i]])"
      ],
      "execution_count": 0,
      "outputs": [
        {
          "output_type": "display_data",
          "data": {
            "image/png": "[encoded data removed]",
            "text/plain": [
              "<matplotlib.figure.Figure at 0x7f7d882b7d10>"
            ]
          },
          "metadata": {
            "tags": []
          }
        }
      ]
    },
    {
      "metadata": {
        "id": "92B-AQJIWeyB",
        "colab_type": "text"
      },
      "cell_type": "markdown",
      "source": [
        "#### Build the model"
      ]
    },
    {
      "metadata": {
        "id": "3348ycOTWks9",
        "colab_type": "text"
      },
      "cell_type": "markdown",
      "source": [
        "##### Setup the layers"
      ]
    },
    {
      "metadata": {
        "id": "0nbXzbhcWjz3",
        "colab_type": "code",
        "colab": {}
      },
      "cell_type": "code",
      "source": [
        "model = keras.Sequential([\n",
        "    keras.layers.Flatten(input_shape=(28, 28)),\n",
        "    keras.layers.Dense(128, activation=tf.nn.relu),\n",
        "    keras.layers.Dense(10, activation=tf.nn.softmax)\n",
        "])"
      ],
      "execution_count": 0,
      "outputs": []
    },
    {
      "metadata": {
        "id": "U81OoY87WuZ5",
        "colab_type": "text"
      },
      "cell_type": "markdown",
      "source": [
        "##### Compile the model"
      ]
    },
    {
      "metadata": {
        "id": "deG6oc1SWrnj",
        "colab_type": "code",
        "colab": {}
      },
      "cell_type": "code",
      "source": [
        "model.compile(optimizer=tf.train.AdamOptimizer(), \n",
        "              loss='sparse_categorical_crossentropy',\n",
        "              metrics=['accuracy'])"
      ],
      "execution_count": 0,
      "outputs": []
    },
    {
      "metadata": {
        "id": "D_-u36P0Yrbm",
        "colab_type": "text"
      },
      "cell_type": "markdown",
      "source": [
        "#### Train the model"
      ]
    },
    {
      "metadata": {
        "id": "h1N10hxFYwPt",
        "colab_type": "code",
        "colab": {
          "base_uri": "https://localhost:8080/",
          "height": 245
        },
        "outputId": "b6ef6087-52b1-4a81-8588-8d297fbbd208"
      },
      "cell_type": "code",
      "source": [
        "model.fit(train_images, train_labels, epochs=5)"
      ],
      "execution_count": 0,
      "outputs": [
        {
          "output_type": "stream",
          "text": [
            "Epoch 1/5\n",
            "60000/60000 [==============================] - 5s 78us/step - loss: 0.4978 - acc: 0.8261\n",
            "Epoch 2/5\n",
            "60000/60000 [==============================] - 4s 72us/step - loss: 0.3750 - acc: 0.8637\n",
            "Epoch 3/5\n",
            "60000/60000 [==============================] - 4s 74us/step - loss: 0.3356 - acc: 0.8779\n",
            "Epoch 4/5\n",
            "60000/60000 [==============================] - 4s 73us/step - loss: 0.3130 - acc: 0.8845\n",
            "Epoch 5/5\n",
            "20224/60000 [=========>....................] - ETA: 2s - loss: 0.2972 - acc: 0.8929"
          ],
          "name": "stdout"
        },
        {
          "output_type": "stream",
          "text": [
            "60000/60000 [==============================] - 4s 73us/step - loss: 0.2962 - acc: 0.8903\n"
          ],
          "name": "stdout"
        },
        {
          "output_type": "execute_result",
          "data": {
            "text/plain": [
              "<tensorflow.python.keras.callbacks.History at 0x7f7d8845db90>"
            ]
          },
          "metadata": {
            "tags": []
          },
          "execution_count": 18
        }
      ]
    },
    {
      "metadata": {
        "id": "JkZ9bwReZFVe",
        "colab_type": "text"
      },
      "cell_type": "markdown",
      "source": [
        "#### Evaluate accuracy"
      ]
    },
    {
      "metadata": {
        "id": "DYw6PNPRZIxs",
        "colab_type": "code",
        "colab": {
          "base_uri": "https://localhost:8080/",
          "height": 55
        },
        "outputId": "c722d343-f29a-412f-b5d8-e6774546e412"
      },
      "cell_type": "code",
      "source": [
        "test_loss, test_acc = model.evaluate(test_images, test_labels)\n",
        "\n",
        "print('Test accuracy:', test_acc)"
      ],
      "execution_count": 0,
      "outputs": [
        {
          "output_type": "stream",
          "text": [
            "10000/10000 [==============================] - 0s 27us/step\n",
            "('Test accuracy:', 0.8779)\n"
          ],
          "name": "stdout"
        }
      ]
    },
    {
      "metadata": {
        "id": "LOFTfJcgZTrF",
        "colab_type": "text"
      },
      "cell_type": "markdown",
      "source": [
        "#### Make predictions"
      ]
    },
    {
      "metadata": {
        "id": "TD0M2VU-ZXAM",
        "colab_type": "code",
        "colab": {
          "base_uri": "https://localhost:8080/",
          "height": 74
        },
        "outputId": "bc175c89-829e-4b76-92ce-9f3e6adb4bb4"
      },
      "cell_type": "code",
      "source": [
        "predictions = model.predict(test_images)\n",
        "predictions[0]"
      ],
      "execution_count": 0,
      "outputs": [
        {
          "output_type": "execute_result",
          "data": {
            "text/plain": [
              "array([7.3492383e-06, 3.6656463e-08, 1.3729948e-07, 2.0216341e-08,\n",
              "       3.5886426e-06, 1.3199381e-02, 2.8355205e-05, 6.1611027e-02,\n",
              "       2.6625770e-05, 9.2512345e-01], dtype=float32)"
            ]
          },
          "metadata": {
            "tags": []
          },
          "execution_count": 20
        }
      ]
    },
    {
      "metadata": {
        "id": "Lu0RvrBFZ8J9",
        "colab_type": "code",
        "colab": {
          "base_uri": "https://localhost:8080/",
          "height": 36
        },
        "outputId": "4bdd34b6-1ae1-4342-935b-305d76760eaa"
      },
      "cell_type": "code",
      "source": [
        "np.argmax(predictions[0])"
      ],
      "execution_count": 0,
      "outputs": [
        {
          "output_type": "execute_result",
          "data": {
            "text/plain": [
              "9"
            ]
          },
          "metadata": {
            "tags": []
          },
          "execution_count": 21
        }
      ]
    },
    {
      "metadata": {
        "id": "uoNF8KFoZ9zN",
        "colab_type": "code",
        "colab": {
          "base_uri": "https://localhost:8080/",
          "height": 36
        },
        "outputId": "86f479ad-84ac-4566-c04f-a7285246d3d2"
      },
      "cell_type": "code",
      "source": [
        "test_labels[0]"
      ],
      "execution_count": 0,
      "outputs": [
        {
          "output_type": "execute_result",
          "data": {
            "text/plain": [
              "9"
            ]
          },
          "metadata": {
            "tags": []
          },
          "execution_count": 22
        }
      ]
    },
    {
      "metadata": {
        "id": "C1A_eS1maAU8",
        "colab_type": "code",
        "colab": {
          "base_uri": "https://localhost:8080/",
          "height": 589
        },
        "outputId": "6b192027-1f9d-4748-b805-36b185e98b8a"
      },
      "cell_type": "code",
      "source": [
        "# Plot the first 25 test images, their predicted label, and the true label\n",
        "# Color correct predictions in green, incorrect predictions in red\n",
        "plt.figure(figsize=(10,10))\n",
        "for i in range(25):\n",
        "    plt.subplot(5,5,i+1)\n",
        "    plt.xticks([])\n",
        "    plt.yticks([])\n",
        "    plt.grid('off')\n",
        "    plt.imshow(test_images[i], cmap=plt.cm.binary)\n",
        "    predicted_label = np.argmax(predictions[i])\n",
        "    true_label = test_labels[i]\n",
        "    if predicted_label == true_label:\n",
        "      color = 'green'\n",
        "    else:\n",
        "      color = 'red'\n",
        "    plt.xlabel(\"{} ({})\".format(class_names[predicted_label], \n",
        "                                  class_names[true_label]),\n",
        "                                  color=color)"
      ],
      "execution_count": 0,
      "outputs": [
        {
          "output_type": "display_data",
          "data": {
            "image/png": "[encoded data removed]",
            "text/plain": [
              "<matplotlib.figure.Figure at 0x7f7d872f70d0>"
            ]
          },
          "metadata": {
            "tags": []
          }
        }
      ]
    },
    {
      "metadata": {
        "id": "DjdgXau7agxN",
        "colab_type": "code",
        "colab": {
          "base_uri": "https://localhost:8080/",
          "height": 36
        },
        "outputId": "d1bf14d7-ae6f-4b48-91df-70f4000dcd21"
      },
      "cell_type": "code",
      "source": [
        "# Grab an image from the test dataset\n",
        "img = test_images[0]\n",
        "print(img.shape)"
      ],
      "execution_count": 0,
      "outputs": [
        {
          "output_type": "stream",
          "text": [
            "(28, 28)\n"
          ],
          "name": "stdout"
        }
      ]
    },
    {
      "metadata": {
        "id": "gWugCNJ7akNn",
        "colab_type": "code",
        "colab": {
          "base_uri": "https://localhost:8080/",
          "height": 36
        },
        "outputId": "10334acc-3ace-467a-920e-e561a793648a"
      },
      "cell_type": "code",
      "source": [
        "# Add the image to a batch where it's the only member.\n",
        "img = (np.expand_dims(img,0))\n",
        "print(img.shape)"
      ],
      "execution_count": 0,
      "outputs": [
        {
          "output_type": "stream",
          "text": [
            "(1, 28, 28)\n"
          ],
          "name": "stdout"
        }
      ]
    },
    {
      "metadata": {
        "id": "aybyco2jaoX8",
        "colab_type": "code",
        "colab": {
          "base_uri": "https://localhost:8080/",
          "height": 55
        },
        "outputId": "80c7271c-bee6-4813-88f5-f95e64604da4"
      },
      "cell_type": "code",
      "source": [
        "predictions = model.predict(img)\n",
        "\n",
        "print(predictions)"
      ],
      "execution_count": 0,
      "outputs": [
        {
          "output_type": "stream",
          "text": [
            "[[7.3492383e-06 3.6656463e-08 1.3729974e-07 2.0216341e-08 3.5886392e-06\n",
            "  1.3199394e-02 2.8355205e-05 6.1611027e-02 2.6625770e-05 9.2512345e-01]]\n"
          ],
          "name": "stdout"
        }
      ]
    },
    {
      "metadata": {
        "id": "tZSHADKWarw9",
        "colab_type": "code",
        "colab": {
          "base_uri": "https://localhost:8080/",
          "height": 36
        },
        "outputId": "49748867-04ed-4a31-ac4d-414181e1e2a8"
      },
      "cell_type": "code",
      "source": [
        "prediction = predictions[0]\n",
        "\n",
        "np.argmax(prediction)"
      ],
      "execution_count": 0,
      "outputs": [
        {
          "output_type": "execute_result",
          "data": {
            "text/plain": [
              "9"
            ]
          },
          "metadata": {
            "tags": []
          },
          "execution_count": 27
        }
      ]
    },
    {
      "metadata": {
        "id": "KR2_Ckr1hcHL",
        "colab_type": "text"
      },
      "cell_type": "markdown",
      "source": [
        "###  Classify movie reviews: binary classification"
      ]
    },
    {
      "metadata": {
        "id": "Kz3bKqshhgnU",
        "colab_type": "text"
      },
      "cell_type": "markdown",
      "source": [
        "#### Download the IMDB dataset"
      ]
    },
    {
      "metadata": {
        "id": "VBWmTlo4he6s",
        "colab_type": "code",
        "colab": {}
      },
      "cell_type": "code",
      "source": [
        "imdb = keras.datasets.imdb\n",
        "\n",
        "(train_data, train_labels), (test_data, test_labels) = imdb.load_data(num_words=10000)"
      ],
      "execution_count": 0,
      "outputs": []
    },
    {
      "metadata": {
        "id": "5lJ5cASejJ22",
        "colab_type": "text"
      },
      "cell_type": "markdown",
      "source": [
        "#### Explore the data"
      ]
    },
    {
      "metadata": {
        "id": "upJACI1AiRhI",
        "colab_type": "code",
        "colab": {
          "base_uri": "https://localhost:8080/",
          "height": 36
        },
        "outputId": "0ee6ea70-e709-40a7-c53f-c96ce0517f90"
      },
      "cell_type": "code",
      "source": [
        "print(\"Training entries: {}, labels: {}\".format(len(train_data), len(train_labels)))"
      ],
      "execution_count": 0,
      "outputs": [
        {
          "output_type": "stream",
          "text": [
            "Training entries: 25000, labels: 25000\n"
          ],
          "name": "stdout"
        }
      ]
    },
    {
      "metadata": {
        "id": "r9Ye7-O8iplh",
        "colab_type": "code",
        "colab": {
          "base_uri": "https://localhost:8080/",
          "height": 56
        },
        "outputId": "e9cc3163-cc44-4836-dd1a-cbaa6d47d8b8"
      },
      "cell_type": "code",
      "source": [
        "print(train_data[0])"
      ],
      "execution_count": 0,
      "outputs": [
        {
          "output_type": "stream",
          "text": [
            "[1, 14, 22, 16, 43, 530, 973, 1622, 1385, 65, 458, 4468, 66, 3941, 4, 173, 36, 256, 5, 25, 100, 43, 838, 112, 50, 670, 2, 9, 35, 480, 284, 5, 150, 4, 172, 112, 167, 2, 336, 385, 39, 4, 172, 4536, 1111, 17, 546, 38, 13, 447, 4, 192, 50, 16, 6, 147, 2025, 19, 14, 22, 4, 1920, 4613, 469, 4, 22, 71, 87, 12, 16, 43, 530, 38, 76, 15, 13, 1247, 4, 22, 17, 515, 17, 12, 16, 626, 18, 2, 5, 62, 386, 12, 8, 316, 8, 106, 5, 4, 2223, 5244, 16, 480, 66, 3785, 33, 4, 130, 12, 16, 38, 619, 5, 25, 124, 51, 36, 135, 48, 25, 1415, 33, 6, 22, 12, 215, 28, 77, 52, 5, 14, 407, 16, 82, 2, 8, 4, 107, 117, 5952, 15, 256, 4, 2, 7, 3766, 5, 723, 36, 71, 43, 530, 476, 26, 400, 317, 46, 7, 4, 2, 1029, 13, 104, 88, 4, 381, 15, 297, 98, 32, 2071, 56, 26, 141, 6, 194, 7486, 18, 4, 226, 22, 21, 134, 476, 26, 480, 5, 144, 30, 5535, 18, 51, 36, 28, 224, 92, 25, 104, 4, 226, 65, 16, 38, 1334, 88, 12, 16, 283, 5, 16, 4472, 113, 103, 32, 15, 16, 5345, 19, 178, 32]\n"
          ],
          "name": "stdout"
        }
      ]
    },
    {
      "metadata": {
        "id": "XBvlgW-QjCSI",
        "colab_type": "code",
        "colab": {
          "base_uri": "https://localhost:8080/",
          "height": 36
        },
        "outputId": "22416b24-d03c-4b42-c16c-757e623b188b"
      },
      "cell_type": "code",
      "source": [
        "len(train_data[0]), len(train_data[1])"
      ],
      "execution_count": 0,
      "outputs": [
        {
          "output_type": "execute_result",
          "data": {
            "text/plain": [
              "(218, 189)"
            ]
          },
          "metadata": {
            "tags": []
          },
          "execution_count": 6
        }
      ]
    },
    {
      "metadata": {
        "id": "zGtfTMioml7m",
        "colab_type": "text"
      },
      "cell_type": "markdown",
      "source": [
        "##### Convert the integers back to words"
      ]
    },
    {
      "metadata": {
        "id": "LcRlGjBUmtl1",
        "colab_type": "code",
        "colab": {}
      },
      "cell_type": "code",
      "source": [
        "# A dictionary mapping words to an integer index\n",
        "word_index = imdb.get_word_index()\n",
        "\n",
        "# The first indices are reserved\n",
        "word_index = {k:(v+3) for k,v in word_index.items()} \n",
        "word_index[\"<PAD>\"] = 0\n",
        "word_index[\"<START>\"] = 1\n",
        "word_index[\"<UNK>\"] = 2  # unknown\n",
        "word_index[\"<UNUSED>\"] = 3\n",
        "reverse_word_index = dict([(value, key) for (key, value) in word_index.items()])\n",
        "\n",
        "def decode_review(text):\n",
        "    return ' '.join([reverse_word_index.get(i, '?') for i in text])"
      ],
      "execution_count": 0,
      "outputs": []
    },
    {
      "metadata": {
        "id": "O2QC58Gtq9ZD",
        "colab_type": "code",
        "colab": {
          "base_uri": "https://localhost:8080/",
          "height": 56
        },
        "outputId": "12c9370a-439b-40f5-972c-d112bf25cdd5"
      },
      "cell_type": "code",
      "source": [
        "decode_review(train_data[0])"
      ],
      "execution_count": 0,
      "outputs": [
        {
          "output_type": "execute_result",
          "data": {
            "text/plain": [
              "u\"<START> this film was just brilliant casting location scenery story direction everyone's really suited the part they played and you could just imagine being there robert <UNK> is an amazing actor and now the same being director <UNK> father came from the same scottish island as myself so i loved the fact there was a real connection with this film the witty remarks throughout the film were great it was just brilliant so much that i bought the film as soon as it was released for <UNK> and would recommend it to everyone to watch and the fly fishing was amazing really cried at the end it was so sad and you know what they say if you cry at a film it must have been good and this definitely was also <UNK> to the two little boy's that played the <UNK> of norman and paul they were just brilliant children are often left out of the <UNK> list i think because the stars that play them all grown up are such a big profile for the whole film but these children are amazing and should be praised for what they have done don't you think the whole story was so lovely because it was true and was someone's life after all that was shared with us all\""
            ]
          },
          "metadata": {
            "tags": []
          },
          "execution_count": 9
        }
      ]
    },
    {
      "metadata": {
        "id": "p7xbJH-UC4WL",
        "colab_type": "text"
      },
      "cell_type": "markdown",
      "source": [
        "#### Prepare the data"
      ]
    },
    {
      "metadata": {
        "id": "hjPPMSXqC_fW",
        "colab_type": "code",
        "colab": {}
      },
      "cell_type": "code",
      "source": [
        "train_data = keras.preprocessing.sequence.pad_sequences(train_data,\n",
        "                                                        value=word_index[\"<PAD>\"],\n",
        "                                                        padding='post',\n",
        "                                                        maxlen=256)\n",
        "\n",
        "test_data = keras.preprocessing.sequence.pad_sequences(test_data,\n",
        "                                                       value=word_index[\"<PAD>\"],\n",
        "                                                       padding='post',\n",
        "                                                       maxlen=256)"
      ],
      "execution_count": 0,
      "outputs": []
    },
    {
      "metadata": {
        "id": "-NxrfluJDFuv",
        "colab_type": "code",
        "colab": {
          "base_uri": "https://localhost:8080/",
          "height": 36
        },
        "outputId": "29f7d175-43d6-4dc9-ffe7-42adf0571136"
      },
      "cell_type": "code",
      "source": [
        "len(train_data[0]), len(train_data[1])"
      ],
      "execution_count": 19,
      "outputs": [
        {
          "output_type": "execute_result",
          "data": {
            "text/plain": [
              "(256, 256)"
            ]
          },
          "metadata": {
            "tags": []
          },
          "execution_count": 19
        }
      ]
    },
    {
      "metadata": {
        "id": "mOM7z8wdDI-n",
        "colab_type": "code",
        "colab": {
          "base_uri": "https://localhost:8080/",
          "height": 375
        },
        "outputId": "1a24f1a4-9675-4acc-a969-2853ca6b1beb"
      },
      "cell_type": "code",
      "source": [
        "print(train_data[0])"
      ],
      "execution_count": 20,
      "outputs": [
        {
          "output_type": "stream",
          "text": [
            "[   1   14   22   16   43  530  973 1622 1385   65  458 4468   66 3941\n",
            "    4  173   36  256    5   25  100   43  838  112   50  670    2    9\n",
            "   35  480  284    5  150    4  172  112  167    2  336  385   39    4\n",
            "  172 4536 1111   17  546   38   13  447    4  192   50   16    6  147\n",
            " 2025   19   14   22    4 1920 4613  469    4   22   71   87   12   16\n",
            "   43  530   38   76   15   13 1247    4   22   17  515   17   12   16\n",
            "  626   18    2    5   62  386   12    8  316    8  106    5    4 2223\n",
            " 5244   16  480   66 3785   33    4  130   12   16   38  619    5   25\n",
            "  124   51   36  135   48   25 1415   33    6   22   12  215   28   77\n",
            "   52    5   14  407   16   82    2    8    4  107  117 5952   15  256\n",
            "    4    2    7 3766    5  723   36   71   43  530  476   26  400  317\n",
            "   46    7    4    2 1029   13  104   88    4  381   15  297   98   32\n",
            " 2071   56   26  141    6  194 7486   18    4  226   22   21  134  476\n",
            "   26  480    5  144   30 5535   18   51   36   28  224   92   25  104\n",
            "    4  226   65   16   38 1334   88   12   16  283    5   16 4472  113\n",
            "  103   32   15   16 5345   19  178   32    0    0    0    0    0    0\n",
            "    0    0    0    0    0    0    0    0    0    0    0    0    0    0\n",
            "    0    0    0    0    0    0    0    0    0    0    0    0    0    0\n",
            "    0    0    0    0]\n"
          ],
          "name": "stdout"
        }
      ]
    },
    {
      "metadata": {
        "id": "rLd1R7UvDOkS",
        "colab_type": "text"
      },
      "cell_type": "markdown",
      "source": [
        "#### Build the model"
      ]
    },
    {
      "metadata": {
        "id": "I5mrcXqgDTNH",
        "colab_type": "code",
        "colab": {
          "base_uri": "https://localhost:8080/",
          "height": 300
        },
        "outputId": "5273b056-a4de-4878-de31-ba80aa49fabd"
      },
      "cell_type": "code",
      "source": [
        "# input shape is the vocabulary count used for the movie reviews (10,000 words)\n",
        "vocab_size = 10000\n",
        "\n",
        "model = keras.Sequential()\n",
        "model.add(keras.layers.Embedding(vocab_size, 16))\n",
        "model.add(keras.layers.GlobalAveragePooling1D())\n",
        "model.add(keras.layers.Dense(16, activation=tf.nn.relu))\n",
        "model.add(keras.layers.Dense(1, activation=tf.nn.sigmoid))\n",
        "\n",
        "model.summary()"
      ],
      "execution_count": 21,
      "outputs": [
        {
          "output_type": "stream",
          "text": [
            "_________________________________________________________________\n",
            "Layer (type)                 Output Shape              Param #   \n",
            "=================================================================\n",
            "embedding (Embedding)        (None, None, 16)          160000    \n",
            "_________________________________________________________________\n",
            "global_average_pooling1d (Gl (None, 16)                0         \n",
            "_________________________________________________________________\n",
            "dense_4 (Dense)              (None, 16)                272       \n",
            "_________________________________________________________________\n",
            "dense_5 (Dense)              (None, 1)                 17        \n",
            "=================================================================\n",
            "Total params: 160,289\n",
            "Trainable params: 160,289\n",
            "Non-trainable params: 0\n",
            "_________________________________________________________________\n"
          ],
          "name": "stdout"
        }
      ]
    },
    {
      "metadata": {
        "id": "TiuWzcB-FKat",
        "colab_type": "code",
        "colab": {}
      },
      "cell_type": "code",
      "source": [
        "model.compile(optimizer=tf.train.AdamOptimizer(),\n",
        "              loss='binary_crossentropy',\n",
        "              metrics=['accuracy'])"
      ],
      "execution_count": 0,
      "outputs": []
    },
    {
      "metadata": {
        "id": "EuJWpD9KFPH4",
        "colab_type": "text"
      },
      "cell_type": "markdown",
      "source": [
        "#### Create a validation set"
      ]
    },
    {
      "metadata": {
        "id": "5W-bTbGoFUFY",
        "colab_type": "code",
        "colab": {}
      },
      "cell_type": "code",
      "source": [
        "x_val = train_data[:10000]\n",
        "partial_x_train = train_data[10000:]\n",
        "\n",
        "y_val = train_labels[:10000]\n",
        "partial_y_train = train_labels[10000:]"
      ],
      "execution_count": 0,
      "outputs": []
    },
    {
      "metadata": {
        "id": "rQS7ltoNFaKf",
        "colab_type": "text"
      },
      "cell_type": "markdown",
      "source": [
        "#### Train the model"
      ]
    },
    {
      "metadata": {
        "id": "7kPpCQV7Fdgy",
        "colab_type": "code",
        "colab": {
          "base_uri": "https://localhost:8080/",
          "height": 1565
        },
        "outputId": "d3cc59b4-2240-4c5b-9cdc-c32bfc1bb0c0"
      },
      "cell_type": "code",
      "source": [
        "history = model.fit(partial_x_train,\n",
        "                    partial_y_train,\n",
        "                    epochs=40,\n",
        "                    batch_size=512,\n",
        "                    validation_data=(x_val, y_val),\n",
        "                    verbose=1)"
      ],
      "execution_count": 24,
      "outputs": [
        {
          "output_type": "stream",
          "text": [
            "Train on 15000 samples, validate on 10000 samples\n",
            "Epoch 1/40\n",
            "15000/15000 [==============================] - 1s 73us/step - loss: 0.6928 - acc: 0.5211 - val_loss: 0.6907 - val_acc: 0.5274\n",
            "Epoch 2/40\n",
            "15000/15000 [==============================] - 1s 51us/step - loss: 0.6892 - acc: 0.5601 - val_loss: 0.6878 - val_acc: 0.5989\n",
            "Epoch 3/40\n",
            "15000/15000 [==============================] - 1s 52us/step - loss: 0.6860 - acc: 0.6026 - val_loss: 0.6850 - val_acc: 0.6123\n",
            "Epoch 4/40\n",
            "15000/15000 [==============================] - 1s 61us/step - loss: 0.6821 - acc: 0.6429 - val_loss: 0.6819 - val_acc: 0.5653\n",
            "Epoch 5/40\n",
            "15000/15000 [==============================] - 1s 61us/step - loss: 0.6769 - acc: 0.6603 - val_loss: 0.6751 - val_acc: 0.6734\n",
            "Epoch 6/40\n",
            "15000/15000 [==============================] - 1s 60us/step - loss: 0.6697 - acc: 0.7019 - val_loss: 0.6675 - val_acc: 0.7003\n",
            "Epoch 7/40\n",
            "15000/15000 [==============================] - 1s 61us/step - loss: 0.6599 - acc: 0.7196 - val_loss: 0.6577 - val_acc: 0.7065\n",
            "Epoch 8/40\n",
            "15000/15000 [==============================] - 1s 61us/step - loss: 0.6472 - acc: 0.7329 - val_loss: 0.6450 - val_acc: 0.7193\n",
            "Epoch 9/40\n",
            "15000/15000 [==============================] - 1s 60us/step - loss: 0.6316 - acc: 0.7451 - val_loss: 0.6286 - val_acc: 0.7387\n",
            "Epoch 10/40\n",
            " 1536/15000 [==>...........................] - ETA: 0s - loss: 0.6224 - acc: 0.7552"
          ],
          "name": "stdout"
        },
        {
          "output_type": "stream",
          "text": [
            "15000/15000 [==============================] - 1s 61us/step - loss: 0.6122 - acc: 0.7630 - val_loss: 0.6096 - val_acc: 0.7524\n",
            "Epoch 11/40\n",
            "15000/15000 [==============================] - 1s 60us/step - loss: 0.5903 - acc: 0.7669 - val_loss: 0.5900 - val_acc: 0.7563\n",
            "Epoch 12/40\n",
            "15000/15000 [==============================] - 1s 61us/step - loss: 0.5656 - acc: 0.7834 - val_loss: 0.5652 - val_acc: 0.7761\n",
            "Epoch 13/40\n",
            "15000/15000 [==============================] - 1s 60us/step - loss: 0.5385 - acc: 0.8007 - val_loss: 0.5412 - val_acc: 0.7896\n",
            "Epoch 14/40\n",
            "15000/15000 [==============================] - 1s 60us/step - loss: 0.5112 - acc: 0.8143 - val_loss: 0.5160 - val_acc: 0.8015\n",
            "Epoch 15/40\n",
            "15000/15000 [==============================] - 1s 61us/step - loss: 0.4835 - acc: 0.8274 - val_loss: 0.4908 - val_acc: 0.8117\n",
            "Epoch 16/40\n",
            "15000/15000 [==============================] - 1s 60us/step - loss: 0.4569 - acc: 0.8363 - val_loss: 0.4674 - val_acc: 0.8211\n",
            "Epoch 17/40\n",
            "15000/15000 [==============================] - 1s 62us/step - loss: 0.4305 - acc: 0.8494 - val_loss: 0.4457 - val_acc: 0.8312\n",
            "Epoch 18/40\n",
            "15000/15000 [==============================] - 1s 61us/step - loss: 0.4067 - acc: 0.8581 - val_loss: 0.4252 - val_acc: 0.8400\n",
            "Epoch 19/40\n",
            " 5632/15000 [==========>...................] - ETA: 0s - loss: 0.3912 - acc: 0.8679"
          ],
          "name": "stdout"
        },
        {
          "output_type": "stream",
          "text": [
            "15000/15000 [==============================] - 1s 61us/step - loss: 0.3849 - acc: 0.8685 - val_loss: 0.4073 - val_acc: 0.8465\n",
            "Epoch 20/40\n",
            "15000/15000 [==============================] - 1s 60us/step - loss: 0.3654 - acc: 0.8765 - val_loss: 0.3916 - val_acc: 0.8514\n",
            "Epoch 21/40\n",
            "15000/15000 [==============================] - 1s 60us/step - loss: 0.3477 - acc: 0.8810 - val_loss: 0.3778 - val_acc: 0.8574\n",
            "Epoch 22/40\n",
            "15000/15000 [==============================] - 1s 60us/step - loss: 0.3320 - acc: 0.8859 - val_loss: 0.3660 - val_acc: 0.8611\n",
            "Epoch 23/40\n",
            "15000/15000 [==============================] - 1s 61us/step - loss: 0.3181 - acc: 0.8902 - val_loss: 0.3561 - val_acc: 0.8620\n",
            "Epoch 24/40\n",
            "15000/15000 [==============================] - 1s 60us/step - loss: 0.3052 - acc: 0.8935 - val_loss: 0.3468 - val_acc: 0.8667\n",
            "Epoch 25/40\n",
            "15000/15000 [==============================] - 1s 60us/step - loss: 0.2938 - acc: 0.8981 - val_loss: 0.3390 - val_acc: 0.8687\n",
            "Epoch 26/40\n",
            "15000/15000 [==============================] - 1s 61us/step - loss: 0.2832 - acc: 0.9007 - val_loss: 0.3325 - val_acc: 0.8711\n",
            "Epoch 27/40\n",
            "15000/15000 [==============================] - 1s 60us/step - loss: 0.2740 - acc: 0.9029 - val_loss: 0.3263 - val_acc: 0.8730\n",
            "Epoch 28/40\n",
            " 4608/15000 [========>.....................] - ETA: 0s - loss: 0.2648 - acc: 0.9082"
          ],
          "name": "stdout"
        },
        {
          "output_type": "stream",
          "text": [
            "15000/15000 [==============================] - 1s 61us/step - loss: 0.2647 - acc: 0.9069 - val_loss: 0.3208 - val_acc: 0.8747\n",
            "Epoch 29/40\n",
            "15000/15000 [==============================] - 1s 60us/step - loss: 0.2565 - acc: 0.9097 - val_loss: 0.3164 - val_acc: 0.8750\n",
            "Epoch 30/40\n",
            "15000/15000 [==============================] - 1s 60us/step - loss: 0.2496 - acc: 0.9101 - val_loss: 0.3121 - val_acc: 0.8775\n",
            "Epoch 31/40\n",
            "15000/15000 [==============================] - 1s 60us/step - loss: 0.2415 - acc: 0.9146 - val_loss: 0.3087 - val_acc: 0.8788\n",
            "Epoch 32/40\n",
            "15000/15000 [==============================] - 1s 60us/step - loss: 0.2353 - acc: 0.9171 - val_loss: 0.3055 - val_acc: 0.8792\n",
            "Epoch 33/40\n",
            "15000/15000 [==============================] - 1s 61us/step - loss: 0.2281 - acc: 0.9193 - val_loss: 0.3026 - val_acc: 0.8792\n",
            "Epoch 34/40\n",
            "15000/15000 [==============================] - 1s 61us/step - loss: 0.2221 - acc: 0.9220 - val_loss: 0.3003 - val_acc: 0.8798\n",
            "Epoch 35/40\n",
            "15000/15000 [==============================] - 1s 61us/step - loss: 0.2168 - acc: 0.9226 - val_loss: 0.2978 - val_acc: 0.8818\n",
            "Epoch 36/40\n",
            "15000/15000 [==============================] - 1s 60us/step - loss: 0.2106 - acc: 0.9261 - val_loss: 0.2960 - val_acc: 0.8812\n",
            "Epoch 37/40\n",
            " 2560/15000 [====>.........................] - ETA: 0s - loss: 0.2079 - acc: 0.9289\b\b\b\b\b\b\b\b\b\b\b\b\b\b\b\b\b\b\b\b\b\b\b\b\b\b\b\b\b\b\b\b\b\b\b\b\b\b\b\b\b\b\b\b\b\b\b\b\b\b\b\b\b\b\b\b\b\b\b\b\b\b\b\b\b\b\b\b\b\b\b\b\b\b\b\b\b\b\b\b\b\b\b"
          ],
          "name": "stdout"
        },
        {
          "output_type": "stream",
          "text": [
            "15000/15000 [==============================] - 1s 61us/step - loss: 0.2053 - acc: 0.9279 - val_loss: 0.2943 - val_acc: 0.8820\n",
            "Epoch 38/40\n",
            "15000/15000 [==============================] - 1s 61us/step - loss: 0.2003 - acc: 0.9291 - val_loss: 0.2924 - val_acc: 0.8842\n",
            "Epoch 39/40\n",
            "15000/15000 [==============================] - 1s 62us/step - loss: 0.1950 - acc: 0.9311 - val_loss: 0.2911 - val_acc: 0.8842\n",
            "Epoch 40/40\n",
            "15000/15000 [==============================] - 1s 61us/step - loss: 0.1904 - acc: 0.9334 - val_loss: 0.2897 - val_acc: 0.8839\n"
          ],
          "name": "stdout"
        }
      ]
    },
    {
      "metadata": {
        "id": "mQuvoq_eGSdG",
        "colab_type": "text"
      },
      "cell_type": "markdown",
      "source": [
        "#### Evaluate the model"
      ]
    },
    {
      "metadata": {
        "id": "0mwQaVd1GW2X",
        "colab_type": "code",
        "colab": {
          "base_uri": "https://localhost:8080/",
          "height": 55
        },
        "outputId": "c50510b5-d2c3-4b68-95de-7d41c1a9ec18"
      },
      "cell_type": "code",
      "source": [
        "results = model.evaluate(test_data, test_labels)\n",
        "\n",
        "print(results)"
      ],
      "execution_count": 25,
      "outputs": [
        {
          "output_type": "stream",
          "text": [
            "25000/25000 [==============================] - 1s 31us/step\n",
            "[0.30571386238098147, 0.87384]\n"
          ],
          "name": "stdout"
        }
      ]
    },
    {
      "metadata": {
        "id": "LeQjxH33GeoI",
        "colab_type": "text"
      },
      "cell_type": "markdown",
      "source": [
        "#### Create a graph of accuracy and loss over time"
      ]
    },
    {
      "metadata": {
        "id": "llA1ZH2FGhV2",
        "colab_type": "code",
        "colab": {
          "base_uri": "https://localhost:8080/",
          "height": 36
        },
        "outputId": "0854c813-175b-47aa-9d67-e4402d58580c"
      },
      "cell_type": "code",
      "source": [
        "history_dict = history.history\n",
        "history_dict.keys()"
      ],
      "execution_count": 26,
      "outputs": [
        {
          "output_type": "execute_result",
          "data": {
            "text/plain": [
              "['acc', 'loss', 'val_acc', 'val_loss']"
            ]
          },
          "metadata": {
            "tags": []
          },
          "execution_count": 26
        }
      ]
    },
    {
      "metadata": {
        "id": "9aYhbPbcGlIy",
        "colab_type": "code",
        "colab": {
          "base_uri": "https://localhost:8080/",
          "height": 376
        },
        "outputId": "43bea2f2-7af6-447e-e63e-a5287b078db6"
      },
      "cell_type": "code",
      "source": [
        "import matplotlib.pyplot as plt\n",
        "\n",
        "acc = history.history['acc']\n",
        "val_acc = history.history['val_acc']\n",
        "loss = history.history['loss']\n",
        "val_loss = history.history['val_loss']\n",
        "\n",
        "epochs = range(1, len(acc) + 1)\n",
        "\n",
        "# \"bo\" is for \"blue dot\"\n",
        "plt.plot(epochs, loss, 'bo', label='Training loss')\n",
        "# b is for \"solid blue line\"\n",
        "plt.plot(epochs, val_loss, 'b', label='Validation loss')\n",
        "plt.title('Training and validation loss')\n",
        "plt.xlabel('Epochs')\n",
        "plt.ylabel('Loss')\n",
        "plt.legend()\n",
        "\n",
        "plt.show()"
      ],
      "execution_count": 27,
      "outputs": [
        {
          "output_type": "display_data",
          "data": {
            "image/png": "[encoded data removed]",
            "text/plain": [
              "<matplotlib.figure.Figure at 0x7fc2890a9d90>"
            ]
          },
          "metadata": {
            "tags": []
          }
        }
      ]
    },
    {
      "metadata": {
        "id": "5d7NbNDwHVTO",
        "colab_type": "code",
        "colab": {
          "base_uri": "https://localhost:8080/",
          "height": 376
        },
        "outputId": "ee563886-9eb8-4f23-f8e0-ba195ed26cf4"
      },
      "cell_type": "code",
      "source": [
        "plt.clf()   # clear figure\n",
        "acc_values = history_dict['acc']\n",
        "val_acc_values = history_dict['val_acc']\n",
        "\n",
        "plt.plot(epochs, acc, 'bo', label='Training acc')\n",
        "plt.plot(epochs, val_acc, 'b', label='Validation acc')\n",
        "plt.title('Training and validation accuracy')\n",
        "plt.xlabel('Epochs')\n",
        "plt.ylabel('Accuracy')\n",
        "plt.legend()\n",
        "\n",
        "plt.show()"
      ],
      "execution_count": 28,
      "outputs": [
        {
          "output_type": "display_data",
          "data": {
            "image/png": "[encoded data removed]",
            "text/plain": [
              "<matplotlib.figure.Figure at 0x7fc2890a9c10>"
            ]
          },
          "metadata": {
            "tags": []
          }
        }
      ]
    }
  ]
}