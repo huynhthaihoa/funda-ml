{
  "nbformat": 4,
  "nbformat_minor": 0,
  "metadata": {
    "colab": {
      "name": "TensorFlow.ipynb",
      "version": "0.3.2",
      "provenance": []
    },
    "kernelspec": {
      "display_name": "Python 3.6",
      "language": "python",
      "name": "python36"
    }
  },
  "cells": [
    {
      "metadata": {
        "id": "wcgRNWeOHEeI",
        "colab_type": "text"
      },
      "cell_type": "markdown",
      "source": [
        "# Get started with TensorFlow"
      ]
    },
    {
      "metadata": {
        "id": "oSWv-TrTHEeN",
        "colab_type": "code",
        "colab": {
          "base_uri": "https://localhost:8080/",
          "height": 263
        },
        "outputId": "fdeadec3-6518-4ce9-ab99-e98a68e17ebf"
      },
      "cell_type": "code",
      "source": [
        "import tensorflow as tf\n",
        "mnist = tf.keras.datasets.mnist\n",
        "\n",
        "(x_train, y_train),(x_test, y_test) = mnist.load_data()\n",
        "x_train, x_test = x_train / 255.0, x_test / 255.0\n",
        "\n",
        "model = tf.keras.models.Sequential([\n",
        "  tf.keras.layers.Flatten(),\n",
        "  tf.keras.layers.Dense(512, activation=tf.nn.relu),\n",
        "  tf.keras.layers.Dropout(0.2),\n",
        "  tf.keras.layers.Dense(10, activation=tf.nn.softmax)\n",
        "])\n",
        "model.compile(optimizer='adam',\n",
        "              loss='sparse_categorical_crossentropy',\n",
        "              metrics=['accuracy'])\n",
        "\n",
        "model.fit(x_train, y_train, epochs=5)\n",
        "model.evaluate(x_test, y_test)"
      ],
      "execution_count": 1,
      "outputs": [
        {
          "output_type": "stream",
          "text": [
            "Epoch 1/5\n",
            "60000/60000 [==============================] - 17s 277us/step - loss: 0.2160 - acc: 0.9354\n",
            "Epoch 2/5\n",
            "60000/60000 [==============================] - 16s 274us/step - loss: 0.0985 - acc: 0.9698\n",
            "Epoch 3/5\n",
            " 6400/60000 [==>...........................] - ETA: 14s - loss: 0.0670 - acc: 0.9800"
          ],
          "name": "stdout"
        },
        {
          "output_type": "stream",
          "text": [
            "60000/60000 [==============================] - 16s 269us/step - loss: 0.0695 - acc: 0.9782\n",
            "Epoch 4/5\n",
            "60000/60000 [==============================] - 16s 269us/step - loss: 0.0523 - acc: 0.9833\n",
            "Epoch 5/5\n",
            "13696/60000 [=====>........................] - ETA: 12s - loss: 0.0408 - acc: 0.9868"
          ],
          "name": "stdout"
        },
        {
          "output_type": "stream",
          "text": [
            "60000/60000 [==============================] - 16s 268us/step - loss: 0.0440 - acc: 0.9854\n",
            "10000/10000 [==============================] - 1s 55us/step\n"
          ],
          "name": "stdout"
        },
        {
          "output_type": "execute_result",
          "data": {
            "text/plain": [
              "[0.06946162365193013, 0.9805]"
            ]
          },
          "metadata": {
            "tags": []
          },
          "execution_count": 1
        }
      ]
    },
    {
      "metadata": {
        "id": "9seGyOg3HEeg",
        "colab_type": "text"
      },
      "cell_type": "markdown",
      "source": [
        "## Learn and use ML"
      ]
    },
    {
      "metadata": {
        "id": "e06MkP51HEej",
        "colab_type": "code",
        "colab": {}
      },
      "cell_type": "code",
      "source": [
        ""
      ],
      "execution_count": 0,
      "outputs": []
    }
  ]
}