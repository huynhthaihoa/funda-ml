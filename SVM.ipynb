{
 "cells": [
  {
   "cell_type": "code",
   "execution_count": 1,
   "metadata": {},
   "outputs": [
    {
     "ename": "ImportError",
     "evalue": "DLL load failed: The specified module could not be found.",
     "output_type": "error",
     "traceback": [
      "\u001b[1;31m---------------------------------------------------------------------------\u001b[0m",
      "\u001b[1;31mImportError\u001b[0m                               Traceback (most recent call last)",
      "\u001b[1;32m<ipython-input-1-35cf151a20e7>\u001b[0m in \u001b[0;36m<module>\u001b[1;34m()\u001b[0m\n\u001b[0;32m      1\u001b[0m \u001b[1;32mfrom\u001b[0m \u001b[0m__future__\u001b[0m \u001b[1;32mimport\u001b[0m \u001b[0mprint_function\u001b[0m\u001b[1;33m\u001b[0m\u001b[0m\n\u001b[0;32m      2\u001b[0m \u001b[1;32mimport\u001b[0m \u001b[0mnumpy\u001b[0m \u001b[1;32mas\u001b[0m \u001b[0mnp\u001b[0m\u001b[1;33m\u001b[0m\u001b[0m\n\u001b[1;32m----> 3\u001b[1;33m \u001b[1;32mimport\u001b[0m \u001b[0mcvxopt\u001b[0m\u001b[1;33m\u001b[0m\u001b[0m\n\u001b[0m\u001b[0;32m      4\u001b[0m \u001b[0mnp\u001b[0m\u001b[1;33m.\u001b[0m\u001b[0mrandom\u001b[0m\u001b[1;33m.\u001b[0m\u001b[0mseed\u001b[0m\u001b[1;33m(\u001b[0m\u001b[1;36m22\u001b[0m\u001b[1;33m)\u001b[0m\u001b[1;33m\u001b[0m\u001b[0m\n\u001b[0;32m      5\u001b[0m \u001b[1;31m# simulated samples\u001b[0m\u001b[1;33m\u001b[0m\u001b[1;33m\u001b[0m\u001b[0m\n",
      "\u001b[1;32mc:\\python36\\lib\\site-packages\\cvxopt\\__init__.py\u001b[0m in \u001b[0;36m<module>\u001b[1;34m()\u001b[0m\n\u001b[0;32m     48\u001b[0m along with this program.  If not, see <http://www.gnu.org/licenses/>.\"\"\"\n\u001b[0;32m     49\u001b[0m \u001b[1;33m\u001b[0m\u001b[0m\n\u001b[1;32m---> 50\u001b[1;33m \u001b[1;32mimport\u001b[0m \u001b[0mcvxopt\u001b[0m\u001b[1;33m.\u001b[0m\u001b[0mbase\u001b[0m\u001b[1;33m\u001b[0m\u001b[0m\n\u001b[0m\u001b[0;32m     51\u001b[0m \u001b[1;33m\u001b[0m\u001b[0m\n\u001b[0;32m     52\u001b[0m \u001b[1;32mdef\u001b[0m \u001b[0mcopyright\u001b[0m\u001b[1;33m(\u001b[0m\u001b[1;33m)\u001b[0m\u001b[1;33m:\u001b[0m\u001b[1;33m\u001b[0m\u001b[0m\n",
      "\u001b[1;31mImportError\u001b[0m: DLL load failed: The specified module could not be found."
     ]
    }
   ],
   "source": [
    "from __future__ import print_function\n",
    "import numpy as np\n",
    "import cvxopt\n",
    "np.random.seed(22)\n",
    "# simulated samples\n",
    "means = [[2, 2], [4, 2]]\n",
    "cov = [[.3, .2], [.2, .3]]\n",
    "N = 10\n",
    "X0 = np.random.multivariate_normal(means[0], cov, N) # blue class data\n",
    "X1 = np.random.multivariate_normal(means[1], cov, N) # red class data\n",
    "X = np.concatenate((X0, X1), axis = 0) # all data\n",
    "y = np.concatenate((np.ones(N), -np.ones(N)), axis = 0) # label\n",
    "# solving the dual problem (variable: lambda)\n",
    "from cvxopt import matrix, solvers\n",
    "V = np.concatenate((X0, -X1), axis = 0) # V in the book\n",
    "Q = matrix(V.dot(V.T))\n",
    "p = matrix(-np.ones((2*N, 1))) # objective function 1/2 lambda^T*Q*lambda - 1^T*lambda\n",
    "# build A, b, G, h\n",
    "G = matrix(-np.eye(2*N))\n",
    "h = matrix(np.zeros((2*N, 1)))\n",
    "A = matrix(y.reshape(1, -1))\n",
    "b = matrix(np.zeros((1, 1)))\n",
    "solvers.options['show_progress'] = False\n",
    "sol = solvers.qp(Q, p, G, h, A, b)\n",
    "l = np.array(sol['x']) # solution lambda\n",
    "# calculate w and b\n",
    "w = Xbar.T.dot(l)\n",
    "S = np.where(l > 1e-8)[0] # support set, 1e-8 to avoid small value of l.\n",
    "b = np.mean(y[S].reshape(-1, 1) - X[S,:].dot(w))\n",
    "print('Number of suport vectors = ', S.size)\n",
    "print('w = ', w.T)\n",
    "print('b = ', b)"
   ]
  },
  {
   "cell_type": "code",
   "execution_count": null,
   "metadata": {},
   "outputs": [],
   "source": []
  },
  {
   "cell_type": "code",
   "execution_count": null,
   "metadata": {},
   "outputs": [],
   "source": []
  }
 ],
 "metadata": {
  "kernelspec": {
   "display_name": "Python 3",
   "language": "python",
   "name": "python3"
  },
  "language_info": {
   "codemirror_mode": {
    "name": "ipython",
    "version": 3
   },
   "file_extension": ".py",
   "mimetype": "text/x-python",
   "name": "python",
   "nbconvert_exporter": "python",
   "pygments_lexer": "ipython3",
   "version": "3.6.2"
  }
 },
 "nbformat": 4,
 "nbformat_minor": 2
}
