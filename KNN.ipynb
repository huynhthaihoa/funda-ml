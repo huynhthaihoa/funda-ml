{
 "cells": [
  {
   "cell_type": "code",
   "execution_count": 2,
   "metadata": {},
   "outputs": [
    {
     "name": "stdout",
     "output_type": "stream",
     "text": [
      "naive point2set, running time: 0.11594009399414062 s\n",
      "fast point2set , running time: 0.1159212589263916 s\n",
      "Result difference: 1.7371408325665523e-11\n"
     ]
    }
   ],
   "source": [
    "from __future__ import print_function\n",
    "import numpy as np\n",
    "from time import time # for comparing runing time\n",
    "d, N = 1000, 10000 # dimension, number of training points\n",
    "X = np.random.randn(N, d) # N d-dimensional points\n",
    "z = np.random.randn(d)\n",
    "# naively compute square distance between two vector\n",
    "def dist_pp(z, x):\n",
    " d = z - x.reshape(z.shape) # force x and z to have the same dims\n",
    " return np.sum(d*d)\n",
    "\n",
    "# from one point to each point in a set, naive\n",
    "def dist_ps_naive(z, X):\n",
    " N = X.shape[0]\n",
    " res = np.zeros((1, N))\n",
    " for i in range(N):\n",
    "  res[0][i] = dist_pp(z, X[i])\n",
    " return res\n",
    "\n",
    "# from one point to each point in a set, fast\n",
    "def dist_ps_fast(z, X):\n",
    " X2 = np.sum(X*X, 1) # square of l2 norm of each ROW of X\n",
    " z2 = np.sum(z*z) # square of l2 norm of z\n",
    " return X2 + z2 - 2*X.dot(z) # z2 can be ignored\n",
    "\n",
    "t1 = time()\n",
    "D1 = dist_ps_naive(z, X)\n",
    "print('naive point2set, running time:', time() - t1, 's')\n",
    "t1 = time()\n",
    "D2 = dist_ps_fast(z, X)\n",
    "print('fast point2set , running time:', time() - t1, 's')\n",
    "print('Result difference:', np.linalg.norm(D1 - D2))"
   ]
  },
  {
   "cell_type": "code",
   "execution_count": 4,
   "metadata": {},
   "outputs": [
    {
     "name": "stdout",
     "output_type": "stream",
     "text": [
      "half fast set2set running time: 7.072688341140747 s\n",
      "fast set2set running time 0.20053696632385254 s\n"
     ]
    }
   ],
   "source": [
    "M = 100\n",
    "Z = np.random.randn(M, d)\n",
    "# from each point in one set to each point in another set, half fast\n",
    "def dist_ss_0(Z, X):\n",
    " M = Z.shape[0]\n",
    " N = X.shape[0]\n",
    " res = np.zeros((M, N))\n",
    " for i in range(M):\n",
    "  res[i] = dist_ps_fast(Z[i], X)\n",
    " return res\n",
    "\n",
    "# from each point in one set to each point in another set, fast\n",
    "def dist_ss_fast(Z, X):\n",
    " X2 = np.sum(X*X, 1) # square of l2 norm of each ROW of X\n",
    " Z2 = np.sum(Z*Z, 1) # square of l2 norm of each ROW of Z\n",
    " return Z2.reshape(-1, 1) + X2.reshape(1, -1) - 2*Z.dot(X.T)\n",
    "\n",
    "t1 = time()\n",
    "D3 = dist_ss_0(Z, X)\n",
    "print('half fast set2set running time:', time() - t1, 's')\n",
    "t1 = time()\n",
    "D4 = dist_ss_fast(Z, X)\n",
    "print('fast set2set running time', time() - t1, 's')"
   ]
  },
  {
   "cell_type": "code",
   "execution_count": 15,
   "metadata": {},
   "outputs": [
    {
     "name": "stdout",
     "output_type": "stream",
     "text": [
      "Labels: [0 1 2]\n",
      "Train size: 20 , test size: 130\n",
      "Accuracy of 1NN: 92.31 %\n",
      "Accuracy of 7NN with major voting: 93.85 %\n",
      "Accuracy of 7NN (1 / distance weights): 94.62 %\n",
      "Accuracy of 7NN (customized weights): 95.38 %\n"
     ]
    }
   ],
   "source": [
    "from __future__ import print_function\n",
    "import numpy as np\n",
    "from sklearn import neighbors, datasets\n",
    "from sklearn.model_selection import train_test_split # for splitting data\n",
    "from sklearn.metrics import accuracy_score # for evaluating results\n",
    "np.random.seed(7)\n",
    "iris = datasets.load_iris()\n",
    "iris_X = iris.data\n",
    "iris_y = iris.target\n",
    "print('Labels:', np.unique(iris_y))\n",
    "# split train and test\n",
    "X_train, X_test, y_train, y_test = train_test_split(iris_X, iris_y, test_size=130)\n",
    "print('Train size:', X_train.shape[0], ', test size:', X_test.shape[0])\n",
    "model = neighbors.KNeighborsClassifier(n_neighbors = 1, p = 2)\n",
    "model.fit(X_train, y_train)\n",
    "y_pred = model.predict(X_test)\n",
    "print(\"Accuracy of 1NN: %.2f %%\" %(100 * accuracy_score(y_test, y_pred)))\n",
    "model = neighbors.KNeighborsClassifier(n_neighbors = 7, p = 2)\n",
    "model.fit(X_train, y_train)\n",
    "y_pred = model.predict(X_test)\n",
    "print(\"Accuracy of 7NN with major voting: %.2f %%\" % (100 * accuracy_score(y_test, y_pred)))\n",
    "model = neighbors.KNeighborsClassifier(n_neighbors = 7, p = 2, weights = 'distance')\n",
    "model.fit(X_train, y_train)\n",
    "y_pred = model.predict(X_test)\n",
    "print(\"Accuracy of 7NN (1 / distance weights): %.2f %%\" % (100 * accuracy_score(y_test, y_pred)))\n",
    "\n",
    "def myweight(distances):\n",
    " sigma2 = .4 # we can change this number\n",
    " return np.exp(-distances**2/sigma2)\n",
    "\n",
    "model = neighbors.KNeighborsClassifier(n_neighbors = 7, p = 2, weights = myweight)\n",
    "model.fit(X_train, y_train)\n",
    "y_pred = model.predict(X_test)\n",
    "print(\"Accuracy of 7NN (customized weights): %.2f %%\" % (100 * accuracy_score(y_test, y_pred)))"
   ]
  },
  {
   "cell_type": "code",
   "execution_count": null,
   "metadata": {},
   "outputs": [],
   "source": []
  }
 ],
 "metadata": {
  "kernelspec": {
   "display_name": "Python 3",
   "language": "python",
   "name": "python3"
  },
  "language_info": {
   "codemirror_mode": {
    "name": "ipython",
    "version": 3
   },
   "file_extension": ".py",
   "mimetype": "text/x-python",
   "name": "python",
   "nbconvert_exporter": "python",
   "pygments_lexer": "ipython3",
   "version": "3.6.2"
  }
 },
 "nbformat": 4,
 "nbformat_minor": 2
}
